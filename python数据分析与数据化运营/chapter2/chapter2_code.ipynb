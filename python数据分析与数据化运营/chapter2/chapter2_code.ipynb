{
 "cells": [
  {
   "cell_type": "markdown",
   "metadata": {},
   "source": [
    "![](http://www.dataivy.cn/book/images/head.png)\n",
    "<table align=\"center\" bgcolor=\"#FFFFFF\" border=\"0px\">\n",
    "   <tr bgcolor=\"#FFFFFF\">\n",
    "      <td><img src=\"http://www.dataivy.cn/book/images/release_date.svg\"></td>\n",
    "      <td><img src=\"http://www.dataivy.cn/book/images/python-3.7-green.svg\"></td>\n",
    "      <td><a href=\"http://www.dataivy.cn/blog/python_book_faq/\"><img src=\"http://www.dataivy.cn/book/images/faq-visit_site-blue.svg\"></a></td>\n",
    "      <td><a href=\"http://www.dataivy.cn/blog/python_book_knows_issues/\"><img src=\"http://www.dataivy.cn/book/images/known_issues.svg\"></a></td>\n",
    "   </tr>\n",
    "</table>\n",
    "\n",
    "\n",
    "<hr />"
   ]
  },
  {
   "cell_type": "markdown",
   "metadata": {},
   "source": [
    "<div align=\"center\"><h1> 第二章&nbsp;&nbsp;数据化运营的数据来源</h1></div>"
   ]
  },
  {
   "cell_type": "markdown",
   "metadata": {},
   "source": [
    "# 一、说明"
   ]
  },
  {
   "cell_type": "markdown",
   "metadata": {
    "collapsed": true
   },
   "source": [
    "- 描述：使用Python获取运营数据和内容延伸源代码\n",
    "- 时间：2019-01-01\n",
    "- 作者：宋天龙（Tony Song）\n",
    "- 程序开发环境：win7 64位\n",
    "- Python版本：64位 3.7\n",
    "- 依赖库：具体查看各模块\n",
    "- 程序输入：具体查看各模块\n",
    "- 程序输出：具体查看各模块"
   ]
  },
  {
   "cell_type": "markdown",
   "metadata": {},
   "source": [
    "# 二、程序"
   ]
  },
  {
   "cell_type": "code",
   "execution_count": 1,
   "metadata": {},
   "outputs": [],
   "source": [
    "%matplotlib inline\n",
    "%config InlineBackend.figure_format='retina'"
   ]
  },
  {
   "cell_type": "markdown",
   "metadata": {},
   "source": [
    "## 2.2.1 从文本文件读取运营数据"
   ]
  },
  {
   "cell_type": "markdown",
   "metadata": {},
   "source": [
    "### 1. 使用read、readline、readlines读取数据"
   ]
  },
  {
   "cell_type": "code",
   "execution_count": 2,
   "metadata": {},
   "outputs": [
    {
     "name": "stdout",
     "output_type": "stream",
     "text": [
      "line1: This is line1\n",
      "line2: This is line2\n"
     ]
    }
   ],
   "source": [
    "file_name = 'text.txt'\n",
    "\n",
    "file_object = open(file_name)\n",
    "read_data = file_object.read()\n",
    "print(read_data)"
   ]
  },
  {
   "cell_type": "code",
   "execution_count": 3,
   "metadata": {},
   "outputs": [
    {
     "name": "stdout",
     "output_type": "stream",
     "text": [
      "line1: This is line1\n",
      "\n"
     ]
    }
   ],
   "source": [
    "file_object = open(file_name)\n",
    "readline_data = file_object.readline()\n",
    "print(readline_data)"
   ]
  },
  {
   "cell_type": "code",
   "execution_count": 4,
   "metadata": {},
   "outputs": [
    {
     "name": "stdout",
     "output_type": "stream",
     "text": [
      "['line1: This is line1\\n', 'line2: This is line2']\n"
     ]
    }
   ],
   "source": [
    "file_object = open(file_name)\n",
    "readlines_data = file_object.readlines()\n",
    "print(readlines_data)"
   ]
  },
  {
   "cell_type": "code",
   "execution_count": 5,
   "metadata": {},
   "outputs": [
    {
     "name": "stdout",
     "output_type": "stream",
     "text": [
      "0\n",
      "line1: This is line1\n",
      "\n",
      "22\n",
      "line2: This is line2\n",
      "42\n"
     ]
    }
   ],
   "source": [
    "fn = open('text.txt')  # 获得文件对象\n",
    "print(fn.tell())  # 输出指针位置\n",
    "line1 = fn.readline()  # 获得文件第一行数据\n",
    "print(line1)  # 输出第一行数据\n",
    "print(fn.tell())  # 输出指针位置\n",
    "line2 = fn.readline()  # 获得文件第二行数据\n",
    "print(line2)  # 输出第二行数据\n",
    "print(fn.tell())  # 输出指针位置\n",
    "fn.close()  # 关闭文件对象"
   ]
  },
  {
   "cell_type": "markdown",
   "metadata": {},
   "source": [
    "### 2. 使用Numpy的loadtxt、load、fromfile读取数据"
   ]
  },
  {
   "cell_type": "code",
   "execution_count": 6,
   "metadata": {},
   "outputs": [
    {
     "name": "stdout",
     "output_type": "stream",
     "text": [
      "[[ 0.  1.  2.  3.  4.]\n",
      " [ 5.  6.  7.  8.  9.]\n",
      " [10. 11. 12. 13. 14.]]\n"
     ]
    }
   ],
   "source": [
    "import numpy as np  # 导入numpy库\n",
    "\n",
    "file_name = 'numpy_data.txt'  # 定义数据文件\n",
    "data = np.loadtxt(file_name, dtype='float32', delimiter=' ')  # 获取数据\n",
    "print(data)  # 打印数据"
   ]
  },
  {
   "cell_type": "code",
   "execution_count": 7,
   "metadata": {},
   "outputs": [
    {
     "name": "stdout",
     "output_type": "stream",
     "text": [
      "[[ 1  2  3  4]\n",
      " [ 5  6  7  8]\n",
      " [ 9 10 11 12]]\n"
     ]
    }
   ],
   "source": [
    "import numpy as np  # 导入numpy库\n",
    "\n",
    "write_data = np.array([[1, 2, 3, 4], [5, 6, 7, 8], [9, 10, 11, 12]])  # 定义要存储的数据\n",
    "np.save('load_data', write_data)  # 保存为npy数据文件\n",
    "read_data = np.load('load_data.npy')  # 读取npy文件\n",
    "print(read_data)  # 输出读取的数据"
   ]
  },
  {
   "cell_type": "code",
   "execution_count": 8,
   "metadata": {},
   "outputs": [
    {
     "name": "stdout",
     "output_type": "stream",
     "text": [
      "[ 0.  1.  2.  3.  4.  5.  6.  7.  8.  9. 10. 11. 12. 13. 14.]\n"
     ]
    }
   ],
   "source": [
    "import numpy as np  # 导入numpy库\n",
    "\n",
    "file_name = 'numpy_data.txt'  # 定义数据文件\n",
    "data = np.loadtxt(file_name, dtype='float32', delimiter=' ')  # 获取数据\n",
    "tofile_name = 'binary'  # 定义导出二进制文件名\n",
    "data.tofile(tofile_name)  # 导出二进制文件\n",
    "fromfile_data = np.fromfile(tofile_name, dtype='float32')  # 读取二进制文件\n",
    "print(fromfile_data)  # 打印数据"
   ]
  },
  {
   "cell_type": "markdown",
   "metadata": {},
   "source": [
    "### 3. 使用Pandas的read_csv、read_fwf、read_table读取数据"
   ]
  },
  {
   "cell_type": "code",
   "execution_count": 9,
   "metadata": {},
   "outputs": [
    {
     "name": "stdout",
     "output_type": "stream",
     "text": [
      "   col1  col2  col3  col4  col5\n",
      "0     0     1     2     3     4\n",
      "1     5     6     7     8     9\n",
      "2    10    11    12    13    14\n"
     ]
    }
   ],
   "source": [
    "import pandas as pd  # 导入Pandas库\n",
    "\n",
    "csv_data = pd.read_csv('csv_data.csv', names=['col1', 'col2', 'col3', 'col4', 'col5'])  # 读取csv数据\n",
    "print(csv_data)  # 打印输出数据"
   ]
  },
  {
   "cell_type": "code",
   "execution_count": 10,
   "metadata": {},
   "outputs": [
    {
     "name": "stdout",
     "output_type": "stream",
     "text": [
      "    col1   col2   col3   col4\n",
      "0  a2331  a9013  a3211  a9981\n",
      "1  b4432  b3199  b9766  b2212\n",
      "2  c3294  c1099  c7631  c4302\n"
     ]
    }
   ],
   "source": [
    "import pandas as pd  # 导入Pandas库\n",
    "\n",
    "fwf_data = pd.read_fwf('fwf_data', widths=[5, 5, 5, 5], names=['col1', 'col2', 'col3', 'col4'])  # 读取csv数据\n",
    "print(fwf_data)  # 打印输出数据"
   ]
  },
  {
   "cell_type": "code",
   "execution_count": 11,
   "metadata": {},
   "outputs": [
    {
     "name": "stdout",
     "output_type": "stream",
     "text": [
      "   col1  col2  col3  col4  col5\n",
      "0     0     1     2     3     4\n",
      "1     5     6     7     8     9\n",
      "2    10    11    12    13    14\n"
     ]
    }
   ],
   "source": [
    "import pandas as pd  # 导入Pandas库\n",
    "\n",
    "table_data = pd.read_table('table_data.txt', sep=';', names=['col1', 'col2', 'col3', 'col4', 'col5'])  # 读取csv数据\n",
    "print(table_data)  # 打印输出数据"
   ]
  },
  {
   "cell_type": "markdown",
   "metadata": {},
   "source": [
    "## 2.2.2 从Excel获取运营数据"
   ]
  },
  {
   "cell_type": "code",
   "execution_count": 12,
   "metadata": {},
   "outputs": [],
   "source": [
    "# 导入库\n",
    "import xlrd"
   ]
  },
  {
   "cell_type": "code",
   "execution_count": 13,
   "metadata": {},
   "outputs": [
    {
     "name": "stdout",
     "output_type": "stream",
     "text": [
      "All sheets: ['Sheet1']\n"
     ]
    }
   ],
   "source": [
    "# 打开文件\n",
    "xlsx = xlrd.open_workbook('demo.xlsx')\n",
    "# 查看所有sheet列表\n",
    "print('All sheets: %s' % xlsx.sheet_names())"
   ]
  },
  {
   "cell_type": "code",
   "execution_count": 14,
   "metadata": {},
   "outputs": [
    {
     "name": "stdout",
     "output_type": "stream",
     "text": [
      "Sheet1 Name: Sheet1\n",
      "Sheet1 cols: 4\n",
      "Sheet1 rows: 10\n"
     ]
    }
   ],
   "source": [
    "# 查看sheet1的数据概况\n",
    "sheet1 = xlsx.sheets()[0]  # 获得第一张sheet，索引从0开始\n",
    "sheet1_name = sheet1.name  # 获得名称\n",
    "sheet1_cols = sheet1.ncols  # 获得列数\n",
    "sheet1_nrows = sheet1.nrows  # 获得行数\n",
    "print('Sheet1 Name: %s\\nSheet1 cols: %s\\nSheet1 rows: %s' % (sheet1_name, sheet1_cols, sheet1_nrows))"
   ]
  },
  {
   "cell_type": "code",
   "execution_count": 15,
   "metadata": {},
   "outputs": [
    {
     "name": "stdout",
     "output_type": "stream",
     "text": [
      "Row 4: ['431381197408191515', '有效', 43469.0, '深圳市']\n",
      "Col 2: ['Create_Time', 43466.0, 43467.0, 43468.0, 43469.0, 43470.0, 43471.0, 43472.0, 43473.0, 43474.0]\n",
      "Cell 1: 深圳市\n",
      "\n"
     ]
    }
   ],
   "source": [
    "# 查看sheet1的特定切片数据\n",
    "sheet1_nrows4 = sheet1.row_values(4)  # 获得第4行数据\n",
    "sheet1_cols2 = sheet1.col_values(2)  # 获得第2列数据\n",
    "cell23 = sheet1.row(2)[3].value  # 查看第3行第4列数据\n",
    "print('Row 4: %s\\nCol 2: %s\\nCell 1: %s\\n' % (sheet1_nrows4, sheet1_cols2, cell23))"
   ]
  },
  {
   "cell_type": "code",
   "execution_count": 16,
   "metadata": {},
   "outputs": [
    {
     "name": "stdout",
     "output_type": "stream",
     "text": [
      "['ID_number', 'Status', 'Create_Time', 'Business_City']\n",
      "['431381198109106573', '有效', 43466.0, '深圳市']\n",
      "['431381198809122734', '有效', 43467.0, '深圳市']\n",
      "['431381197903117478', '有效', 43468.0, '深圳市']\n",
      "['431381197408191515', '有效', 43469.0, '深圳市']\n",
      "['431381197606166011', '有效', 43470.0, '深圳市']\n",
      "['43138119850623339X', '有效', 43471.0, '深圳市']\n",
      "['431381198908223477', '有效', 43472.0, '深圳市']\n",
      "['431381198901176911', '有效', 43473.0, '深圳市']\n",
      "['43138119870827275X', '有效', 43474.0, '深圳市']\n"
     ]
    }
   ],
   "source": [
    "# 查看sheet1的数据明细\n",
    "for i in range(sheet1_nrows):  # 逐行打印sheet1数据\n",
    "    print(sheet1.row_values(i))"
   ]
  },
  {
   "cell_type": "markdown",
   "metadata": {},
   "source": [
    "## 2.2.3 从关系型数据库MySQL读取运营数据"
   ]
  },
  {
   "cell_type": "code",
   "execution_count": 17,
   "metadata": {},
   "outputs": [
    {
     "name": "stdout",
     "output_type": "stream",
     "text": [
      "('3897894579', '0000-00-00', datetime.timedelta(0), 'PENDING_ORDER_CONFIRM', '1038166', 59.0)\n",
      "('3897983041', '0000-00-00', datetime.timedelta(0), 'REMOVED', '1041656', 19.9)\n"
     ]
    }
   ],
   "source": [
    "import pymysql  # 导入库\n",
    "\n",
    "config = {'host': '127.0.0.1',  # 默认127.0.0.1\n",
    "          'user': 'root',  # 用户名\n",
    "          'password': '123456',  # 密码\n",
    "          'port': 3306,  # 端口，默认为3306\n",
    "          'database': 'python_data',  # 数据库名称\n",
    "          'charset': 'utf8'  # 字符编码\n",
    "          }\n",
    "cnn = pymysql.connect(**config)  # 建立mysql连接\n",
    "cursor = cnn.cursor()  # 获得游标\n",
    "sql = \"SELECT * FROM `order`\"  # SQL语句\n",
    "cursor.execute(sql)  # 执行sql语句\n",
    "data = cursor.fetchall()  # 通过fetchall方法获得数据\n",
    "for i in data[:2]:  # 打印输出前2条数据\n",
    "    print(i)\n",
    "cursor.close()  # 关闭游标\n",
    "cnn.close()  # 关闭连接"
   ]
  },
  {
   "cell_type": "markdown",
   "metadata": {},
   "source": [
    "## 2.2.4 从非关系型数据库MongoDB读取运营数据"
   ]
  },
  {
   "cell_type": "code",
   "execution_count": 18,
   "metadata": {},
   "outputs": [
    {
     "name": "stdout",
     "output_type": "stream",
     "text": [
      "{'_id': ObjectId('5c04e1e88b0b3f1cd05fd80c'), 'user': 'tony', 'id': '31020', 'age': '30', 'products': ['215120', '245101', '128410'], 'date': '2017-04-06'}\n",
      "{'_id': ObjectId('5c04e1e88b0b3f1cd05fd80c'), 'user': 'tony', 'id': '31020', 'age': '30', 'products': ['215120', '245101', '128410'], 'date': '2017-04-06'}\n",
      "{'_id': ObjectId('5c04e1e88b0b3f1cd05fd80d'), 'user': 'lucy', 'id': '32210', 'age': '29', 'products': ['541001', '340740', '450111'], 'date': '2017-04-06'}\n",
      "{'_id': ObjectId('5c0630cf8b0b3f2e24021c27'), 'user': 'tony', 'id': '31020', 'age': '30', 'products': ['215120', '245101', '128410'], 'date': '2017-04-06'}\n",
      "{'_id': ObjectId('5c0630cf8b0b3f2e24021c28'), 'user': 'lucy', 'id': '32210', 'age': '29', 'products': ['541001', '340740', '450111'], 'date': '2017-04-06'}\n",
      "{'_id': ObjectId('5c0631038b0b3f2e446815b8'), 'user': 'tony', 'id': '31020', 'age': '30', 'products': ['215120', '245101', '128410'], 'date': '2017-04-06'}\n",
      "{'_id': ObjectId('5c0631038b0b3f2e446815b9'), 'user': 'lucy', 'id': '32210', 'age': '29', 'products': ['541001', '340740', '450111'], 'date': '2017-04-06'}\n"
     ]
    }
   ],
   "source": [
    "from pymongo import MongoClient  # 导入库\n",
    "\n",
    "client = MongoClient('10.0.0.54', 27017)  #  输出实际的服务器IP地址以及端口，建立连接，并初始化环境变量\n",
    "db = client.python_data  # 选择test_py库\n",
    "orders = db.ordersets  # 选择orders集合\n",
    "terms = [{\"user\": \"tony\", \"id\": \"31020\", \"age\": \"30\", \"products\": [\"215120\", \"245101\", \"128410\"],\n",
    "          \"date\": \"2017-04-06\"},\n",
    "         {\"user\": \"lucy\", \"id\": \"32210\", \"age\": \"29\", \"products\": [\"541001\", \"340740\", \"450111\"],\n",
    "          \"date\": \"2017-04-06\"}]  # 定义一条数据集合用于插入\n",
    "orders.insert_many(terms)  # 插入数据\n",
    "print(orders.find_one())  # 获取一文档数据\n",
    "for i in orders.find():  # 获取所有文档数据并展示\n",
    "    print(i)"
   ]
  },
  {
   "cell_type": "markdown",
   "metadata": {},
   "source": [
    "## 2.2.5 从API获取运营数据"
   ]
  },
  {
   "cell_type": "markdown",
   "metadata": {},
   "source": [
    "### 1. 获取并解析json数据"
   ]
  },
  {
   "cell_type": "code",
   "execution_count": 19,
   "metadata": {},
   "outputs": [
    {
     "name": "stdout",
     "output_type": "stream",
     "text": [
      "{\"status\":0,\"result\":{\"location\":{\"lng\":116.29381532521775,\"lat\":40.05299113952319},\"precise\":0,\"confidence\":40,\"comprehension\":100,\"level\":\"工业园区\"}}\n"
     ]
    }
   ],
   "source": [
    "import requests  # 导入库\n",
    "\n",
    "add = '北京市中关村软件园'  # 定义地址\n",
    "ak = 'DdOyOKo0VZBgdDFQnyhINKYDGkzBkuQr'  # 创建访问应用时获得的AK\n",
    "url = 'http://api.map.baidu.com/geocoder/v2/?address=%s&output=json&ak=%s'  # 请求URL\n",
    "res = requests.get(url % (add, ak))  # 获得返回请求\n",
    "add_info = res.text  # 返回文本信息\n",
    "print(add_info)  # 打印输出"
   ]
  },
  {
   "cell_type": "code",
   "execution_count": 20,
   "metadata": {},
   "outputs": [
    {
     "name": "stdout",
     "output_type": "stream",
     "text": [
      "{'lng': 116.29381532521775, 'lat': 40.05299113952319}\n"
     ]
    }
   ],
   "source": [
    "# json处理\n",
    "import json  # 导入库\n",
    "\n",
    "add_json = json.loads(add_info)  # 加载Json字符串对象\n",
    "lat_lng = add_json['result']['location']  # 获得经纬度信息\n",
    "print(lat_lng)  # 打印输出"
   ]
  },
  {
   "cell_type": "markdown",
   "metadata": {},
   "source": [
    "### 2. 获取并解析xml数据"
   ]
  },
  {
   "cell_type": "code",
   "execution_count": 21,
   "metadata": {},
   "outputs": [
    {
     "name": "stdout",
     "output_type": "stream",
     "text": [
      "<?xml version=\"1.0\" encoding=\"utf-8\"?>\n",
      "<GeocoderSearchResponse>\n",
      "\t<status>0</status>\n",
      "\t<result>\n",
      "\t\t<location>\n",
      "\t\t\t<lng>116.293815325</lng>\n",
      "\t\t\t<lat>40.0529911395</lat>\n",
      "\t\t</location>\n",
      "\t\t<precise>0</precise>\n",
      "\t\t<confidence>40</confidence>\n",
      "\t\t<comprehension>100</comprehension>\n",
      "\t\t<level>工业园区</level>\n",
      "\t</result>\n",
      "</GeocoderSearchResponse>\n",
      "\n",
      "\n"
     ]
    }
   ],
   "source": [
    "import requests  # 导入库\n",
    "\n",
    "add = '北京市中关村软件园'  # 定义地址\n",
    "ak = 'DdOyOKo0VZBgdDFQnyhINKYDGkzBkuQr'  # 创建访问应用时获得的AK\n",
    "url = 'http://api.map.baidu.com/geocoder/v2/?address=%s&output=xml&ak=%s'  # 请求URL\n",
    "res = requests.get(url % (add, ak))  # 获得返回请求\n",
    "add_info = res.text  # 返回文本信息\n",
    "print(add_info)  # 打印输出"
   ]
  },
  {
   "cell_type": "code",
   "execution_count": 22,
   "metadata": {},
   "outputs": [
    {
     "name": "stdout",
     "output_type": "stream",
     "text": [
      "lng: 116.293815325\n",
      "lat: 40.0529911395\n"
     ]
    }
   ],
   "source": [
    "# json处理\n",
    "import xml.etree.ElementTree as Etree  # 导入xml中的ElementTree方法\n",
    "\n",
    "root = Etree.fromstring(add_info)  # 获得xml的根节点\n",
    "lng = root[1][0][0].text  # 获得lng数据\n",
    "lat = root[1][0][1].text  # 获得lat数据\n",
    "print('lng: %s' % lng)  # 格式化打印输出\n",
    "print('lat: %s' % lat)  # 格式化打印输出"
   ]
  },
  {
   "cell_type": "markdown",
   "metadata": {},
   "source": [
    "## 2.3.1 从网页中爬取运营数据"
   ]
  },
  {
   "cell_type": "code",
   "execution_count": 23,
   "metadata": {},
   "outputs": [
    {
     "name": "stdout",
     "output_type": "stream",
     "text": [
      "<!DOCTYPE html>\n",
      "<html lang=\"zh-CN\" class=\"no-js\">\n",
      "\n",
      "<head>\n",
      "\t<meta charset=\"UTF-8\">\n",
      "\t<meta name=\"viewport\" content=\"width=device-width\">\n",
      "\t<link rel=\"profile\" href=\"http://gmpg.org/xfn/11\">\n",
      "\t<link rel=\"pingback\" href=\"http://www.dataivy.cn/xmlrpc.php\">\n",
      "\t<!--[if lt IE 9]>\n",
      "\t<script src=\"http://www.dataivy.cn/wp-content/themes/twentyfifteen/js/html5.js\"></script>\n",
      "\t<![endif]-->\n",
      "\t<script>(function(){document.documentElement.className='js'})();</script>\n",
      "\t<title>DBSCAN | 数据常青藤</title>\n",
      "<link rel=\"alternate\" type=\"application/rss+xml\" title=\"数据常青藤 &raquo; Feed\" href=\"http://www.dataivy.cn/feed/\" />\n",
      "<link rel=\"alternate\" type=\"application/rss+xml\" title=\"数据常青藤 &raquo; 评论Feed\" href=\"http://www.dataivy.cn/comments/feed/\" />\n",
      "<link rel=\"alternate\" type=\"application/rss+xml\" title=\"数据常青藤 &raquo; DBSCAN评论Feed\" href=\"http://www.dataivy.cn/blog/dbscan/feed/\" />\n",
      "<link rel='stylesheet' id='genericons-css'  href='http://www.dataivy.cn/wp-content/themes/twentyfifteen/genericons/genericons.css?ver=3.2' type='text/css' media='all' />\n",
      "<link rel='stylesheet' id='twentyfifteen-style-css'  href='http://www.dataivy.cn/wp-content/themes/twentyfifteen/style.css?ver=4.1.24' type='text/css' media='all' />\n",
      "<!--[if lt IE 9]>\n",
      "<link rel='stylesheet' id='twentyfifteen-ie-css'  href='http://www.dataivy.cn/wp-content/themes/twentyfifteen/css/ie.css?ver=20141010' type='text/css' media='all' />\n",
      "<![endif]-->\n",
      "<!--[if lt IE 8]>\n",
      "<link rel='stylesheet' id='twentyfifteen-ie7-css'  href='http://www.dataivy.cn/wp-content/themes/twentyfifteen/css/ie7.css?ver=20141010' type='text/css' media='all' />\n",
      "<![endif]-->\n",
      "<script type='text/javascript' src='http://www.dataivy.cn/wp-includes/js/jquery/jquery.js?ver=1.11.1'></script>\n",
      "<script type='text/javascript' src='http://www.dataivy.cn/wp-includes/js/jquery/jquery-migrate.min.js?ver=1.2.1'></script>\n",
      "<link rel=\"EditURI\" type=\"application/rsd+xml\" title=\"RSD\" href=\"http://www.dataivy.cn/xmlrpc.php?rsd\" />\n",
      "<link rel=\"wlwmanifest\" type=\"application/wlwmanifest+xml\" href=\"http://www.dataivy.cn/wp-includes/wlwmanifest.xml\" /> \n",
      "<link rel='prev' title='谱聚类Spectral clustering(SC)' href='http://www.dataivy.cn/blog/%e8%b0%b1%e8%81%9a%e7%b1%bbspectral-clustering/' />\n",
      "<link rel='next' title='Python 读取非结构化log文本数据' href='http://www.dataivy.cn/blog/python-%e8%af%bb%e5%8f%96%e9%9d%9e%e7%bb%93%e6%9e%84%e5%8c%96log%e6%96%87%e6%9c%ac%e6%95%b0%e6%8d%ae/' />\n",
      "<link rel='canonical' href='http://www.dataivy.cn/blog/dbscan/' />\n",
      "<link rel='shortlink' href='http://www.dataivy.cn/?p=469' />\n",
      "\n",
      "</head>\n",
      "\n",
      "<body class=\"single single-post postid-469 single-format-standard\">\n",
      "<div id=\"page\" class=\"hfeed site\">\n",
      "\t<a class=\"skip-link screen-reader-text\" href=\"#content\">跳至内容</a>\n",
      "\n",
      "\t<div id=\"sidebar\" class=\"sidebar\">\n",
      "\t\t<header id=\"masthead\" class=\"site-header\" role=\"banner\">\n",
      "\t\t\t<div class=\"site-branding\">\n",
      "\t\t\t\t\t\t\t\t\t\t<p class=\"site-title\"><a href=\"http://www.dataivy.cn/\" rel=\"home\">数据常青藤</a></p>\n",
      "\t\t\t\t\t\t\t\t\t\t\t<p class=\"site-description\">人工智能、机器学习、深度学习、神经网络、模式识别、自然语言处理、图像识别&#8230;数据智能工作才是数据的未来！</p>\n",
      "\t\t\t\t\t\t\t\t\t<button class=\"secondary-toggle\">菜单和挂件</button>\n",
      "\t\t\t</div><!-- .site-branding -->\n",
      "\t\t</header><!-- .site-header -->\n",
      "\n",
      "\t\t\t<div id=\"secondary\" class=\"secondary\">\n",
      "\n",
      "\t\t\t\t\t<nav id=\"site-navigation\" class=\"main-navigation\" role=\"navigation\">\n",
      "\t\t\t\t<div class=\"menu-%e5%87%ba%e7%89%88%e4%b9%a6%e7%b1%8d-container\"><ul id=\"menu-%e5%87%ba%e7%89%88%e4%b9%a6%e7%b1%8d\" class=\"nav-menu\"><li id=\"menu-item-685\" class=\"menu-item menu-item-type-post_type menu-item-object-page menu-item-685\"><a title=\"1\" href=\"http://www.dataivy.cn/python-data-analysis-and-data-operations/\">《Python数据分析与数据化运营》新书上线</a></li>\n",
      "<li id=\"menu-item-746\" class=\"menu-item menu-item-type-custom menu-item-object-custom menu-item-746\"><a title=\"1\" href=\"http://www.dataivy.cn/blog/python_book_faq/\">——常见问题</a></li>\n",
      "<li id=\"menu-item-761\" class=\"menu-item menu-item-type-custom menu-item-object-custom menu-item-761\"><a title=\"1\" href=\"http://www.dataivy.cn/blog/python_book_knows_issues/\">——内容勘误</a></li>\n",
      "<li id=\"menu-item-645\" class=\"menu-item menu-item-type-post_type menu-item-object-page menu-item-645\"><a href=\"http://www.dataivy.cn/web-data-mining-and-analysis/\">《网站数据挖掘与分析 系统方法与商业实践》-写在2017年</a></li>\n",
      "<li id=\"menu-item-646\" class=\"menu-item menu-item-type-post_type menu-item-object-page menu-item-646\"><a href=\"http://www.dataivy.cn/big-data-book/\">《企业大数据系统构建实战：技术、架构、实施与应用》</a></li>\n",
      "</ul></div>\t\t\t</nav><!-- .main-navigation -->\n",
      "\t\t\n",
      "\t\t\n",
      "\t\t\t\t\t<div id=\"widget-area\" class=\"widget-area\" role=\"complementary\">\n",
      "\t\t\t\t<aside id=\"search-2\" class=\"widget widget_search\"><form role=\"search\" method=\"get\" class=\"search-form\" action=\"http://www.dataivy.cn/\">\n",
      "\t\t\t\t<label>\n",
      "\t\t\t\t\t<span class=\"screen-reader-text\">搜索：</span>\n",
      "\t\t\t\t\t<input type=\"search\" class=\"search-field\" placeholder=\"搜索&hellip;\" value=\"\" name=\"s\" title=\"搜索：\" />\n",
      "\t\t\t\t</label>\n",
      "\t\t\t\t<input type=\"submit\" class=\"search-submit screen-reader-text\" value=\"搜索\" />\n",
      "\t\t\t</form></aside><aside id=\"text-2\" class=\"widget widget_text\"><h2 class=\"widget-title\">博主</h2>\t\t\t<div class=\"textwidget\"><p>　　宋天龙(TonySong)，历任Webtrekk中国区数据总监（Webtrekk，德国最大的网站数据分析服务提供商），国美在线大数据中心经理，数据常青藤和数据研究与商业应用博主。</p>\n",
      "<p>　　著有《Python数据分析与数据化运营》（新书）、《网站数据挖掘与分析：系统方法与商业实践》 、《企业大数据系统构建实战：技术、架构、实施与应用》。</p>\n",
      "<h2 class=\"widget-title\">出版物</h2>\n",
      "<p><a href=\"http://item.jd.com/12254905.html\"  onclick=\"_hmt.push(['_trackEvent', 'book', 'python', 'banner', 1])\" target=\"_blank\" rel=\"nofollow\" title=\"去京东购买\" ><img src=\"http://www.dataivy.cn/book/python_book.jpg\" width=\"250\" height=\"358\" /></a><br/><br/></p>\n",
      "<ul>\n",
      "<li><a href=\"http://item.jd.com/12254905.html\" onclick=\"_hmt.push(['_trackEvent', 'book', 'python', 'jingdong', 1])\" title=\"《Python数据分析与数据化运营》京东\" target=\"_blank\">京东</a> </li>\n",
      "<li><a href=\"http://product.dangdang.com/25200787.html\"  onclick=\"_hmt.push(['_trackEvent', 'book', 'python', 'dangdang', 1])\" title=\"《Python数据分析与数据化运营》当当\" target=\"_blank\">当当</a> </li>\n",
      "<li><a href=\"https://www.amazon.cn/dp/B078D674T6\"  onclick=\"_hmt.push(['_trackEvent', 'book', 'python', 'amazon', 1])\"  title=\"《Python数据分析与数据化运营》亚马逊\" target=\"_blank\">亚马逊</a> </li>\n",
      "</ul>\n",
      "<p><a href=\"http://item.jd.com/12078875.html\" onclick=\"_hmt.push(['_trackEvent', 'book', 'bigdata', 'banner', 1])\" target=\"_blank\" rel=\"nofollow\" title=\"去京东购买\"><img src=\"http://www.dataivy.cn/upload/bigdata.jpg\" width=\"250\" height=\"358\" /></a><br/><br/></p>\n",
      "<ul>\n",
      "<li><a href=\"https://item.jd.com/12078875.html\"  onclick=\"_hmt.push(['_trackEvent', 'book', 'bigdata', 'jingdong', 1])\" title=\"《企业大数据系统构建实战：技术、架构、实施与应用》京东\" target=\"_blank\">京东</a> </li>\n",
      "<li><a href=\"http://product.dangdang.com/25088382.html\"  onclick=\"_hmt.push(['_trackEvent', 'book', 'bigdata', 'dangdang', 1])\" title=\"《企业大数据系统构建实战：技术、架构、实施与应用》当当\" target=\"_blank\">当当</a> </li>\n",
      "<li><a href=\"https://www.amazon.cn/dp/B071W17HJ2\"  onclick=\"_hmt.push(['_trackEvent', 'book', 'bigdata', 'amazon', 1])\" title=\"《企业大数据系统构建实战：技术、架构、实施与应用》亚马逊\" target=\"_blank\">亚马逊</a> </li>\n",
      "</ul>\n",
      "<p> <a href=\"http://product.dangdang.com/23664742.html\"  onclick=\"_hmt.push(['_trackEvent', 'book', 'webanalytics', 'banner', 1])\" target=\"_blank\" rel=\"nofollow\" title=\"去当当购买\" ><img src=\"http://www.dataivy.cn/upload/web_analytics.jpg\" width=\"250\" /></a><br/><br/></p>\n",
      "<ul>\n",
      "<li><a href=\"http://product.dangdang.com/23664742.html\"  onclick=\"_hmt.push(['_trackEvent', 'book', 'webanalytics', 'dangdang', 1])\" title=\"《网站数据挖掘与分析：系统方法与商业实践》当当\" target=\"_blank\">当当</a> </li>\n",
      "<li><a href=\"https://www.amazon.cn/dp/B00TD75YSY\" onclick=\"_hmt.push(['_trackEvent', 'book', 'webanalytics', 'amazon', 1])\" title=\"《网站数据挖掘与分析：系统方法与商业实践》亚马逊\" target=\"_blank\">亚马逊</a> </li>\n",
      "<li><a href=\"http://item.jd.com/11654263.html\"  onclick=\"_hmt.push(['_trackEvent', 'book', 'webanalytics', 'jingdong', 1])\" title=\"《网站数据挖掘与分析：系统方法与商业实践》京东\" target=\"_blank\">京东</a> </li>\n",
      "</ul>\n",
      "<h2 class=\"widget-title\">微信扫一扫</h2>\n",
      "<p><img src=\"http://www.dataivy.cn/upload/weixin.png\" width=\"250\" height=\"250\" /></p>\n",
      "</div>\n",
      "\t\t</aside>\t\t<aside id=\"recent-posts-2\" class=\"widget widget_recent_entries\">\t\t<h2 class=\"widget-title\">近期文章</h2>\t\t<ul>\n",
      "\t\t\t\t\t<li>\n",
      "\t\t\t\t<a href=\"http://www.dataivy.cn/blog/3-12-2-%e7%bd%91%e7%bb%9c%e7%94%a8%e6%88%b7%e6%97%a5%e5%bf%97%e8%a7%a3%e6%9e%90/\">3.12.2 网络用户日志解析</a>\n",
      "\t\t\t\t\t\t</li>\n",
      "\t\t\t\t\t<li>\n",
      "\t\t\t\t<a href=\"http://www.dataivy.cn/blog/3-12-1-%e7%bd%91%e9%a1%b5%e6%95%b0%e6%8d%ae%e8%a7%a3%e6%9e%90/\">3.12.1 网页数据解析</a>\n",
      "\t\t\t\t\t\t</li>\n",
      "\t\t\t\t\t<li>\n",
      "\t\t\t\t<a href=\"http://www.dataivy.cn/blog/3-11-%e6%95%b0%e6%8d%ae%e5%a4%84%e7%90%86%e5%ba%94%e8%af%a5%e8%80%83%e8%99%91%e5%93%aa%e4%ba%9b%e8%bf%90%e8%90%a5%e4%b8%9a%e5%8a%a1%e5%9b%a0%e7%b4%a0/\">3.11 数据处理应该考虑哪些运营业务因素</a>\n",
      "\t\t\t\t\t\t</li>\n",
      "\t\t\t\t\t<li>\n",
      "\t\t\t\t<a href=\"http://www.dataivy.cn/blog/3-10-%e7%a6%bb%e6%95%a3%e5%8c%96%ef%bc%8c%e5%af%b9%e8%bf%90%e8%90%a5%e6%95%b0%e6%8d%ae%e5%81%9a%e9%80%bb%e8%be%91%e5%88%86%e5%b1%82/\">3.10 离散化，对运营数据做逻辑分层</a>\n",
      "\t\t\t\t\t\t</li>\n",
      "\t\t\t\t\t<li>\n",
      "\t\t\t\t<a href=\"http://www.dataivy.cn/blog/3-9-%e6%a0%87%e5%87%86%e5%8c%96%ef%bc%8c%e8%ae%a9%e8%bf%90%e8%90%a5%e6%95%b0%e6%8d%ae%e8%90%bd%e5%85%a5%e7%9b%b8%e5%90%8c%e7%9a%84%e8%8c%83%e5%9b%b4/\">3.9 标准化，让运营数据落入相同的范围</a>\n",
      "\t\t\t\t\t\t</li>\n",
      "\t\t\t\t</ul>\n",
      "\t\t</aside><aside id=\"tag_cloud-3\" class=\"widget widget_tag_cloud\"><h2 class=\"widget-title\">标签</h2><div class=\"tagcloud\"><a href='http://www.dataivy.cn/blog/tag/ap/' class='tag-link-112' title='2个话题' style='font-size: 8pt;'>AP</a>\n",
      "<a href='http://www.dataivy.cn/blog/tag/arima/' class='tag-link-159' title='2个话题' style='font-size: 8pt;'>ARIMA</a>\n",
      "<a href='http://www.dataivy.cn/blog/tag/arma/' class='tag-link-165' title='2个话题' style='font-size: 8pt;'>ARMA</a>\n",
      "<a href='http://www.dataivy.cn/blog/tag/bandwidth/' class='tag-link-28' title='2个话题' style='font-size: 8pt;'>bandwidth</a>\n",
      "<a href='http://www.dataivy.cn/blog/tag/datasets/' class='tag-link-130' title='4个话题' style='font-size: 11.08pt;'>datasets</a>\n",
      "<a href='http://www.dataivy.cn/blog/tag/dot/' class='tag-link-40' title='2个话题' style='font-size: 8pt;'>dot</a>\n",
      "<a href='http://www.dataivy.cn/blog/tag/gmm/' class='tag-link-71' title='2个话题' style='font-size: 8pt;'>GMM</a>\n",
      "<a href='http://www.dataivy.cn/blog/tag/ica/' class='tag-link-89' title='2个话题' style='font-size: 8pt;'>ICA</a>\n",
      "<a href='http://www.dataivy.cn/blog/tag/k-means/' class='tag-link-96' title='4个话题' style='font-size: 11.08pt;'>K-Means</a>\n",
      "<a href='http://www.dataivy.cn/blog/tag/kmeans/' class='tag-link-152' title='2个话题' style='font-size: 8pt;'>kmeans</a>\n",
      "<a href='http://www.dataivy.cn/blog/tag/k%e5%9d%87%e5%80%bc/' class='tag-link-95' title='4个话题' style='font-size: 11.08pt;'>K均值</a>\n",
      "<a href='http://www.dataivy.cn/blog/tag/lambda/' class='tag-link-176' title='2个话题' style='font-size: 8pt;'>lambda</a>\n",
      "<a href='http://www.dataivy.cn/blog/tag/lda/' class='tag-link-83' title='5个话题' style='font-size: 12.2pt;'>LDA</a>\n",
      "<a href='http://www.dataivy.cn/blog/tag/matplotlib/' class='tag-link-149' title='5个话题' style='font-size: 12.2pt;'>matplotlib</a>\n",
      "<a href='http://www.dataivy.cn/blog/tag/minibatchkmeans/' class='tag-link-105' title='2个话题' style='font-size: 8pt;'>MiniBatchKMeans</a>\n",
      "<a href='http://www.dataivy.cn/blog/tag/mysql/' class='tag-link-212' title='2个话题' style='font-size: 8pt;'>MySQL</a>\n",
      "<a href='http://www.dataivy.cn/blog/tag/numpy/' class='tag-link-33' title='12个话题' style='font-size: 16.82pt;'>Numpy</a>\n",
      "<a href='http://www.dataivy.cn/blog/tag/pandas/' class='tag-link-156' title='11个话题' style='font-size: 16.4pt;'>pandas</a>\n",
      "<a href='http://www.dataivy.cn/blog/tag/pca/' class='tag-link-81' title='6个话题' style='font-size: 13.18pt;'>PCA</a>\n",
      "<a href='http://www.dataivy.cn/blog/tag/pil/' class='tag-link-215' title='3个话题' style='font-size: 9.68pt;'>PIL</a>\n",
      "<a href='http://www.dataivy.cn/blog/tag/prettytable/' class='tag-link-151' title='2个话题' style='font-size: 8pt;'>prettytable</a>\n",
      "<a href='http://www.dataivy.cn/blog/tag/pycharm/' class='tag-link-207' title='2个话题' style='font-size: 8pt;'>PyCharm</a>\n",
      "<a href='http://www.dataivy.cn/blog/tag/python/' class='tag-link-57' title='29个话题' style='font-size: 22pt;'>Python</a>\n",
      "<a href='http://www.dataivy.cn/blog/tag/python%e6%95%b0%e6%8d%ae%e5%88%86%e6%9e%90%e4%b8%8e%e6%95%b0%e6%8d%ae%e5%8c%96%e8%bf%90%e8%90%a5/' class='tag-link-224' title='11个话题' style='font-size: 16.4pt;'>Python数据分析与数据化运营</a>\n",
      "<a href='http://www.dataivy.cn/blog/tag/sklearn/' class='tag-link-147' title='11个话题' style='font-size: 16.4pt;'>sklearn</a>\n",
      "<a href='http://www.dataivy.cn/blog/tag/statsmodels/' class='tag-link-164' title='2个话题' style='font-size: 8pt;'>statsmodels</a>\n",
      "<a href='http://www.dataivy.cn/blog/tag/svm/' class='tag-link-23' title='2个话题' style='font-size: 8pt;'>SVM</a>\n",
      "<a href='http://www.dataivy.cn/blog/tag/svr/' class='tag-link-142' title='2个话题' style='font-size: 8pt;'>SVR</a>\n",
      "<a href='http://www.dataivy.cn/blog/tag/%e4%b8%bb%e6%88%90%e5%88%86%e5%88%86%e6%9e%90/' class='tag-link-82' title='4个话题' style='font-size: 11.08pt;'>主成分分析</a>\n",
      "<a href='http://www.dataivy.cn/blog/tag/%e5%88%87%e7%89%87/' class='tag-link-36' title='2个话题' style='font-size: 8pt;'>切片</a>\n",
      "<a href='http://www.dataivy.cn/blog/tag/%e5%9b%a0%e5%ad%90%e5%88%86%e6%9e%90/' class='tag-link-91' title='2个话题' style='font-size: 8pt;'>因子分析</a>\n",
      "<a href='http://www.dataivy.cn/blog/tag/%e5%b7%a5%e5%85%b7%e5%ba%93/' class='tag-link-126' title='13个话题' style='font-size: 17.38pt;'>工具库</a>\n",
      "<a href='http://www.dataivy.cn/blog/tag/%e6%95%b0%e6%8d%ae%e5%88%86%e6%9e%90/' class='tag-link-182' title='5个话题' style='font-size: 12.2pt;'>数据分析</a>\n",
      "<a href='http://www.dataivy.cn/blog/tag/%e6%95%b0%e6%8d%ae%e5%8c%96%e8%bf%90%e8%90%a5/' class='tag-link-183' title='4个话题' style='font-size: 11.08pt;'>数据化运营</a>\n",
      "<a href='http://www.dataivy.cn/blog/tag/%e6%95%b0%e6%8d%ae%e6%ba%90/' class='tag-link-121' title='3个话题' style='font-size: 9.68pt;'>数据源</a>\n",
      "<a href='http://www.dataivy.cn/blog/tag/%e6%95%b0%e6%8d%ae%e9%9b%86/' class='tag-link-129' title='4个话题' style='font-size: 11.08pt;'>数据集</a>\n",
      "<a href='http://www.dataivy.cn/blog/tag/%e6%97%a5%e5%bf%97%e8%a7%a3%e6%9e%90/' class='tag-link-118' title='2个话题' style='font-size: 8pt;'>日志解析</a>\n",
      "<a href='http://www.dataivy.cn/blog/tag/%e7%9b%b8%e5%85%b3%e7%b3%bb%e6%95%b0/' class='tag-link-100' title='2个话题' style='font-size: 8pt;'>相关系数</a>\n",
      "<a href='http://www.dataivy.cn/blog/tag/%e7%9f%a9%e9%98%b5%e4%b9%98%e6%b3%95/' class='tag-link-42' title='2个话题' style='font-size: 8pt;'>矩阵乘法</a>\n",
      "<a href='http://www.dataivy.cn/blog/tag/%e7%a6%bb%e7%be%a4%e7%82%b9%e6%a3%80%e6%b5%8b/' class='tag-link-22' title='2个话题' style='font-size: 8pt;'>离群点检测</a>\n",
      "<a href='http://www.dataivy.cn/blog/tag/%e7%ac%ac%e4%b8%89%e6%96%b9%e5%ba%93/' class='tag-link-125' title='13个话题' style='font-size: 17.38pt;'>第三方库</a>\n",
      "<a href='http://www.dataivy.cn/blog/tag/%e7%bc%ba%e5%a4%b1%e5%80%bc%e5%a1%ab%e5%85%85/' class='tag-link-188' title='2个话题' style='font-size: 8pt;'>缺失值填充</a>\n",
      "<a href='http://www.dataivy.cn/blog/tag/%e8%81%9a%e7%b1%bb/' class='tag-link-79' title='8个话题' style='font-size: 14.58pt;'>聚类</a>\n",
      "<a href='http://www.dataivy.cn/blog/tag/%e8%bd%ac%e7%bd%ae/' class='tag-link-38' title='2个话题' style='font-size: 8pt;'>转置</a>\n",
      "<a href='http://www.dataivy.cn/blog/tag/%e9%99%8d%e7%bb%b4/' class='tag-link-80' title='4个话题' style='font-size: 11.08pt;'>降维</a></div>\n",
      "</aside><aside id=\"categories-2\" class=\"widget widget_categories\"><h2 class=\"widget-title\">分类目录</h2>\t\t<ul>\n",
      "\t<li class=\"cat-item cat-item-30\"><a href=\"http://www.dataivy.cn/blog/category/python_data_libraries/\" >Python常用数据工作库</a>\n",
      "<ul class='children'>\n",
      "\t<li class=\"cat-item cat-item-32\"><a href=\"http://www.dataivy.cn/blog/category/python_data_libraries/numpy/\" >NumPy</a>\n",
      "</li>\n",
      "\t<li class=\"cat-item cat-item-155\"><a href=\"http://www.dataivy.cn/blog/category/python_data_libraries/pandas/\" >Pandas</a>\n",
      "</li>\n",
      "\t<li class=\"cat-item cat-item-124\"><a href=\"http://www.dataivy.cn/blog/category/python_data_libraries/python%e5%b7%a5%e5%85%b7%e7%ae%b1/\" >Python工具箱</a>\n",
      "</li>\n",
      "</ul>\n",
      "</li>\n",
      "\t<li class=\"cat-item cat-item-137\"><a href=\"http://www.dataivy.cn/blog/category/%e3%80%8apython%e6%95%b0%e6%8d%ae%e5%88%86%e6%9e%90%e4%b8%8e%e6%95%b0%e6%8d%ae%e5%8c%96%e8%bf%90%e8%90%a5%e3%80%8b/\" >《Python数据分析与数据化运营》</a>\n",
      "</li>\n",
      "\t<li class=\"cat-item cat-item-13\"><a href=\"http://www.dataivy.cn/blog/category/use-cases/\" >应用案例</a>\n",
      "</li>\n",
      "\t<li class=\"cat-item cat-item-117\"><a href=\"http://www.dataivy.cn/blog/category/%e6%95%b0%e6%8d%ae%e8%af%bb%e5%8f%96/\" >数据读取</a>\n",
      "</li>\n",
      "\t<li class=\"cat-item cat-item-128\"><a href=\"http://www.dataivy.cn/blog/category/%e6%95%b0%e6%8d%ae%e9%9b%86/\" >数据集</a>\n",
      "</li>\n",
      "\t<li class=\"cat-item cat-item-7\"><a href=\"http://www.dataivy.cn/blog/category/data-preprocessing/\" >数据预处理</a>\n",
      "<ul class='children'>\n",
      "\t<li class=\"cat-item cat-item-9\"><a href=\"http://www.dataivy.cn/blog/category/data-preprocessing/data-standardlize/\" >数据标准化</a>\n",
      "</li>\n",
      "\t<li class=\"cat-item cat-item-11\"><a href=\"http://www.dataivy.cn/blog/category/data-preprocessing/data-transformation/\" >数据转换</a>\n",
      "</li>\n",
      "\t<li class=\"cat-item cat-item-10\"><a href=\"http://www.dataivy.cn/blog/category/data-preprocessing/feature-selection/\" >特征选择</a>\n",
      "</li>\n",
      "\t<li class=\"cat-item cat-item-8\"><a href=\"http://www.dataivy.cn/blog/category/data-preprocessing/dimensionality-reduction/\" >降维</a>\n",
      "</li>\n",
      "</ul>\n",
      "</li>\n",
      "\t<li class=\"cat-item cat-item-17\"><a href=\"http://www.dataivy.cn/blog/category/supervised-learning/\" >监督式学习</a>\n",
      "<ul class='children'>\n",
      "\t<li class=\"cat-item cat-item-146\"><a href=\"http://www.dataivy.cn/blog/category/supervised-learning/%e5%88%86%e7%b1%bb/\" >分类</a>\n",
      "</li>\n",
      "\t<li class=\"cat-item cat-item-85\"><a href=\"http://www.dataivy.cn/blog/category/supervised-learning/%e5%88%a4%e5%88%ab%e5%88%86%e6%9e%90/\" >判别分析</a>\n",
      "</li>\n",
      "\t<li class=\"cat-item cat-item-140\"><a href=\"http://www.dataivy.cn/blog/category/supervised-learning/%e5%9b%9e%e5%bd%92/\" >回归</a>\n",
      "</li>\n",
      "</ul>\n",
      "</li>\n",
      "\t<li class=\"cat-item cat-item-18\"><a href=\"http://www.dataivy.cn/blog/category/unsupervised-learning/\" >非监督式学习</a>\n",
      "<ul class='children'>\n",
      "\t<li class=\"cat-item cat-item-51\"><a href=\"http://www.dataivy.cn/blog/category/unsupervised-learning/anomaly-detection/\" >异常检测</a>\n",
      "</li>\n",
      "\t<li class=\"cat-item cat-item-158\"><a href=\"http://www.dataivy.cn/blog/category/unsupervised-learning/%e6%97%b6%e9%97%b4%e5%ba%8f%e5%88%97/\" >时间序列</a>\n",
      "</li>\n",
      "\t<li class=\"cat-item cat-item-70\"><a href=\"http://www.dataivy.cn/blog/category/unsupervised-learning/gaussian-mixture-models/\" >混合高斯模型</a>\n",
      "</li>\n",
      "\t<li class=\"cat-item cat-item-58\"><a href=\"http://www.dataivy.cn/blog/category/unsupervised-learning/%e7%a5%9e%e7%bb%8f%e7%bd%91%e7%bb%9c/\" >神经网络</a>\n",
      "</li>\n",
      "\t<li class=\"cat-item cat-item-94\"><a href=\"http://www.dataivy.cn/blog/category/unsupervised-learning/clustering/\" >聚类</a>\n",
      "</li>\n",
      "</ul>\n",
      "</li>\n",
      "\t\t</ul>\n",
      "</aside><aside id=\"meta-2\" class=\"widget widget_meta\"><h2 class=\"widget-title\">功能</h2>\t\t\t<ul>\n",
      "\t\t\t\t\t\t<li><a href=\"http://www.dataivy.cn/wp-login.php\">登录</a></li>\n",
      "\t\t\t<li><a href=\"http://www.dataivy.cn/feed/\">文章<abbr title=\"Really Simple Syndication\">RSS</abbr></a></li>\n",
      "\t\t\t<li><a href=\"http://www.dataivy.cn/comments/feed/\">评论<abbr title=\"Really Simple Syndication\">RSS</abbr></a></li>\n",
      "<li><a href=\"https://cn.wordpress.org/\" title=\"基于WordPress，一个优美、先进的个人信息发布平台。\">WordPress.org</a></li>\t\t\t</ul>\n",
      "</aside><aside id=\"text-4\" class=\"widget widget_text\"><h2 class=\"widget-title\">相关网站</h2>\t\t\t<div class=\"textwidget\"><a href=\"http://www.searchmarketingart.com/\" rel=\"bookmark\">数据研究与商业应用</a></div>\n",
      "\t\t</aside>\t\t\t</div><!-- .widget-area -->\n",
      "\t\t\n",
      "\t</div><!-- .secondary -->\n",
      "\n",
      "\t</div><!-- .sidebar -->\n",
      "\n",
      "\n",
      "\t<div id=\"content\" class=\"site-content\">\n",
      "\n",
      "\t<div id=\"primary\" class=\"content-area\">\n",
      "\t\t<main id=\"main\" class=\"site-main\" role=\"main\">\n",
      "\n",
      "\t\t<div class='code-block code-block-2' style='margin: 8px auto 8px 0; text-align: left; clear: both;'>\n",
      "<div class=\"entry-content\">\r\n",
      "<footer class=\"entry-footer\">\r\n",
      "<span class=\"tags-links\"><span class=\"screen-reader-text\">标签 </span><strong>公告</strong></span><br/>\r\n",
      "有关书籍《Python数据分析与数据化运营》的电子版，将定期更新（一周更新2节），具体请访问：\r\n",
      "<a title=\"《python数据分析与数据化运营》电子版\" href=\"http://www.dataivy.cn/python_book/\" target=\"_blank\"><strong>《Python数据分析与数据化运营》电子版</strong></a><br />\r\n",
      "有关本书的常见问题以及勘误等信息，请读者朋友直接点击下面链接进入：\r\n",
      "<ul>\r\n",
      "\t<li><a title=\"《Python数据分析与数据化运营》常见问题\" href=\"http://www.dataivy.cn/blog/python_book_faq/\" target=\"_blank\">《Python数据分析与数据化运营》常见问题</a></li>\r\n",
      "\t<li><a title=\"《python数据分析与数据化运营》勘误/\" href=\"http://www.dataivy.cn/blog/httpwww-dataivy-cnblogpython_book_knows_issues/\" target=\"_blank\">《Python数据分析与数据化运营》勘误</a></li>\r\n",
      "</ul>\r\n",
      "</footer></div></div>\n",
      "\n",
      "<article id=\"post-469\" class=\"post-469 post type-post status-publish format-standard hentry category-clustering tag-dbscan tag-k-means tag-minibatchkmeans tag-79\">\n",
      "\t\n",
      "\t<header class=\"entry-header\">\n",
      "\t\t<h1 class=\"entry-title\">DBSCAN</h1>\t</header><!-- .entry-header -->\n",
      "\n",
      "\t<div class=\"entry-content\">\n",
      "\t\t<p>DBSCAN的全部英文是Density-Based Spatial Clustering of Applications with Noise，中文是“基于密度的带有噪声的空间聚类”。DBSCAN是一个比较有代表性的基于密度的聚类算法，与划分和层次聚类方法不同，它将簇定义为密度相连的点的最大集合，能够把具有足够高密度的区域划分为簇，并可在噪声的空间数据库中发现任意形状的聚类。</p>\n",
      "<p><span id=\"more-469\"></span></p>\n",
      "<p>该算法利用基于密度的聚类的概念，即要求聚类空间中的一定区域内（用Eps定义出的半径）所包含对象（点或其他空间对象）的数目不小于某一给定阈值（用MinPts定义的聚类点数）。</p>\n",
      "<p>DBSCAN算法的显著优点是聚类能够<strong>有效处理噪声点</strong>和发现<strong>任意形状</strong>的空间聚类。但是由于它直接对整个数据库进行操作且进行聚类时使用了一个全局性的表征密度的参数，因 此也具有两个比较明显的弱点：</p>\n",
      "<ul>\n",
      "<li>对于高维问题， 基于Eps和MinPts密度定义是个很大问题</li>\n",
      "<li>当簇的密度变化太大时，聚类结果较差</li>\n",
      "<li>当数据量增大时，要求较大的内存支持，I/0消耗也很大</li>\n",
      "</ul>\n",
      "<p>DBSCAN算法的目是基于密度寻找被低密度区域分离的高密度，以此来实现不同样本点的聚类。跟传统聚类算法如K-Means相比，它具有以下优点：</p>\n",
      "<ul>\n",
      "<li>原始数据集的分布没有明显要求，因此数据集适用性更广，尤其是非凸装、圆环形等异形簇分布的识别较好；</li>\n",
      "<li>与K-Means相比，无需指定聚类数量，对结果的先验要求不高；</li>\n",
      "<li>由于DBSCAN可区分核心对象、边界点和噪音点，因此对噪声的过滤效果好。</li>\n",
      "</ul>\n",
      "<p>基于密度的定义，可将所有样本点分为三类：</p>\n",
      "<ul>\n",
      "<li>稠密区域内部的点（核心点）：在半径Eps内含有超过MinPts数目的点。</li>\n",
      "<li>稠密区域边缘上的点（边界点）：在半径Eps内点的数量小于MinPts（即不是核心点），但是其邻域内包含至少一个核心点。</li>\n",
      "<li>稀疏区域中的点（噪声或背景点）： 任何不是核心点或边界点的点。</li>\n",
      "</ul>\n",
      "<p>用图形表示如下图：</p>\n",
      "<p><a href=\"http://www.dataivy.cn/wp-content/uploads/2015/05/DBSCAN11.png\"><img class=\"alignnone size-full wp-image-474\" src=\"http://www.dataivy.cn/wp-content/uploads/2015/05/DBSCAN11.png\" alt=\"DBSCAN11\" width=\"925\" height=\"402\" /></a></p>\n",
      "<p>&nbsp;<br />\n",
      "DBSCAN应用</p>\n",
      "<p>以下使用Python机器学习库SKlearn中的DBSCAN来进行演示演示，目标是对随机生成的数据集进行聚类。<br />\n",
      "&nbsp;<br />\n",
      "<code></p>\n",
      "<div class=\"dp-highlighter nogutter\">\n",
      "<div class=bar></div>\n",
      "<ol class=dp-py>\n",
      "<li class=alt><span><span class=comment>#coding:utf-8 </span><span>&nbsp;&nbsp;</span></span></li>\n",
      "<li><span>&nbsp;&nbsp;</span></li>\n",
      "<li class=alt><span></span><span class=keyword>import</span><span>&nbsp;numpy&nbsp;as&nbsp;np &nbsp;&nbsp;</span></li>\n",
      "<li><span></span><span class=keyword>from</span><span>&nbsp;sklearn.cluster&nbsp;</span><span class=keyword>import</span><span>&nbsp;DBSCAN &nbsp;&nbsp;</span></li>\n",
      "<li class=alt><span></span><span class=keyword>from</span><span>&nbsp;sklearn&nbsp;</span><span class=keyword>import</span><span>&nbsp;metrics &nbsp;&nbsp;</span></li>\n",
      "<li><span></span><span class=keyword>from</span><span>&nbsp;sklearn.datasets.samples_generator&nbsp;</span><span class=keyword>import</span><span>&nbsp;make_blobs &nbsp;&nbsp;</span></li>\n",
      "<li class=alt><span></span><span class=keyword>from</span><span>&nbsp;sklearn.preprocessing&nbsp;</span><span class=keyword>import</span><span>&nbsp;StandardScaler &nbsp;&nbsp;</span></li>\n",
      "<li><span></span><span class=keyword>import</span><span>&nbsp;matplotlib.pyplot&nbsp;as&nbsp;plt &nbsp;&nbsp;</span></li>\n",
      "<li class=alt><span>&nbsp;&nbsp;</span></li>\n",
      "<li><span></span><span class=comment>#&nbsp;生成训练数据 </span><span>&nbsp;&nbsp;</span></li>\n",
      "<li class=alt><span>centers&nbsp;=&nbsp;[[1,&nbsp;1],&nbsp;[-1,&nbsp;-1],&nbsp;[1,&nbsp;-1]] &nbsp;&nbsp;</span></li>\n",
      "<li><span>X,&nbsp;labels_true&nbsp;=&nbsp;make_blobs(n_samples=750,&nbsp;centers=centers,&nbsp;cluster_std=0.4,&nbsp;random_state=0) &nbsp;&nbsp;</span></li>\n",
      "<li class=alt><span>&nbsp;&nbsp;</span></li>\n",
      "<li><span>X&nbsp;=&nbsp;StandardScaler().fit_transform(X) &nbsp;&nbsp;</span></li>\n",
      "<li class=alt><span>&nbsp;&nbsp;</span></li>\n",
      "<li><span></span><span class=comment>#&nbsp;训练DBSCAN </span><span>&nbsp;&nbsp;</span></li>\n",
      "<li class=alt><span>db&nbsp;=&nbsp;DBSCAN(eps=0.3,&nbsp;min_samples=10).fit(X) &nbsp;&nbsp;</span></li>\n",
      "<li><span>core_samples_mask&nbsp;=&nbsp;np.zeros_like(db.labels_,&nbsp;dtype=</span><span class=builtins>bool</span><span>) &nbsp;&nbsp;</span></li>\n",
      "<li class=alt><span>core_samples_mask[db.core_sample_indices_]&nbsp;=&nbsp;</span><span class=builtins>True</span><span>&nbsp;&nbsp;</span></li>\n",
      "<li><span>labels&nbsp;=&nbsp;db.labels_ &nbsp;&nbsp;</span></li>\n",
      "<li class=alt><span>new_X&nbsp;=&nbsp;np.column_stack((X,&nbsp;labels)) &nbsp;&nbsp;</span></li>\n",
      "<li><span>&nbsp;&nbsp;</span></li>\n",
      "<li class=alt><span></span><span class=comment>#&nbsp;如果存在噪音则去除 </span><span>&nbsp;&nbsp;</span></li>\n",
      "<li><span>n_clusters_&nbsp;=&nbsp;</span><span class=builtins>len</span><span>(set(labels))&nbsp;-&nbsp;(1&nbsp;</span><span class=keyword>if</span><span>&nbsp;-1&nbsp;</span><span class=keyword>in</span><span>&nbsp;labels&nbsp;</span><span class=keyword>else</span><span>&nbsp;0) &nbsp;&nbsp;</span></li>\n",
      "<li class=alt><span>&nbsp;&nbsp;</span></li>\n",
      "<li><span></span><span class=keyword>print</span><span>('Estimated&nbsp;number&nbsp;of&nbsp;clusters:&nbsp;%d'&nbsp;%&nbsp;n_clusters_) &nbsp;&nbsp;</span></li>\n",
      "<li class=alt><span></span><span class=keyword>print</span><span>(\"Homogeneity:&nbsp;%0.3f\"&nbsp;%&nbsp;metrics.homogeneity_score(labels_true,&nbsp;labels)) &nbsp;&nbsp;</span></li>\n",
      "<li><span></span><span class=keyword>print</span><span>(\"Completeness:&nbsp;%0.3f\"&nbsp;%&nbsp;metrics.completeness_score(labels_true,&nbsp;labels)) &nbsp;&nbsp;</span></li>\n",
      "<li class=alt><span></span><span class=keyword>print</span><span>(\"V-measure:&nbsp;%0.3f\"&nbsp;%&nbsp;metrics.v_measure_score(labels_true,&nbsp;labels)) &nbsp;&nbsp;</span></li>\n",
      "<li><span></span><span class=keyword>print</span><span>(\"Adjusted&nbsp;Rand&nbsp;Index:&nbsp;%0.3f\" &nbsp;&nbsp;</span></li>\n",
      "<li class=alt><span>&nbsp;&nbsp;&nbsp;&nbsp;&nbsp;&nbsp;%&nbsp;metrics.adjusted_rand_score(labels_true,&nbsp;labels)) &nbsp;&nbsp;</span></li>\n",
      "<li><span></span><span class=keyword>print</span><span>(\"Adjusted&nbsp;Mutual&nbsp;Information:&nbsp;%0.3f\" &nbsp;&nbsp;</span></li>\n",
      "<li class=alt><span>&nbsp;&nbsp;&nbsp;&nbsp;&nbsp;&nbsp;%&nbsp;metrics.adjusted_mutual_info_score(labels_true,&nbsp;labels)) &nbsp;&nbsp;</span></li>\n",
      "<li><span></span><span class=keyword>print</span><span>(\"Silhouette&nbsp;Coefficient:&nbsp;%0.3f\" &nbsp;&nbsp;</span></li>\n",
      "<li class=alt><span>&nbsp;&nbsp;&nbsp;&nbsp;&nbsp;&nbsp;%&nbsp;metrics.silhouette_score(X,&nbsp;labels)) &nbsp;&nbsp;</span></li>\n",
      "<li><span></span><span class=keyword>print</span><span>(\"Top&nbsp;10&nbsp;samples:\",new_X[:10]) &nbsp;&nbsp;</span></li>\n",
      "<li class=alt><span>&nbsp;&nbsp;</span></li>\n",
      "<li><span></span><span class=comment>#&nbsp;图形展示 </span><span>&nbsp;&nbsp;</span></li>\n",
      "<li class=alt><span>unique_labels&nbsp;=&nbsp;set(labels) &nbsp;&nbsp;</span></li>\n",
      "<li><span>colors&nbsp;=&nbsp;plt.cm.Spectral(np.linspace(0,&nbsp;1,&nbsp;</span><span class=builtins>len</span><span>(unique_labels))) &nbsp;&nbsp;</span></li>\n",
      "<li class=alt><span></span><span class=keyword>for</span><span>&nbsp;k,&nbsp;col&nbsp;</span><span class=keyword>in</span><span>&nbsp;</span><span class=builtins>zip</span><span>(unique_labels,&nbsp;colors): &nbsp;&nbsp;</span></li>\n",
      "<li><span>&nbsp;&nbsp;&nbsp;&nbsp;</span><span class=keyword>if</span><span>&nbsp;k&nbsp;==&nbsp;-1: &nbsp;&nbsp;</span></li>\n",
      "<li class=alt><span>&nbsp;&nbsp;&nbsp;&nbsp;&nbsp;&nbsp;&nbsp;&nbsp;</span><span class=comment>#&nbsp;噪音显示为黑色. </span><span>&nbsp;&nbsp;</span></li>\n",
      "<li><span>&nbsp;&nbsp;&nbsp;&nbsp;&nbsp;&nbsp;&nbsp;&nbsp;col&nbsp;=&nbsp;'k' &nbsp;&nbsp;</span></li>\n",
      "<li class=alt><span>&nbsp;&nbsp;</span></li>\n",
      "<li><span>&nbsp;&nbsp;&nbsp;&nbsp;class_member_mask&nbsp;=&nbsp;(labels&nbsp;==&nbsp;k) &nbsp;&nbsp;</span></li>\n",
      "<li class=alt><span>&nbsp;&nbsp;</span></li>\n",
      "<li><span>&nbsp;&nbsp;&nbsp;&nbsp;xy&nbsp;=&nbsp;X[class_member_mask&nbsp;&amp;&nbsp;core_samples_mask] &nbsp;&nbsp;</span></li>\n",
      "<li class=alt><span>&nbsp;&nbsp;&nbsp;&nbsp;plt.plot(xy[:,&nbsp;0],&nbsp;xy[:,&nbsp;1],&nbsp;'o',&nbsp;markerfacecolor=col, &nbsp;&nbsp;</span></li>\n",
      "<li><span>&nbsp;&nbsp;&nbsp;&nbsp;&nbsp;&nbsp;&nbsp;&nbsp;&nbsp;&nbsp;&nbsp;&nbsp;&nbsp;markeredgecolor='k',&nbsp;markersize=14) &nbsp;&nbsp;</span></li>\n",
      "<li class=alt><span>&nbsp;&nbsp;</span></li>\n",
      "<li><span>&nbsp;&nbsp;&nbsp;&nbsp;xy&nbsp;=&nbsp;X[class_member_mask&nbsp;&amp;&nbsp;~core_samples_mask] &nbsp;&nbsp;</span></li>\n",
      "<li class=alt><span>&nbsp;&nbsp;&nbsp;&nbsp;plt.plot(xy[:,&nbsp;0],&nbsp;xy[:,&nbsp;1],&nbsp;'o',&nbsp;markerfacecolor=col, &nbsp;&nbsp;</span></li>\n",
      "<li><span>&nbsp;&nbsp;&nbsp;&nbsp;&nbsp;&nbsp;&nbsp;&nbsp;&nbsp;&nbsp;&nbsp;&nbsp;&nbsp;markeredgecolor='k',&nbsp;markersize=6) &nbsp;&nbsp;</span></li>\n",
      "<li class=alt><span>&nbsp;&nbsp;</span></li>\n",
      "<li><span>plt.title('Estimated&nbsp;number&nbsp;of&nbsp;clusters:&nbsp;%d'&nbsp;%&nbsp;n_clusters_) &nbsp;&nbsp;</span></li>\n",
      "<li class=alt><span>plt.show() &nbsp;&nbsp;</span></li>\n",
      "</ol>\n",
      "</div>\n",
      "<p></code></p>\n",
      "<p>运行结果如下：<br />\n",
      "<code></p>\n",
      "<div class=\"dp-highlighter nogutter\">\n",
      "<div class=bar></div>\n",
      "<ol class=dp-py>\n",
      "<li class=alt><span><span>Estimated&nbsp;number&nbsp;of&nbsp;clusters:&nbsp;3 &nbsp;&nbsp;</span></span></li>\n",
      "<li><span>Homogeneity:&nbsp;0.953 &nbsp;&nbsp;</span></li>\n",
      "<li class=alt><span>Completeness:&nbsp;0.883 &nbsp;&nbsp;</span></li>\n",
      "<li><span>V-measure:&nbsp;0.917 &nbsp;&nbsp;</span></li>\n",
      "<li class=alt><span>Adjusted&nbsp;Rand&nbsp;Index:&nbsp;0.952 &nbsp;&nbsp;</span></li>\n",
      "<li><span>Adjusted&nbsp;Mutual&nbsp;Information:&nbsp;0.883 &nbsp;&nbsp;</span></li>\n",
      "<li class=alt><span>Silhouette&nbsp;Coefficient:&nbsp;0.626 &nbsp;&nbsp;</span></li>\n",
      "<li><span>('Top&nbsp;10&nbsp;samples:',&nbsp;</span><span class=commonlibs>array</span><span>( &nbsp;&nbsp;</span></li>\n",
      "<li class=alt><span>&nbsp;&nbsp;&nbsp;&nbsp;&nbsp;&nbsp;[[&nbsp;0.49426097,&nbsp;&nbsp;1.45106697,&nbsp;&nbsp;1.&nbsp;&nbsp;&nbsp;&nbsp;&nbsp;&nbsp;&nbsp;&nbsp;], &nbsp;&nbsp;</span></li>\n",
      "<li><span>&nbsp;&nbsp;&nbsp;&nbsp;&nbsp;&nbsp;&nbsp;[-1.42808099,&nbsp;-0.83706377,&nbsp;&nbsp;0.&nbsp;&nbsp;&nbsp;&nbsp;&nbsp;&nbsp;&nbsp;&nbsp;], &nbsp;&nbsp;</span></li>\n",
      "<li class=alt><span>&nbsp;&nbsp;&nbsp;&nbsp;&nbsp;&nbsp;&nbsp;[&nbsp;0.33855918,&nbsp;&nbsp;1.03875871,&nbsp;&nbsp;1.&nbsp;&nbsp;&nbsp;&nbsp;&nbsp;&nbsp;&nbsp;&nbsp;], &nbsp;&nbsp;</span></li>\n",
      "<li><span>&nbsp;&nbsp;&nbsp;&nbsp;&nbsp;&nbsp;&nbsp;[&nbsp;0.11900101,&nbsp;-1.05397553,&nbsp;&nbsp;2.&nbsp;&nbsp;&nbsp;&nbsp;&nbsp;&nbsp;&nbsp;&nbsp;], &nbsp;&nbsp;</span></li>\n",
      "<li class=alt><span>&nbsp;&nbsp;&nbsp;&nbsp;&nbsp;&nbsp;&nbsp;[&nbsp;1.1224246&nbsp;,&nbsp;&nbsp;1.77493654,&nbsp;&nbsp;1.&nbsp;&nbsp;&nbsp;&nbsp;&nbsp;&nbsp;&nbsp;&nbsp;], &nbsp;&nbsp;</span></li>\n",
      "<li><span>&nbsp;&nbsp;&nbsp;&nbsp;&nbsp;&nbsp;&nbsp;[-1.2615699&nbsp;,&nbsp;&nbsp;0.27188135,&nbsp;&nbsp;0.&nbsp;&nbsp;&nbsp;&nbsp;&nbsp;&nbsp;&nbsp;&nbsp;], &nbsp;&nbsp;</span></li>\n",
      "<li class=alt><span>&nbsp;&nbsp;&nbsp;&nbsp;&nbsp;&nbsp;&nbsp;[-1.30154775,&nbsp;-0.76206203,&nbsp;&nbsp;0.&nbsp;&nbsp;&nbsp;&nbsp;&nbsp;&nbsp;&nbsp;&nbsp;], &nbsp;&nbsp;</span></li>\n",
      "<li><span>&nbsp;&nbsp;&nbsp;&nbsp;&nbsp;&nbsp;&nbsp;[&nbsp;0.58569865,&nbsp;-0.33910463,&nbsp;&nbsp;2.&nbsp;&nbsp;&nbsp;&nbsp;&nbsp;&nbsp;&nbsp;&nbsp;], &nbsp;&nbsp;</span></li>\n",
      "<li class=alt><span>&nbsp;&nbsp;&nbsp;&nbsp;&nbsp;&nbsp;&nbsp;[&nbsp;1.08247212,&nbsp;&nbsp;0.8868554&nbsp;,&nbsp;&nbsp;1.&nbsp;&nbsp;&nbsp;&nbsp;&nbsp;&nbsp;&nbsp;&nbsp;], &nbsp;&nbsp;</span></li>\n",
      "<li><span>&nbsp;&nbsp;&nbsp;&nbsp;&nbsp;&nbsp;&nbsp;[&nbsp;1.01416668,&nbsp;&nbsp;1.34114022,&nbsp;&nbsp;1.&nbsp;&nbsp;&nbsp;&nbsp;&nbsp;&nbsp;&nbsp;&nbsp;]])) &nbsp;&nbsp;</span></li>\n",
      "</ol>\n",
      "</div>\n",
      "<p></code><br />\n",
      "<a href=\"http://www.dataivy.cn/wp-content/uploads/2015/05/dbscan_result11.png\"><img src=\"http://www.dataivy.cn/wp-content/uploads/2015/05/dbscan_result11.png\" alt=\"dbscan_result11\" width=\"681\" height=\"380\" class=\"alignnone size-full wp-image-476\" /></a><br />\n",
      "DBSCAN可配置的参数如下，重点是半径eps和密度min_samples的定义：<br />\n",
      "<code></p>\n",
      "<div class=\"dp-highlighter nogutter\">\n",
      "<div class=bar></div>\n",
      "<ol class=dp-py>\n",
      "<li class=alt><span><span class=keyword>class</span><span>&nbsp;sklearn.cluster.DBSCAN(eps=0.5,&nbsp;min_samples=5,&nbsp;metric='euclidean',&nbsp;algorithm='auto',&nbsp;leaf_size=30,&nbsp;p=None,&nbsp;random_state=None)&nbsp;&nbsp;</span></span></li>\n",
      "</ol>\n",
      "</div>\n",
      "<p></code><br />\n",
      "&nbsp;<br />\n",
      "DBSCAN应用场景：</p>\n",
      "<ul>\n",
      "<li>数据集聚类，如会员聚类；</li>\n",
      "<li>图像切割；</li>\n",
      "</ul>\n",
      "<hr />\n",
      "<p>&nbsp;</p>\n",
      "<p>尾巴</p>\n",
      "<p>DBSCAN的最大优势是它对于原始数据集的分布几乎没有要求，并且对噪音不敏感，因此，它的模型适应性和鲁棒性相对较强；但是，它对于大数据集的处理速度只能算是一般，以下是分别针对100，1000，10000，100000，1000000样本量进行聚类（类别数为三，二维），得到三类算法KMeans、MiniBatchKMeans和DBSCAN的聚类用时。由于三者计算用时差异比较大，因此取对数进行图形对比。从结果可以看出，MiniBatchKMeans由于是KMeans的优化版本，因此用时少是毫无疑问的，重点是KMeans和DBSCAN的对比发现，DBSCAN在对100万数据聚类时用时竟然达到40多分钟。<br />\n",
      "<a href=\"http://www.dataivy.cn/wp-content/uploads/2015/05/dbscan_time11.png\"><img src=\"http://www.dataivy.cn/wp-content/uploads/2015/05/dbscan_time11.png\" alt=\"dbscan_time11\" width=\"886\" height=\"462\" class=\"alignnone size-full wp-image-478\" /></a></p>\n",
      "<p><code></p>\n",
      "<div class=\"dp-highlighter nogutter\">\n",
      "<ol class=dp-py>\n",
      "<li class=alt><span><span>('DBSCAN&nbsp;Time:',&nbsp;[[100,&nbsp;0.015000104904174805],&nbsp;[1000,&nbsp;0.2969999313354492],&nbsp;[10000,&nbsp;3.9000000953674316],&nbsp;[100000,&nbsp;69.59299993515015],&nbsp;[1000000,2854.7410000000]]) &nbsp;&nbsp;</span></span></li>\n",
      "<li><span>('MiniBatchKMeans&nbsp;Time:',&nbsp;[[100,&nbsp;0.016000032424926758],&nbsp;[1000,&nbsp;0.016000032424926758],&nbsp;[10000,&nbsp;0.031000137329101562],&nbsp;[100000,&nbsp;0.20300006866455078],&nbsp;[1000000,&nbsp;1.748000144958496]]) &nbsp;&nbsp;</span></li>\n",
      "<li class=alt><span>('KMeans&nbsp;Time:',&nbsp;[[100,&nbsp;0.014999866485595703],&nbsp;[1000,&nbsp;0.015000104904174805],&nbsp;[10000,&nbsp;0.07799983024597168],&nbsp;[100000,&nbsp;0.7639999389648438],&nbsp;[1000000,&nbsp;6.769999980926514]]) &nbsp;&nbsp;</span></li>\n",
      "</ol>\n",
      "</div>\n",
      "<p></code></p>\n",
      "<div class='code-block code-block-1' style='margin: 8px 0; clear: both;'>\n",
      "<br/>\r\n",
      "<p>\r\n",
      "</p>\r\n",
      "<p>\r\n",
      "\t<strong><span style=\"color:#E56600;\">====================【好书推荐，我为自己代言】====================</span></strong> \r\n",
      "</p>\r\n",
      "<h2 style=\"text-align:center;\">\r\n",
      "\t<strong><span style=\"color:#E56600;\">《Python数据分析与数据化运营》上市啦！</span></strong> \r\n",
      "</h2>\r\n",
      "<span style=\"color:#E56600;\"> \r\n",
      "<div style=\"text-align:center;\">\r\n",
      "\t<span>50+数据流工作知识点</span> \r\n",
      "</div>\r\n",
      "</span><span style=\"color:#E56600;\"> \r\n",
      "<div style=\"text-align:center;\">\r\n",
      "\t<span>14个数据分析与挖掘主题</span> \r\n",
      "</div>\r\n",
      "</span><span style=\"color:#E56600;\"> \r\n",
      "<div style=\"text-align:center;\">\r\n",
      "\t<span>8个综合性运营分析案例</span> \r\n",
      "</div>\r\n",
      "</span><span style=\"color:#E56600;\"> \r\n",
      "<div style=\"text-align:center;\">\r\n",
      "\t<span>涵盖会员、商品、流量、内容4大主题</span> \r\n",
      "</div>\r\n",
      "</span><span style=\"color:#E56600;\"> \r\n",
      "<div style=\"text-align:center;\">\r\n",
      "\t<span>360°把脉运营问题并贴合数据场景落地</span> \r\n",
      "</div>\r\n",
      "</span> \r\n",
      "<br/><br/>\r\n",
      "\r\n",
      "本书主要基于Python实现，其中主要用到的计算库是numpy、pandas和sklearn，其他相关库还包括：\r\n",
      "<ul>\r\n",
      "\t<li>标准库：re、time、datetime、json、 base64、os、sys、cPickle、tarfile</li>\r\n",
      "\t<li>统计分析：Statsmodels</li>\r\n",
      "\t<li>中文处理：结巴分词</li>\r\n",
      "\t<li>文本挖掘：Gensim</li>\r\n",
      "\t<li>爬虫和解析：requests、Beautiful Soup、xml</li>\r\n",
      "\t<li>图像处理：OpenCV和PIL</li>\r\n",
      "\t<li>数据读取：xlrd、pymongo、mysql.connector</li>\r\n",
      "\t<li>数据预处理：imblearn</li>\r\n",
      "\t<li>展示美化类：Matplotlib、graphviz、prettytable、wordcloud、mpl_toolkits、pydotplus</li>\r\n",
      "</ul>\r\n",
      "\r\n",
      "如果你对以下内容感兴趣，那么本书将值得一看：\r\n",
      "<ul>\r\n",
      "\t<li>KMeans聚类的自动K均值的确立方法</li>\r\n",
      "\t<li>基于软方法的多分类模型组合评估模型的应用</li>\r\n",
      "\t<li>基于自动下探（下钻、细分）的应用</li>\r\n",
      "\t<li>基于增量学习的多项式贝叶斯分类</li>\r\n",
      "\t<li>pipeline管道技术的应用</li>\r\n",
      "\t<li>基于超参数的自动参数值的优化方法</li>\r\n",
      "\t<li>特征自动选择</li>\r\n",
      "\t<li>文本分类、文本主题挖掘</li>\r\n",
      "\t<li>基于自动时间序列ARIMA的P、D、Q的调整</li>\r\n",
      "\t<li>python决策树规则输出</li>\r\n",
      "\t<li>基于自定义图像的文本标签云</li>\r\n",
      "\t<li>非结构化数据，例如图像、音频、文本等处理</li>\r\n",
      "\t<li>对象持久化处理</li>\r\n",
      "</ul>\r\n",
      "\r\n",
      "<div style=\"text-align:center;\">\r\n",
      "\t<span>有关这本书的写作感受、详细内容介绍、附件（含数据和代码源文件-源代码可更改数据源直接使用）下载、关键知识和方法以及完整书稿目录，请访问<a href=\"http://www.dataivy.cn/python-data-analysis-and-data-operations/\"  onclick=\"_hmt.push(['_trackEvent', 'book', 'python', 'page_adinsert_link', 1])\"  target=\"_blank\" rel=\"nofollow\" title=\"去京东购买\">《Python数据分析与数据化运营》新书上线</a>，要购买此书请直接点击图片或扫描二维码去京东购买</span> \r\n",
      "</div>\r\n",
      "<a href=\"http://item.jd.com/12254905.html\"  onclick=\"_hmt.push(['_trackEvent', 'book', 'python', 'page_adinsert_img', 1])\" target=\"_blank\" rel=\"nofollow\" title=\"去京东购买\"><img src=\"http://www.dataivy.cn/book/python_book_foot_banner.jpg\"></a>\r\n",
      "<br/>\r\n",
      "<div><a href=\"http://item.jd.com/12254905.html\" target=\"_blank\" rel=\"nofollow\" title=\"去京东购买\"><img src=\"http://www.dataivy.cn/book/jd_qr.png\" style=\"margin: 0 auto;\"></a></div></div>\n",
      "\t</div><!-- .entry-content -->\n",
      "\n",
      "\t\n",
      "\t<footer class=\"entry-footer\">\n",
      "\t\t<span class=\"posted-on\"><span class=\"screen-reader-text\">发布于 </span><a href=\"http://www.dataivy.cn/blog/dbscan/\" rel=\"bookmark\"><time class=\"entry-date published\" datetime=\"2015-05-28T07:14:06+00:00\">2015年5月28日</time><time class=\"updated\" datetime=\"2015-05-22T07:15:49+00:00\">2015年5月22日</time></a></span><span class=\"byline\"><span class=\"author vcard\"><span class=\"screen-reader-text\">作者 </span><a class=\"url fn n\" href=\"http://www.dataivy.cn/blog/author/admin/\">admin</a></span></span><span class=\"cat-links\"><span class=\"screen-reader-text\">分类 </span><a href=\"http://www.dataivy.cn/blog/category/unsupervised-learning/clustering/\" rel=\"category tag\">聚类</a></span><span class=\"tags-links\"><span class=\"screen-reader-text\">标签 </span><a href=\"http://www.dataivy.cn/blog/tag/dbscan/\" rel=\"tag\">DBSCAN</a>、<a href=\"http://www.dataivy.cn/blog/tag/k-means/\" rel=\"tag\">K-Means</a>、<a href=\"http://www.dataivy.cn/blog/tag/minibatchkmeans/\" rel=\"tag\">MiniBatchKMeans</a>、<a href=\"http://www.dataivy.cn/blog/tag/%e8%81%9a%e7%b1%bb/\" rel=\"tag\">聚类</a></span>\t\t\t</footer><!-- .entry-footer -->\n",
      "\n",
      "</article><!-- #post-## -->\n",
      "\n",
      "<div id=\"comments\" class=\"comments-area\">\n",
      "\n",
      "\t\n",
      "\t\n",
      "\t\t\t\t\t\t\t\t\t<div id=\"respond\" class=\"comment-respond\">\n",
      "\t\t\t\t<h3 id=\"reply-title\" class=\"comment-reply-title\">发表评论 <small><a rel=\"nofollow\" id=\"cancel-comment-reply-link\" href=\"/blog/dbscan/#respond\" style=\"display:none;\">取消回复</a></small></h3>\n",
      "\t\t\t\t\t\t\t\t\t<form action=\"http://www.dataivy.cn/wp-comments-post.php\" method=\"post\" id=\"commentform\" class=\"comment-form\" novalidate>\n",
      "\t\t\t\t\t\t\t\t\t\t\t\t\t\t\t\t\t\t\t<p class=\"comment-notes\"><span id=\"email-notes\">电子邮件地址不会被公开。</span> 必填项已用<span class=\"required\">*</span>标注</p>\t\t\t\t\t\t\t<p class=\"comment-form-author\"><label for=\"author\">姓名 <span class=\"required\">*</span></label> <input id=\"author\" name=\"author\" type=\"text\" value=\"\" size=\"30\" aria-required='true' /></p>\n",
      "<p class=\"comment-form-email\"><label for=\"email\">电子邮件 <span class=\"required\">*</span></label> <input id=\"email\" name=\"email\" type=\"email\" value=\"\" size=\"30\" aria-describedby=\"email-notes\" aria-required='true' /></p>\n",
      "<p class=\"comment-form-url\"><label for=\"url\">站点</label> <input id=\"url\" name=\"url\" type=\"url\" value=\"\" size=\"30\" /></p>\n",
      "\t\t\t\t\t\t\t\t\t\t\t\t<p class=\"comment-form-comment\"><label for=\"comment\">评论</label> <textarea id=\"comment\" name=\"comment\" cols=\"45\" rows=\"8\" aria-describedby=\"form-allowed-tags\" aria-required=\"true\"></textarea></p>\t\t\t\t\t\t<p class=\"form-allowed-tags\" id=\"form-allowed-tags\">您可以使用这些<abbr title=\"HyperText Markup Language\">HTML</abbr>标签和属性： <code>&lt;a href=&quot;&quot; title=&quot;&quot;&gt; &lt;abbr title=&quot;&quot;&gt; &lt;acronym title=&quot;&quot;&gt; &lt;b&gt; &lt;blockquote cite=&quot;&quot;&gt; &lt;cite&gt; &lt;code&gt; &lt;del datetime=&quot;&quot;&gt; &lt;em&gt; &lt;i&gt; &lt;q cite=&quot;&quot;&gt; &lt;strike&gt; &lt;strong&gt; </code></p>\t\t\t\t\t\t<p class=\"form-submit\">\n",
      "\t\t\t\t\t\t\t<input name=\"submit\" type=\"submit\" id=\"submit\" class=\"submit\" value=\"发表评论\" />\n",
      "\t\t\t\t\t\t\t<input type='hidden' name='comment_post_ID' value='469' id='comment_post_ID' />\n",
      "<input type='hidden' name='comment_parent' id='comment_parent' value='0' />\n",
      "\t\t\t\t\t\t</p>\n",
      "\t\t\t\t\t\t<p style=\"display: none;\"><input type=\"hidden\" id=\"akismet_comment_nonce\" name=\"akismet_comment_nonce\" value=\"2c70609583\" /></p><p style=\"display: none;\"><input type=\"hidden\" id=\"ak_js\" name=\"ak_js\" value=\"53\"/></p>\t\t\t\t\t</form>\n",
      "\t\t\t\t\t\t\t</div><!-- #respond -->\n",
      "\t\t\t\n",
      "</div><!-- .comments-area -->\n",
      "\n",
      "\t<nav class=\"navigation post-navigation\" role=\"navigation\">\n",
      "\t\t<h2 class=\"screen-reader-text\">文章导航</h2>\n",
      "\t\t<div class=\"nav-links\"><div class=\"nav-previous\"><a href=\"http://www.dataivy.cn/blog/%e8%b0%b1%e8%81%9a%e7%b1%bbspectral-clustering/\" rel=\"prev\"><span class=\"meta-nav\" aria-hidden=\"true\">上一</span> <span class=\"screen-reader-text\">上篇文章：</span> <span class=\"post-title\">谱聚类Spectral clustering(SC)</span></a></div><div class=\"nav-next\"><a href=\"http://www.dataivy.cn/blog/python-%e8%af%bb%e5%8f%96%e9%9d%9e%e7%bb%93%e6%9e%84%e5%8c%96log%e6%96%87%e6%9c%ac%e6%95%b0%e6%8d%ae/\" rel=\"next\"><span class=\"meta-nav\" aria-hidden=\"true\">下一</span> <span class=\"screen-reader-text\">下篇文章：</span> <span class=\"post-title\">Python 读取非结构化log文本数据</span></a></div></div>\n",
      "\t</nav>\n",
      "\t\t</main><!-- .site-main -->\n",
      "\t</div><!-- .content-area -->\n",
      "\n",
      "\n",
      "\t</div><!-- .site-content -->\n",
      "\n",
      "\t<footer id=\"colophon\" class=\"site-footer\" role=\"contentinfo\">\n",
      "\t\t<div class=\"site-info\">\n",
      "\t\t\t\t\t\tCopyright &copy; <a href=\"http://dataivy.cn/\">数据常青藤</a> ( <a href=\"http://www.miitbeian.gov.cn/\" target=\"_blank\">京ICP备14022700号</a> )\n",
      "\t\t</div><!-- .site-info -->\n",
      "\t</footer><!-- .site-footer -->\n",
      "\n",
      "</div><!-- .site -->\n",
      "\n",
      "<script type='text/javascript' src='http://www.dataivy.cn/wp-content/themes/twentyfifteen/js/skip-link-focus-fix.js?ver=20141010'></script>\n",
      "<script type='text/javascript' src='http://www.dataivy.cn/wp-includes/js/comment-reply.min.js?ver=4.1.24'></script>\n",
      "<script type='text/javascript'>\n",
      "/* <![CDATA[ */\n",
      "var screenReaderText = {\"expand\":\"<span class=\\\"screen-reader-text\\\">\\u5c55\\u5f00\\u5b50\\u83dc\\u5355<\\/span>\",\"collapse\":\"<span class=\\\"screen-reader-text\\\">\\u6298\\u53e0\\u5b50\\u83dc\\u5355<\\/span>\"};\n",
      "/* ]]> */\n",
      "</script>\n",
      "<script type='text/javascript' src='http://www.dataivy.cn/wp-content/themes/twentyfifteen/js/functions.js?ver=20141212'></script>\n",
      "<script async=\"async\" type='text/javascript' src='http://www.dataivy.cn/wp-content/plugins/akismet/_inc/form.js?ver=4.0.3'></script>\n",
      "\t<!-- baidu-->\r\n",
      "<script>\r\n",
      "var _hmt = _hmt || [];\r\n",
      "(function() {\r\n",
      "  var hm = document.createElement(\"script\");\r\n",
      "  hm.src = \"https://hm.baidu.com/hm.js?21900d9e4e31b77a63b6f5a081a69f9e\";\r\n",
      "  var s = document.getElementsByTagName(\"script\")[0]; \r\n",
      "  s.parentNode.insertBefore(hm, s);\r\n",
      "})();\r\n",
      "</script>\r\n",
      "\t\n",
      "\t<!-- google analytics-->\n",
      "<script>\n",
      "  (function(i,s,o,g,r,a,m){i['GoogleAnalyticsObject']=r;i[r]=i[r]||function(){\n",
      "  (i[r].q=i[r].q||[]).push(arguments)},i[r].l=1*new Date();a=s.createElement(o),\n",
      "  m=s.getElementsByTagName(o)[0];a.async=1;a.src=g;m.parentNode.insertBefore(a,m)\n",
      "  })(window,document,'script','//www.google-analytics.com/analytics.js','ga');\n",
      "\n",
      "  ga('create', 'UA-50808718-1', 'auto', {\n",
      "                'siteSpeedSampleRate': 50,\n",
      "                'sampleRate': 90,\n",
      "                'allowLinker': true\n",
      "            }\n",
      "  );\n",
      "  ga('require', 'linkid', 'linkid.js');\n",
      "  ga('require', 'displayfeatures');\n",
      "// START local backup of GA data request\n",
      "ga(function(tracker) {\n",
      "  var originalSendHitTask = tracker.get('sendHitTask');\n",
      "  tracker.set('sendHitTask', function(model) {\n",
      "    var payLoad = model.get('hitPayload');\n",
      "    originalSendHitTask(model);\n",
      "    var gifRequest = new XMLHttpRequest();\n",
      "    // Send __ua.gif to the local server\n",
      "    var gifPath = \"/__ua.gif\";\n",
      "    gifRequest.open('get', gifPath + '?' + payLoad, true);\n",
      "    gifRequest.send();\n",
      "  });\n",
      "});\n",
      "// END local backup of GA data request\n",
      "  ga('send', 'pageview');\n",
      "\n",
      "</script>\t<!-- Baidu push-->\n",
      "<script>\n",
      "(function(){\n",
      "    var bp = document.createElement('script');\n",
      "    var curProtocol = window.location.protocol.split(':')[0];\n",
      "    if (curProtocol === 'https') {\n",
      "        bp.src = 'https://zz.bdstatic.com/linksubmit/push.js';        \n",
      "    }\n",
      "    else {\n",
      "        bp.src = 'http://push.zhanzhang.baidu.com/push.js';\n",
      "    }\n",
      "    var s = document.getElementsByTagName(\"script\")[0];\n",
      "    s.parentNode.insertBefore(bp, s);\n",
      "})();\n",
      "</script>\n",
      "</body>\n",
      "</html>\n"
     ]
    }
   ],
   "source": [
    "import requests  # 导入库\n",
    "\n",
    "url = 'http://www.dataivy.cn/blog/dbscan/'  # 定义要抓取的网页地址\n",
    "res = requests.get(url)  # 获得返回请求\n",
    "html = res.text  # 返回文本信息\n",
    "print(html)  # 打印输出网页源代码"
   ]
  },
  {
   "cell_type": "markdown",
   "metadata": {},
   "source": [
    "## 2.3.2 读取非结构化文本数据"
   ]
  },
  {
   "cell_type": "code",
   "execution_count": 24,
   "metadata": {},
   "outputs": [
    {
     "name": "stdout",
     "output_type": "stream",
     "text": [
      "['120.26.227.125 - - [28/Feb/2017:20:06:51 +0800] \"GET / HTTP/1.1\" 200 10902 \"-\" \"curl\"\\n', '139.129.132.110 - - [28/Feb/2017:20:06:51 +0800] \"GET / HTTP/1.1\" 200 10903 \"-\" \"curl\"\\n']\n"
     ]
    }
   ],
   "source": [
    "file = 'traffic_log_for_dataivy'\n",
    "fn = open(file, 'r')  # 打开要读取的日志文件对象\n",
    "content = fn.readlines()  # 以列表形式读取日志数据\n",
    "print(content[:2])\n",
    "fn.close()  # 关闭文件对象"
   ]
  },
  {
   "cell_type": "markdown",
   "metadata": {},
   "source": [
    "## 2.3.3 读取图像数据"
   ]
  },
  {
   "cell_type": "markdown",
   "metadata": {},
   "source": [
    "### 1. 使用PIL读取图像"
   ]
  },
  {
   "cell_type": "code",
   "execution_count": 25,
   "metadata": {},
   "outputs": [
    {
     "name": "stdout",
     "output_type": "stream",
     "text": [
      "img format:  JPEG\n",
      "img size:  (435, 361)\n",
      "img mode:  RGB\n"
     ]
    }
   ],
   "source": [
    "from PIL import Image  # 导入库\n",
    "\n",
    "file = 'cat.jpg'  # 定义图片地址\n",
    "img = Image.open(file, mode=\"r\")  # 读取文件内容\n",
    "img.show()  # 展示图像内容\n",
    "print('img format: ', img.format)  # 打印图像格式\n",
    "print('img size: ', img.size)  # 打印图像尺寸\n",
    "print('img mode: ', img.mode)  # 打印图像色彩模式\n",
    "img_gray = img.convert('L')  # 转换为灰度模式\n",
    "img_gray.show()  # 展示图像"
   ]
  },
  {
   "cell_type": "markdown",
   "metadata": {},
   "source": [
    "### 2. 使用OpenCV读取图像"
   ]
  },
  {
   "cell_type": "code",
   "execution_count": 26,
   "metadata": {},
   "outputs": [
    {
     "data": {
      "text/plain": [
       "-1"
      ]
     },
     "execution_count": 26,
     "metadata": {},
     "output_type": "execute_result"
    }
   ],
   "source": [
    "#!pip install https://download.lfd.uci.edu/pythonlibs/h2ufg7oq/opencv_python-3.4.3-cp37-cp37m-win_amd64.whl\n",
    "import cv2  # 导入库\n",
    "file = 'cat.jpg'  # 定义图片地址\n",
    "img = cv2.imread(file)  # 读取图像\n",
    "cv2.imshow('image', img)  # 展示图像\n",
    "cv2.waitKey(0)  # 与显示参数配合使用"
   ]
  },
  {
   "cell_type": "markdown",
   "metadata": {},
   "source": [
    "### 3. 使用OpenCV读取图像并使用Matplotlib展示图像"
   ]
  },
  {
   "cell_type": "code",
   "execution_count": 27,
   "metadata": {},
   "outputs": [],
   "source": [
    "# 导入库\n",
    "import matplotlib.pyplot as plt\n",
    "import cv2  # 导入库"
   ]
  },
  {
   "cell_type": "code",
   "execution_count": 28,
   "metadata": {},
   "outputs": [],
   "source": [
    "# 读取图像文件并创建多图像副本\n",
    "file = 'cat.jpg'  # 定义图片地址\n",
    "img = cv2.imread(file)  # 读取图像\n",
    "b, g, r = cv2.split(img)  # 分离颜色三通道\n",
    "img2 = cv2.merge([r, g, b])  # 重新组合图像数据"
   ]
  },
  {
   "cell_type": "code",
   "execution_count": 29,
   "metadata": {},
   "outputs": [
    {
     "data": {
      "text/plain": [
       "<matplotlib.image.AxesImage at 0xdcb1390>"
      ]
     },
     "execution_count": 29,
     "metadata": {},
     "output_type": "execute_result"
    },
    {
     "data": {
      "image/png": "[encoded data removed]",
      "text/plain": [
       "<Figure size 432x288 with 2 Axes>"
      ]
     },
     "metadata": {
      "image/png": {
       "height": 172,
       "width": 377
      },
      "needs_background": "light"
     },
     "output_type": "display_data"
    }
   ],
   "source": [
    "# 使用Matplotlib展示图像\n",
    "plt.subplot(121)  # 定位第一个网格\n",
    "plt.title('Matplotlib BGR image')  # 设置子网格标题\n",
    "plt.imshow(img)  # 设置子网格展示的图像\n",
    "plt.subplot(122)  # 定位第二个网格\n",
    "plt.title('Matplotlib RGB image')  # 设置子网格标题\n",
    "plt.imshow(img2)  # 设置子网格展示的图像"
   ]
  },
  {
   "cell_type": "code",
   "execution_count": 30,
   "metadata": {},
   "outputs": [],
   "source": [
    "# 使用OpenCV展示图像\n",
    "cv2.imshow('OpenCV BGR image', img)  # 展示BGR图像\n",
    "cv2.imshow('OpenCV RGB image', img2)  # 展示RGB图像\n",
    "cv2.waitKey(0)  # 与显示参数配合使用\n",
    "cv2.destroyAllWindows()  # 关闭所有窗口"
   ]
  },
  {
   "cell_type": "markdown",
   "metadata": {},
   "source": [
    "## 2.3.4 读取视频数据"
   ]
  },
  {
   "cell_type": "code",
   "execution_count": 31,
   "metadata": {},
   "outputs": [],
   "source": [
    "import cv2  # 导入库\n",
    "cap = cv2.VideoCapture(\"tree.avi\")  # 获得视频对象\n",
    "status = cap.isOpened()  # 判断文件是否正确打开"
   ]
  },
  {
   "cell_type": "code",
   "execution_count": 32,
   "metadata": {},
   "outputs": [
    {
     "name": "stdout",
     "output_type": "stream",
     "text": [
      "frame width:  320.0\n",
      "frame height:  240.0\n",
      "frame count:  444.0\n",
      "frame fps:  14.999925000374999\n"
     ]
    }
   ],
   "source": [
    "# 输出基本属性\n",
    "if status:  # 如果正确打开，则获得视频的属性信息\n",
    "    frame_width = cap.get(3)  # 获得帧宽度\n",
    "    frame_height = cap.get(4)  # 获得帧高度\n",
    "    frame_count = cap.get(7)  # 获得总帧数\n",
    "    frame_fps = cap.get(5)  # 获得帧速率\n",
    "    print('frame width: ', frame_width)  # 打印输出\n",
    "    print('frame height: ', frame_height)  # 打印输出\n",
    "    print('frame count: ', frame_count)  # 打印输出\n",
    "    print('frame fps: ', frame_fps)  # 打印输出"
   ]
  },
  {
   "cell_type": "code",
   "execution_count": 33,
   "metadata": {},
   "outputs": [],
   "source": [
    "# 读取视频内容并展示视频\n",
    "success, frame = cap.read()  # 读取视频第一帧\n",
    "while success:  # 如果读取状态为True\n",
    "    cv2.imshow('vidoe frame', frame)  # 展示帧图像\n",
    "    success, frame = cap.read()  # 获取下一帧\n",
    "    k = cv2.waitKey(int(1000 / frame_fps))  # 每次帧播放延迟一定时间，同时等待输入指令\n",
    "    if k == 27:  # 如果等待期间检测到按键ESC\n",
    "        break  # 退出循环"
   ]
  },
  {
   "cell_type": "code",
   "execution_count": 34,
   "metadata": {},
   "outputs": [],
   "source": [
    "# 操作结束释放所有对象\n",
    "cv2.destroyAllWindows()  # 关闭所有窗口\n",
    "cap.release()  # 释放视频文件对象"
   ]
  },
  {
   "cell_type": "markdown",
   "metadata": {},
   "source": [
    "## 2.3.5 读取语音数据"
   ]
  },
  {
   "cell_type": "code",
   "execution_count": 35,
   "metadata": {},
   "outputs": [],
   "source": [
    "# 导入库\n",
    "import json  # 用来转换JSON字符串\n",
    "import base64  # 用来做语音文件的Base64编码\n",
    "import requests  # 用来发送服务器请求"
   ]
  },
  {
   "cell_type": "code",
   "execution_count": 36,
   "metadata": {},
   "outputs": [],
   "source": [
    "# 获得token\n",
    "API_Key = 'DdOyOKo0VZBgdDFQnyhINKYDGkzBkuQr'  # 从申请应用的key信息中获得\n",
    "Secret_Key = 'oiIboc5uLLUmUMPws3m0LUwb00HQidPx'  # 从申请应用的key信息中获得\n",
    "token_url = \"https://openapi.baidu.com/oauth/2.0/token?grant_type=client_credentials&client_id=%s&client_secret=%s\"  # 获得token的地址\n",
    "res = requests.get(token_url % (API_Key, Secret_Key))  # 发送请求\n",
    "res_text = res.text  # 获得请求中的文字信息\n",
    "token = json.loads(res_text)['access_token']  # 提取token信息"
   ]
  },
  {
   "cell_type": "code",
   "execution_count": 37,
   "metadata": {},
   "outputs": [],
   "source": [
    "# 定义要发送的语音\n",
    "voice_file = 'baidu_voice_test.pcm'  # 要识别的语音文件\n",
    "voice_fn = open(voice_file, 'rb')  # 以二进制的方式打开文件\n",
    "org_voice_data = voice_fn.read()  # 读取文件内容\n",
    "org_voice_len = len(org_voice_data)  # 获得文件长度\n",
    "base64_voice_data = base64.b64encode(org_voice_data).decode('utf-8')  # 将语音内容转换为base64编码格式"
   ]
  },
  {
   "cell_type": "code",
   "execution_count": 39,
   "metadata": {},
   "outputs": [
    {
     "name": "stdout",
     "output_type": "stream",
     "text": [
      "{\"corpus_no\":\"6631041842572486394\",\"err_msg\":\"success.\",\"err_no\":0,\"result\":[\"百度语音提供技术支持，\"],\"sn\":\"55093017341543909740\"}\n",
      "\n",
      "['百度语音提供技术支持，']\n"
     ]
    }
   ],
   "source": [
    "# 发送信息\n",
    "# 定义要发送的数据主体信息\n",
    "headers = {'content-type': 'application/json'}  # 定义header信息\n",
    "payload = {\n",
    "    'format': 'pcm',  # 以具体要识别的语音扩展名为准\n",
    "    'rate': 8000,  # 支持8000或16000两种采样率\n",
    "    'channel': 1,  # 固定值，单声道\n",
    "    'token': token,  # 上述获取的token\n",
    "    'cuid': 'B8-76-3F-41-3E-2B',  # 本机的MAC地址或设备唯一识别标志\n",
    "    'len': org_voice_len,  # 上述获取的原始文件内容长度\n",
    "    'speech': base64_voice_data  # 转码后的语音数据\n",
    "}\n",
    "data = json.dumps(payload)  # 将数据转换为JSON格式\n",
    "vop_url = 'http://vop.baidu.com/server_api'  # 语音识别的API\n",
    "voice_res = requests.post(vop_url, data=data, headers=headers)  # 发送语音识别请求\n",
    "api_data = voice_res.text  # 获得语音识别文字返回结果\n",
    "text_data = json.loads(api_data)['result']\n",
    "print(api_data)  # 打印输出整体返回结果\n",
    "print(text_data)  # 打印输出语音识别的文字"
   ]
  }
 ],
 "metadata": {
  "kernelspec": {
   "display_name": "Python 3",
   "language": "python",
   "name": "python3"
  },
  "language_info": {
   "codemirror_mode": {
    "name": "ipython",
    "version": 3
   },
   "file_extension": ".py",
   "mimetype": "text/x-python",
   "name": "python",
   "nbconvert_exporter": "python",
   "pygments_lexer": "ipython3",
   "version": "3.7.0"
  },
  "toc": {
   "base_numbering": 1,
   "nav_menu": {},
   "number_sections": false,
   "sideBar": true,
   "skip_h1_title": false,
   "title_cell": "Table of Contents",
   "title_sidebar": "Contents",
   "toc_cell": false,
   "toc_position": {},
   "toc_section_display": true,
   "toc_window_display": false
  }
 },
 "nbformat": 4,
 "nbformat_minor": 1
}
