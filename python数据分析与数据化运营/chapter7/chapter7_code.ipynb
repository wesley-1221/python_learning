{
 "cells": [
  {
   "cell_type": "markdown",
   "metadata": {},
   "source": [
    "![](http://www.dataivy.cn/book/images/head.png)\n",
    "<table align=\"center\" bgcolor=\"#FFFFFF\" border=\"0px\">\n",
    "   <tr bgcolor=\"#FFFFFF\">\n",
    "      <td><img src=\"http://www.dataivy.cn/book/images/release_date.svg\"></td>\n",
    "      <td><img src=\"http://www.dataivy.cn/book/images/python-3.7-green.svg\"></td>\n",
    "      <td><a href=\"http://www.dataivy.cn/blog/python_book_faq/\"><img src=\"http://www.dataivy.cn/book/images/faq-visit_site-blue.svg\"></a></td>\n",
    "      <td><a href=\"http://www.dataivy.cn/blog/python_book_knows_issues/\"><img src=\"http://www.dataivy.cn/book/images/known_issues.svg\"></a></td>\n",
    "   </tr>\n",
    "</table>\n",
    "\n",
    "\n",
    "<hr />"
   ]
  },
  {
   "cell_type": "markdown",
   "metadata": {},
   "source": [
    "<div align=\"center\"><h1> 第七章&nbsp;&nbsp;流量数据化运营</h1></div>"
   ]
  },
  {
   "cell_type": "markdown",
   "metadata": {},
   "source": [
    "# 一、案例-基于自动节点树的数据异常原因下探分析"
   ]
  },
  {
   "cell_type": "markdown",
   "metadata": {},
   "source": [
    "## 说明"
   ]
  },
  {
   "cell_type": "markdown",
   "metadata": {},
   "source": [
    "- 时间：2019-01-01\n",
    "- 作者：宋天龙（Tony Song）\n",
    "- 程序开发环境：win7 64位\n",
    "- Python版本：64位 3.7\n",
    "- 依赖库：datetime、numpy、pandas、graphviz\n",
    "- 程序输入：advertising_data.csv\n",
    "- 程序输出：打印输出并保存节点树图change_analysis_tree.png"
   ]
  },
  {
   "cell_type": "markdown",
   "metadata": {},
   "source": [
    "## 程序"
   ]
  },
  {
   "cell_type": "markdown",
   "metadata": {},
   "source": [
    "### 导入库"
   ]
  },
  {
   "cell_type": "code",
   "execution_count": 1,
   "metadata": {},
   "outputs": [],
   "source": [
    "import datetime\n",
    "import numpy as np\n",
    "import pandas as pd\n",
    "from graphviz import Digraph  # 画图用库"
   ]
  },
  {
   "cell_type": "markdown",
   "metadata": {},
   "source": [
    "### 读取数据"
   ]
  },
  {
   "cell_type": "code",
   "execution_count": 2,
   "metadata": {},
   "outputs": [],
   "source": [
    "raw_data = pd.read_csv('advertising_data.csv')"
   ]
  },
  {
   "cell_type": "markdown",
   "metadata": {},
   "source": [
    "### 数据审查"
   ]
  },
  {
   "cell_type": "code",
   "execution_count": 3,
   "metadata": {},
   "outputs": [
    {
     "name": "stdout",
     "output_type": "stream",
     "text": [
      "***********************Data overview:*********************** \n",
      "             date   source    site channel     media visit\n",
      "10691  2018/6/14  手机_精准营销   UC浏览器      活动    网址导航热词     -\n",
      "10692  2018/6/14     精准营销  360浏览器      活动  新安装页面欢迎页     -\n",
      "************************Data dtypes:************************ \n",
      " date       object\n",
      "source     object\n",
      "site       object\n",
      "channel    object\n",
      "media      object\n",
      "visit      object\n",
      "dtype: object\n"
     ]
    }
   ],
   "source": [
    "# 数据概览\n",
    "print('{:*^60}'.format('Data overview:'),'\\n',raw_data.tail(2))#打印原始数据后2条\n",
    "print('{:*^60}'.format('Data dtypes:'),'\\n',raw_data.dtypes)# 数据类型"
   ]
  },
  {
   "cell_type": "code",
   "execution_count": 4,
   "metadata": {},
   "outputs": [
    {
     "name": "stdout",
     "output_type": "stream",
     "text": [
      "**************************NA Cols:**************************\n",
      "Series([], dtype: bool)\n",
      "Total NA lines is: 0\n"
     ]
    }
   ],
   "source": [
    "# 缺失值审查\n",
    "na_cols = raw_data.isnull().any(axis=0)  # 查看每一列是否具有缺失值\n",
    "print('{:*^60}'.format('NA Cols:'))\n",
    "print(na_cols[na_cols]==True)  # 查看具有缺失值的列\n",
    "print('Total NA lines is: {0}'.format(raw_data.isnull().any(axis=1).sum()))  # 查看具有缺失值的行总记录数"
   ]
  },
  {
   "cell_type": "markdown",
   "metadata": {},
   "source": [
    "### 数据预处理"
   ]
  },
  {
   "cell_type": "code",
   "execution_count": 5,
   "metadata": {},
   "outputs": [
    {
     "name": "stdout",
     "output_type": "stream",
     "text": [
      "***********************Data overview:***********************\n",
      "            date   source    site channel     media  visit\n",
      "10691  2018/6/14  手机_精准营销   UC浏览器      活动    网址导航热词      0\n",
      "10692  2018/6/14     精准营销  360浏览器      活动  新安装页面欢迎页      0\n"
     ]
    }
   ],
   "source": [
    "# 替换字符为0然后转换为整数型\n",
    "raw_data['visit'] = raw_data['visit'].replace('-', 0).astype(np.int64)\n",
    "print('{:*^60}'.format('Data overview:'))\n",
    "print(raw_data.tail(2))"
   ]
  },
  {
   "cell_type": "code",
   "execution_count": 6,
   "metadata": {},
   "outputs": [
    {
     "name": "stdout",
     "output_type": "stream",
     "text": [
      "************************Data dtypes:************************\n",
      "date       datetime64[ns]\n",
      "source             object\n",
      "site               object\n",
      "channel            object\n",
      "media              object\n",
      "visit               int64\n",
      "dtype: object\n"
     ]
    }
   ],
   "source": [
    "# 将字符串转换为日期格式\n",
    "raw_data['date'] = pd.to_datetime(raw_data['date'], format='%Y/%m/%d')\n",
    "print('{:*^60}'.format('Data dtypes:'))\n",
    "print(raw_data.dtypes)"
   ]
  },
  {
   "cell_type": "markdown",
   "metadata": {},
   "source": [
    "### 计算整体波动量"
   ]
  },
  {
   "cell_type": "code",
   "execution_count": 7,
   "metadata": {},
   "outputs": [
    {
     "name": "stdout",
     "output_type": "stream",
     "text": [
      "********************Data change summary:********************\n",
      "             visit   change  change_rate\n",
      "date                                    \n",
      "2018-05-15  117260      NaN          NaN\n",
      "2018-05-16  166124  48864.0        0.417\n",
      "2018-05-17  157727  -8397.0       -0.051\n",
      "2018-05-18  155805  -1922.0       -0.012\n",
      "2018-05-19  115644 -40161.0       -0.258\n"
     ]
    }
   ],
   "source": [
    "day_summary = raw_data.iloc[:, -1].groupby(raw_data.iloc[:, 0]).sum()  # 按天求和汇总\n",
    "day_change_value = day_summary.diff(1).rename('change')  # 通过差分求平移1天后的变化量\n",
    "day_change_rate = (day_change_value.shift(-1) / day_summary).round(3).rename('change_rate').shift(1)  # 求相对昨天的环比变化率\n",
    "day_summary_total = pd.concat((day_summary, day_change_value, day_change_rate), axis=1)  # 整合为完整数据框\n",
    "print('{:*^60}'.format('Data change summary:'))\n",
    "print(day_summary_total.head())"
   ]
  },
  {
   "cell_type": "markdown",
   "metadata": {},
   "source": [
    "### 指定日期自动下探分解"
   ]
  },
  {
   "cell_type": "code",
   "execution_count": 8,
   "metadata": {},
   "outputs": [],
   "source": [
    "# 定义变量\n",
    "# 分解对象\n",
    "dimension_list = ['source', 'site', 'channel', 'media']  # 指定要分析的维度：4个层级\n",
    "# 日期对象\n",
    "the_day = pd.datetime(2018, 6, 7)  # 指定要分析的日期\n",
    "previous_day = the_day - datetime.timedelta(1)  # 自动获取前1天日期\n",
    "# 日期列名\n",
    "day_col1 = datetime.datetime.strftime(the_day,'%Y-%m-%d')\n",
    "day_col2 = datetime.datetime.strftime(previous_day,'%Y-%m-%d')\n",
    "# 数据对象\n",
    "the_data = raw_data[raw_data['date'] == the_day].rename(columns={'visit': day_col1})  # 获得指定日期数据\n",
    "previous_data = raw_data[raw_data['date'] == previous_day].rename(columns={'visit': day_col2})  # 获得前1天日期数据"
   ]
  },
  {
   "cell_type": "code",
   "execution_count": 9,
   "metadata": {},
   "outputs": [],
   "source": [
    "# 数据合并计算\n",
    "# 合并两天的数据\n",
    "data_merge = the_data.iloc[:,1:].merge(previous_data.iloc[:,1:],on=dimension_list,how='outer')\n",
    "# 替换没有匹配的数据为0\n",
    "data_merge = data_merge.fillna(0)\n",
    "# 计算相对昨天的环比变化率\n",
    "data_merge['change'] = data_merge[day_col1]-data_merge[day_col2] # 变化量\n",
    "data_merge.head()\n",
    "# 整体对象\n",
    "visit,change,change_rate = day_summary_total[day_summary_total.index == the_day].values[0]\n",
    "top_nodes = {'source':'all site','change':change,'change_rate':change_rate}"
   ]
  },
  {
   "cell_type": "code",
   "execution_count": 10,
   "metadata": {},
   "outputs": [],
   "source": [
    "# 自动节点分解\n",
    "main_nodes = [] # 主节点\n",
    "other_nodes = [] # 其他节点\n",
    "hidden_nodes = [] # 潜在节点\n",
    "main_edges = [] # 主边\n",
    "other_edges = [] # 其他边\n",
    "dim_copy = ['source', 'site', 'channel', 'media', day_col2,'change']\n",
    "for ind,dimension in enumerate(dimension_list):  # 遍历每个维度\n",
    "    each_data = data_merge[dim_copy[ind:]] # 筛选数据\n",
    "    each_merge = each_data.groupby([dimension],as_index=False)[day_col2,'change'].sum() # 计算变化量\n",
    "    each_merge = each_merge.sort_values(['change']) # 排序\n",
    "    each_merge['each_change_rate'] = each_merge['change']/each_merge[day_col2] # 环比变化率\n",
    "    each_merge = each_merge.drop(day_col2,axis=1) # 丢弃当日visit数值列\n",
    "    change_all = each_merge.sum().iloc[1] # 总变化量\n",
    "    if change_all<0: # 下降\n",
    "        # node\n",
    "        main_values = each_merge.iloc[0].tolist() # 主因子节点\n",
    "        main_nodes.append(main_values)\n",
    "        other_nodes.append([f'{dimension}-others',change_all-main_values[1],1-main_values[2]])\n",
    "        hidden_nodes.append(each_merge.iloc[-1].tolist())\n",
    "        # 数据过滤\n",
    "        data_merge = each_data[each_data[dimension]==each_merge.iloc[0].iloc[0]]\n",
    "    else: # 上升\n",
    "        # node\n",
    "        main_values = each_merge.iloc[-1].tolist() # 其他因子节点\n",
    "        main_nodes.append(main_values)\n",
    "        other_nodes.append([f'{dimension}-others',change_all-main_values[1],1-main_values[2]])\n",
    "        hidden_nodes.append(each_merge.iloc[0].tolist())\n",
    "        # 数据过滤\n",
    "        data_merge = each_data[each_data[dimension]==each_merge.iloc[-1].iloc[0]]  \n",
    "    # edge\n",
    "    edge_values = main_values[1]/float(change_all)\n",
    "    main_edges.append(edge_values)\n",
    "    other_edges.append(1-edge_values)"
   ]
  },
  {
   "cell_type": "markdown",
   "metadata": {},
   "source": [
    "### 画图展示自动下探结果"
   ]
  },
  {
   "cell_type": "code",
   "execution_count": 11,
   "metadata": {},
   "outputs": [],
   "source": [
    "# 定义各个节点的样式\n",
    "node_style = '<<table border=\"0\"><tr><td width=\"20\"><table border=\"1\" cellspacing=\"0\" VALIGN=\"MIDDLE\"><tr><td bgcolor=\"{0}\"><font color=\"{1}\"><B>{2}</B></font></td></tr><tr><td>环比变化量:{3:d}</td></tr><tr><td>环比变化率:{4:.2%}</td></tr></table></td></tr></table>>'\n",
    "edge_style = '<<table border=\"0\"><tr><td><table border=\"0\" cellspacing=\"0\" VALIGN=\"MIDDLE\" bgcolor=\"#ffffff\"><tr><td>{0}</td></tr><tr><td>贡献率:{1:.0%}</td></tr></table></td></tr></table>>'\n",
    "attr_node = {'fontname': \"SimHei\", 'shape': 'box','penwidth' : '0'}  # 定义node节点样式\n",
    "attr_edge = {'fontname': \"SimHei\"}  # 定义edge节点样式\n",
    "attr_graph = {'fontname': \"SimHei\", 'splines': 'ortho','nodesep' : '2'}  # Graph的总体样式"
   ]
  },
  {
   "cell_type": "code",
   "execution_count": 12,
   "metadata": {},
   "outputs": [],
   "source": [
    "# 定义左侧父级图\n",
    "parent_dot = Digraph(format='png', graph_attr=attr_graph, node_attr={'shape': 'plaintext', 'fontname': 'SimHei'}) \n",
    "features = ['全站','source', 'site', 'channel', 'media']\n",
    "parent_edge = [(features[i],features[i+1]) for i in range(len(features)-1)]\n",
    "parent_dot.edges(parent_edge)"
   ]
  },
  {
   "cell_type": "code",
   "execution_count": 13,
   "metadata": {},
   "outputs": [
    {
     "data": {
      "text/plain": [
       "'change_analysis_tree.png'"
      ]
     },
     "execution_count": 13,
     "metadata": {},
     "output_type": "execute_result"
    }
   ],
   "source": [
    "# 定义右侧子级图\n",
    "child_dot = Digraph(node_attr=attr_node, edge_attr=attr_edge)  # 创建有向图\n",
    "for tree_depth in range(len(main_nodes)):  # 循环读取每一层\n",
    "    split_node_left = main_nodes[tree_depth]\n",
    "    split_node_right = other_nodes[tree_depth]\n",
    "    split_node_hidden = hidden_nodes[tree_depth]\n",
    "\n",
    "    if tree_depth == 0:\n",
    "        # 增加顶部节点\n",
    "        node_name = '汇总值'\n",
    "        node_top_label = node_style.format( 'black',\"white\",node_name,\n",
    "                                               int(top_nodes['change']),\n",
    "                                               top_nodes['change_rate'])  # 分别获取顶部节点名称、变化量和变化率\n",
    "        child_dot.node('汇总值', label=node_top_label)  # 增加顶部节点\n",
    "    else:\n",
    "        node_name = main_nodes[tree_depth - 1][0]  # 将上级左侧分裂节点作为下级节点的source\n",
    "\n",
    "    # 增加node信息\n",
    "    node_label_left = node_style.format(\"#184da5\",\"white\",split_node_left[0],\n",
    "                                             int(split_node_left[1]),\n",
    "                                             split_node_left[2])  # 左侧节点显示的信息\n",
    "    node_label_right = node_style.format(\"#d3d3d3\",\"black\",split_node_right[0],\n",
    "                                               int(split_node_right[1]),\n",
    "                                               split_node_right[2])  # 右侧节点显示的信息\n",
    "    node_label_hidden = node_style.format(\"#72a518\",\"black\",split_node_hidden[0],\n",
    "                                               int(split_node_hidden[1]),\n",
    "                                               split_node_hidden[2])  # 潜在节点显示的信息\n",
    "    # 增加边信息\n",
    "    edge_label_left = edge_style.format('主因子',main_edges[tree_depth])  # 左侧边的标签信息\n",
    "    edge_label_right = edge_style.format('其他因子',other_edges[tree_depth])  # 右侧边的标签信息\n",
    "\n",
    "    # 节点和边画图\n",
    "    child_dot.node(split_node_left[0], label=node_label_left)  # 增加左侧节点\n",
    "    child_dot.node(split_node_right[0], label=node_label_right)  # 增加右侧节点\n",
    "    child_dot.node(split_node_hidden[0], label=node_label_hidden)  # 增加隐藏节点\n",
    "    child_dot.edge(node_name, split_node_left[0], label=edge_label_left)  # 增加左侧边\n",
    "    child_dot.edge(node_name, split_node_right[0], label=edge_label_right)  # 增加右侧边\n",
    "    child_dot.edge(split_node_right[0], split_node_hidden[0],label = '潜在因子')  # 增加隐藏节点边\n",
    "\n",
    "parent_dot.subgraph(child_dot)\n",
    "parent_dot.view('change_analysis_tree')  # 展示图形结果"
   ]
  },
  {
   "cell_type": "markdown",
   "metadata": {},
   "source": [
    "# 二、案例-基于自动K值的KMeans广告效果聚类分析"
   ]
  },
  {
   "cell_type": "markdown",
   "metadata": {},
   "source": [
    "## 说明"
   ]
  },
  {
   "cell_type": "markdown",
   "metadata": {},
   "source": [
    "- 时间：2019-01-01\n",
    "- 作者：宋天龙（Tony Song）\n",
    "- 程序开发环境：win7 64位\n",
    "- Python版本：64位 3.7\n",
    "- 依赖库：matplotlib、numpy、pandas、sklearn\n",
    "- 程序输入：ad_performance.txt\n",
    "- 程序输出：打印输出不同聚类类别的信息"
   ]
  },
  {
   "cell_type": "markdown",
   "metadata": {},
   "source": [
    "## 程序"
   ]
  },
  {
   "cell_type": "markdown",
   "metadata": {},
   "source": [
    "### 导入库"
   ]
  },
  {
   "cell_type": "code",
   "execution_count": 14,
   "metadata": {},
   "outputs": [],
   "source": [
    "import matplotlib.pyplot as plt  # 图形库\n",
    "import numpy as np\n",
    "import pandas as pd\n",
    "from sklearn.metrics import silhouette_score  # 导入轮廓系数指标\n",
    "from sklearn.cluster import KMeans  # KMeans模块\n",
    "from sklearn.preprocessing import MinMaxScaler, OneHotEncoder  # 数据预处理库"
   ]
  },
  {
   "cell_type": "markdown",
   "metadata": {},
   "source": [
    "### 读取数据"
   ]
  },
  {
   "cell_type": "code",
   "execution_count": 15,
   "metadata": {},
   "outputs": [],
   "source": [
    "raw_data = pd.read_table('ad_performance.txt', delimiter='\\t')"
   ]
  },
  {
   "cell_type": "markdown",
   "metadata": {},
   "source": [
    "### 数据审查"
   ]
  },
  {
   "cell_type": "code",
   "execution_count": 16,
   "metadata": {},
   "outputs": [
    {
     "name": "stdout",
     "output_type": "stream",
     "text": [
      "***********************Data overview:***********************\n",
      "   渠道代号    日均UV   平均注册率   平均搜索量    访问深度  平均停留时间   订单转化率  投放总时间 素材类型    广告类型  \\\n",
      "0  A203    3.69  0.0071  0.0214  2.3071  419.77  0.0258     20  jpg  banner   \n",
      "1  A387  178.70  0.0040  0.0324  2.0489  157.94  0.0030     19  jpg  banner   \n",
      "\n",
      "  合作方式    广告尺寸 广告卖点  \n",
      "0  roi  140*40   打折  \n",
      "1  cpc  140*40   满减  \n",
      "************************Data dtypes:************************\n",
      "     渠道代号     日均UV    平均注册率    平均搜索量     访问深度   平均停留时间    订单转化率  投放总时间  \\\n",
      "0  object  float64  float64  float64  float64  float64  float64  int64   \n",
      "\n",
      "     素材类型    广告类型    合作方式    广告尺寸    广告卖点  \n",
      "0  object  object  object  object  object  \n",
      "*************************Data DESC:*************************\n",
      "        count    mean      std   min     25%     50%     75%       max\n",
      "日均UV    889.0  540.85  1634.41  0.06    6.18  114.18  466.87  25294.77\n",
      "平均注册率   889.0    0.00     0.00  0.00    0.00    0.00    0.00      0.04\n",
      "平均搜索量   889.0    0.03     0.11  0.00    0.00    0.00    0.01      1.04\n",
      "访问深度    889.0    2.17     3.80  1.00    1.39    1.79    2.22     98.98\n",
      "平均停留时间  887.0  262.67   224.36  1.64  126.02  236.55  357.98   4450.83\n",
      "订单转化率   889.0    0.00     0.01  0.00    0.00    0.00    0.00      0.22\n",
      "投放总时间   889.0   16.05     8.51  1.00    9.00   16.00   24.00     30.00\n"
     ]
    }
   ],
   "source": [
    "# 查看基本状态\n",
    "print('{:*^60}'.format('Data overview:'))\n",
    "print(raw_data.head(2))  # 打印输出前2条数据\n",
    "print('{:*^60}'.format('Data dtypes:'))\n",
    "print(pd.DataFrame(raw_data.dtypes).T)  # 打印数据类型分布\n",
    "print('{:*^60}'.format('Data DESC:'))\n",
    "print(raw_data.describe().round(2).T)  # 打印原始数据基本描述性信息"
   ]
  },
  {
   "cell_type": "code",
   "execution_count": 17,
   "metadata": {},
   "outputs": [
    {
     "name": "stdout",
     "output_type": "stream",
     "text": [
      "**************************NA Cols:**************************\n",
      "平均停留时间    True\n",
      "dtype: bool\n",
      "Total number of NA lines is: 2\n"
     ]
    }
   ],
   "source": [
    "# 缺失值审查\n",
    "na_cols = raw_data.isnull().any(axis=0)  # 查看每一列是否具有缺失值\n",
    "print('{:*^60}'.format('NA Cols:'))\n",
    "print(na_cols[na_cols==True])  # 查看具有缺失值的列\n",
    "print('Total number of NA lines is: {0}'.format(\n",
    "    raw_data.isnull().any(axis=1).sum()))  # 查看具有缺失值的行总记录数"
   ]
  },
  {
   "cell_type": "code",
   "execution_count": 18,
   "metadata": {},
   "outputs": [
    {
     "name": "stdout",
     "output_type": "stream",
     "text": [
      "*******************Correlation analysis:********************\n",
      "        日均UV  平均注册率  平均搜索量  访问深度  平均停留时间  订单转化率  投放总时间\n",
      "日均UV    1.00  -0.05  -0.07 -0.02    0.04  -0.05  -0.04\n",
      "平均注册率  -0.05   1.00   0.24  0.11    0.22   0.32  -0.01\n",
      "平均搜索量  -0.07   0.24   1.00  0.06    0.17   0.13  -0.03\n",
      "访问深度   -0.02   0.11   0.06  1.00    0.72   0.16   0.06\n",
      "平均停留时间  0.04   0.22   0.17  0.72    1.00   0.25   0.05\n",
      "订单转化率  -0.05   0.32   0.13  0.16    0.25   1.00  -0.00\n",
      "投放总时间  -0.04  -0.01  -0.03  0.06    0.05  -0.00   1.00\n"
     ]
    }
   ],
   "source": [
    "# 相关性分析\n",
    "print('{:*^60}'.format('Correlation analysis:'))\n",
    "print(raw_data.corr().round(2).T)  # 打印原始数据相关性信息"
   ]
  },
  {
   "cell_type": "markdown",
   "metadata": {},
   "source": [
    "### 数据预处理"
   ]
  },
  {
   "cell_type": "code",
   "execution_count": 19,
   "metadata": {},
   "outputs": [],
   "source": [
    "# 删除平均平均停留时间列\n",
    "raw_data2 = raw_data.drop(['平均停留时间'], axis=1)"
   ]
  },
  {
   "cell_type": "code",
   "execution_count": 20,
   "metadata": {},
   "outputs": [
    {
     "name": "stdout",
     "output_type": "stream",
     "text": [
      "[[0. 1. 0. 0. 1. 0. 0. 0. 0. 0. 0. 0. 1. 1. 0. 0. 0. 0. 0. 0. 0. 1. 0. 0.\n",
      "  0. 0. 0.]\n",
      " [0. 1. 0. 0. 1. 0. 0. 0. 0. 1. 0. 0. 0. 1. 0. 0. 0. 0. 0. 0. 0. 0. 1. 0.\n",
      "  0. 0. 0.]]\n"
     ]
    }
   ],
   "source": [
    "# 字符串分类onehotencode处理\n",
    "cols = ['素材类型','广告类型','合作方式','广告尺寸','广告卖点']\n",
    "model_ohe = OneHotEncoder(sparse=False)  # 建立OneHotEncode对象\n",
    "ohe_matrix = model_ohe.fit_transform(raw_data2[cols])  # 直接转换\n",
    "print(ohe_matrix[:2])"
   ]
  },
  {
   "cell_type": "code",
   "execution_count": 21,
   "metadata": {},
   "outputs": [
    {
     "name": "stdout",
     "output_type": "stream",
     "text": [
      "[[0.   0.18 0.02 0.01 0.12 0.66]\n",
      " [0.01 0.1  0.03 0.01 0.01 0.62]\n",
      " [0.   0.06 0.05 0.01 0.01 0.1 ]\n",
      " ...\n",
      " [0.01 0.01 0.   0.   0.   0.72]\n",
      " [0.05 0.   0.   0.   0.   0.31]\n",
      " [0.   0.   0.   0.53 0.   0.62]]\n"
     ]
    },
    {
     "name": "stderr",
     "output_type": "stream",
     "text": [
      "C:\\Anaconda3\\lib\\site-packages\\sklearn\\preprocessing\\data.py:323: DataConversionWarning: Data with input dtype int64, float64 were all converted to float64 by MinMaxScaler.\n",
      "  return self.partial_fit(X, y)\n"
     ]
    }
   ],
   "source": [
    "# 数据标准化\n",
    "sacle_matrix = raw_data2.iloc[:, 1:7]  # 获得要转换的矩阵\n",
    "model_scaler = MinMaxScaler()  # 建立MinMaxScaler模型对象\n",
    "data_scaled = model_scaler.fit_transform(sacle_matrix)  # MinMaxScaler标准化处理\n",
    "print(data_scaled.round(2))"
   ]
  },
  {
   "cell_type": "code",
   "execution_count": 22,
   "metadata": {},
   "outputs": [],
   "source": [
    "# 合并所有维度\n",
    "X = np.hstack((data_scaled, ohe_matrix))"
   ]
  },
  {
   "cell_type": "markdown",
   "metadata": {},
   "source": [
    "### KMeans建模"
   ]
  },
  {
   "cell_type": "code",
   "execution_count": 23,
   "metadata": {},
   "outputs": [
    {
     "name": "stdout",
     "output_type": "stream",
     "text": [
      "**************K value and silhouette summary:***************\n",
      "[[2.         0.38655493]\n",
      " [3.         0.45757883]\n",
      " [4.         0.50209812]]\n",
      "Best K is:4 with average silhouette of 0.5020981194788054\n"
     ]
    }
   ],
   "source": [
    "# 通过平均轮廓系数检验得到最佳KMeans聚类模型\n",
    "score_list = list()  # 用来存储每个K下模型的平局轮廓系数\n",
    "silhouette_int = -1  # 初始化的平均轮廓系数阀值\n",
    "for n_clusters in range(2, 5):  # 遍历从2到5几个有限组\n",
    "    model_kmeans = KMeans(n_clusters=n_clusters)  # 建立聚类模型对象\n",
    "    labels_tmp = model_kmeans.fit_predict(X)  # 训练聚类模型\n",
    "    silhouette_tmp = silhouette_score(X, labels_tmp)  # 得到每个K下的平均轮廓系数\n",
    "    if silhouette_tmp > silhouette_int:  # 如果平均轮廓系数更高\n",
    "        best_k = n_clusters  # 保存K将最好的K存储下来\n",
    "        silhouette_int = silhouette_tmp  # 保存平均轮廓得分\n",
    "        best_kmeans = model_kmeans  # 保存模型实例对象\n",
    "        cluster_labels_k = labels_tmp  # 保存聚类标签\n",
    "    score_list.append([n_clusters, silhouette_tmp])  # 将每次K及其得分追加到列表\n",
    "print('{:*^60}'.format('K value and silhouette summary:'))\n",
    "print(np.array(score_list))  # 打印输出所有K下的详细得分\n",
    "print('Best K is:{0} with average silhouette of {1}'.format(best_k, silhouette_int))"
   ]
  },
  {
   "cell_type": "markdown",
   "metadata": {},
   "source": [
    "### 聚类结果分析"
   ]
  },
  {
   "cell_type": "code",
   "execution_count": 24,
   "metadata": {},
   "outputs": [
    {
     "name": "stdout",
     "output_type": "stream",
     "text": [
      "************Detailed features for all clusters:*************\n",
      "clusters          0        1        2        3\n",
      "counts          349      313      154       73\n",
      "percentage     0.39     0.35     0.17     0.08\n",
      "日均UV        933.015  1390.01  2717.42  1904.37\n",
      "平均注册率         0.003    0.003    0.005    0.003\n",
      "平均搜索量         0.064    0.152    0.051    0.106\n",
      "访问深度          5.916    1.168    0.947    0.943\n",
      "订单转化率         0.006    0.017    0.007    0.009\n",
      "投放总时间          8.77    8.199    8.529    8.217\n",
      "素材类型            jpg      swf      jpg      swf\n",
      "广告类型             横幅      不确定   banner     tips\n",
      "合作方式            cpc      roi      cpc      cpm\n",
      "广告尺寸         600*90   600*90  308*388  450*300\n",
      "广告卖点             直降       打折       满减       打折\n"
     ]
    }
   ],
   "source": [
    "# part1 将原始数据与聚类标签整合\n",
    "cluster_labels = pd.DataFrame(cluster_labels_k, columns=['clusters'])  # 获得训练集下的标签信息\n",
    "merge_data = pd.concat((raw_data2, cluster_labels), axis=1)  # 将原始处理过的数据跟聚类标签整合\n",
    "\n",
    "# part2 计算每个聚类类别下的样本量和样本占比\n",
    "clustering_count = pd.DataFrame(merge_data['渠道代号'].groupby(merge_data['clusters']).count()).T.rename({'渠道代号': 'counts'})  # 计算每个聚类类别的样本量\n",
    "clustering_ratio = (clustering_count / len(merge_data)).round(2).rename({'counts': 'percentage'})  # 计算每个聚类类别的样本量占比\n",
    "\n",
    "# part3 计算各个聚类类别内部最显著特征值\n",
    "cluster_features = []  # 空列表，用于存储最终合并后的所有特征信息\n",
    "for line in range(best_k):  # 读取每个类索引\n",
    "    label_data = merge_data[merge_data['clusters'] == line]  # 获得特定类的数据\n",
    "\n",
    "    part1_data = label_data.iloc[:, 1:7]  # 获得数值型数据特征\n",
    "    part1_desc = part1_data.describe().round(3)  # 得到数值型特征的描述性统计信息\n",
    "    merge_data1 = part1_desc.iloc[2, :]  # 得到数值型特征的均值\n",
    "\n",
    "    part2_data = label_data.iloc[:, 7:-1]  # 获得字符串型数据特征\n",
    "    part2_desc = part2_data.describe(include='all')  # 获得字符串型数据特征的描述性统计信息\n",
    "    merge_data2 = part2_desc.iloc[2, :]  # 获得字符串型数据特征的最频繁值\n",
    "\n",
    "    merge_line = pd.concat((merge_data1, merge_data2), axis=0)  # 将数值型和字符串型典型特征沿行合并\n",
    "    cluster_features.append(merge_line)  # 将每个类别下的数据特征追加到列表\n",
    "# part4 输出完整的类别特征信息\n",
    "cluster_pd = pd.DataFrame(cluster_features).T  # 将列表转化为矩阵\n",
    "print('{:*^60}'.format('Detailed features for all clusters:'))\n",
    "all_cluster_set = pd.concat((clustering_count, clustering_ratio, cluster_pd),axis=0)  # 将每个聚类类别的所有信息合并\n",
    "print(all_cluster_set)"
   ]
  },
  {
   "cell_type": "markdown",
   "metadata": {},
   "source": [
    "### 各类别显著数值特征对比"
   ]
  },
  {
   "cell_type": "code",
   "execution_count": 25,
   "metadata": {},
   "outputs": [
    {
     "data": {
      "text/plain": [
       "<matplotlib.legend.Legend at 0xc80b828>"
      ]
     },
     "execution_count": 25,
     "metadata": {},
     "output_type": "execute_result"
    },
    {
     "data": {
      "image/png": "[encoded data removed]",
      "text/plain": [
       "<Figure size 432x432 with 1 Axes>"
      ]
     },
     "metadata": {
      "needs_background": "light"
     },
     "output_type": "display_data"
    }
   ],
   "source": [
    "# part1 各类别数据预处理\n",
    "num_sets = cluster_pd.iloc[:6, :].T.astype(np.float64)  # 获取要展示的数据\n",
    "num_sets_max_min = model_scaler.fit_transform(num_sets)  # 获得标准化后的数据\n",
    "# part2 画布基本设置\n",
    "fig = plt.figure(figsize=(6,6))  # 建立画布\n",
    "ax = fig.add_subplot(111, polar=True)  # 增加子网格，注意polar参数\n",
    "labels = np.array(merge_data1.index)  # 设置要展示的数据标签\n",
    "cor_list = ['b', 'g', 'r', 'c', 'm', 'y', 'k', 'w']  # 定义不同类别的颜色\n",
    "angles = np.linspace(0, 2 * np.pi, len(labels), endpoint=False)  # 计算各个区间的角度\n",
    "angles = np.concatenate((angles, [angles[0]]))  # 建立相同首尾字段以便于闭合\n",
    "# part3 画雷达图\n",
    "for i in range(len(num_sets)):  # 循环每个类别\n",
    "    data_tmp = num_sets_max_min[i, :]  # 获得对应类数据\n",
    "    data = np.concatenate((data_tmp, [data_tmp[0]]))  # 建立相同首尾字段以便于闭合\n",
    "    ax.plot(angles, data, 'o-', c=cor_list[i], label=i)  # 画线\n",
    "# part4 设置图像显示格式\n",
    "ax.set_thetagrids(angles * 180 / np.pi, labels, fontproperties=\"SimHei\")  # 设置极坐标轴\n",
    "ax.set_title(\"各聚类类别显著特征对比\", fontproperties=\"SimHei\")  # 设置标题放置\n",
    "ax.set_rlim(-0.2, 1.2)  # 设置坐标轴尺度范围\n",
    "plt.legend(loc=0)  # 设置图例位置"
   ]
  },
  {
   "cell_type": "code",
   "execution_count": null,
   "metadata": {},
   "outputs": [],
   "source": []
  }
 ],
 "metadata": {
  "kernelspec": {
   "display_name": "Python 3",
   "language": "python",
   "name": "python3"
  },
  "language_info": {
   "codemirror_mode": {
    "name": "ipython",
    "version": 3
   },
   "file_extension": ".py",
   "mimetype": "text/x-python",
   "name": "python",
   "nbconvert_exporter": "python",
   "pygments_lexer": "ipython3",
   "version": "3.7.0"
  }
 },
 "nbformat": 4,
 "nbformat_minor": 2
}
