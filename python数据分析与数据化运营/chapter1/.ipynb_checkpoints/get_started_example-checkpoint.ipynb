{
 "cells": [
  {
   "cell_type": "markdown",
   "metadata": {},
   "source": [
    "- 描述：第一个使用Python完成的数据化运营案例——销售预测\n",
    "- 时间：2019-01-01\n",
    "- 作者：宋天龙（Tony Song）\n",
    "- 程序开发环境：win 64位\n",
    "- Python版本：64位 3.6.3（使用Anaconda安装）\n",
    "- 依赖库：re、numpy、sklearn、matplotlib\n",
    "- 程序输入：data.txt\n",
    "- 程序输出：预测的销售量\n"
   ]
  },
  {
   "cell_type": "code",
   "execution_count": 5,
   "metadata": {},
   "outputs": [
    {
     "data": {
      "text/plain": [
       "'D:\\\\[书籍]python数据分析与数据化运营\\\\9_再版\\\\附件\\\\chapter1'"
      ]
     },
     "execution_count": 5,
     "metadata": {},
     "output_type": "execute_result"
    }
   ],
   "source": [
    "import os\n",
    "os.getcwd()"
   ]
  },
  {
   "cell_type": "code",
   "execution_count": 4,
   "metadata": {},
   "outputs": [
    {
     "name": "stdout",
     "output_type": "stream",
     "text": [
      "[WinError 2] 系统找不到指定的文件。: 'chapter1'\n",
      "D:\\[书籍]python数据分析与数据化运营\\9_再版\\附件\\chapter1\n"
     ]
    }
   ],
   "source": [
    "%cd \"chapter1\"\n",
    "%matplotlib inline"
   ]
  },
  {
   "cell_type": "code",
   "execution_count": null,
   "metadata": {},
   "outputs": [],
   "source": [
    "# 导入库\n",
    "import re\n",
    "\n",
    "import numpy\n",
    "from matplotlib import pyplot as plt\n",
    "from sklearn import linear_model"
   ]
  },
  {
   "cell_type": "code",
   "execution_count": null,
   "metadata": {},
   "outputs": [],
   "source": [
    "# 导入数据\n",
    "fn = open('data.txt', 'r')\n",
    "all_data = fn.readlines()\n",
    "fn.close()"
   ]
  },
  {
   "cell_type": "code",
   "execution_count": null,
   "metadata": {},
   "outputs": [],
   "source": [
    "# 数据预处理\n",
    "x = []\n",
    "y = []\n",
    "for single_data in all_data:\n",
    "    tmp_data = re.split('\\t|\\n', single_data)\n",
    "    x.append(float(tmp_data[0]))\n",
    "    y.append(float(tmp_data[1]))\n",
    "\n",
    "x = numpy.array(x).reshape([-1, 1]) # 转换为N行一列的矩阵\n",
    "y = numpy.array(y).reshape([-1, 1])  # 转换为N行一列的矩阵"
   ]
  },
  {
   "cell_type": "code",
   "execution_count": null,
   "metadata": {},
   "outputs": [],
   "source": [
    "# 数据分析展示\n",
    "plt.scatter(x, y)\n",
    "plt.show()"
   ]
  },
  {
   "cell_type": "code",
   "execution_count": null,
   "metadata": {},
   "outputs": [],
   "source": [
    "# 数据建模\n",
    "model = linear_model.LinearRegression()\n",
    "model.fit(x, y)"
   ]
  },
  {
   "cell_type": "code",
   "execution_count": null,
   "metadata": {
    "scrolled": true
   },
   "outputs": [],
   "source": [
    "# 模型评估\n",
    "model_coef = model.coef_\n",
    "model_intercept = model.intercept_\n",
    "r2 = model.score(x, y)\n",
    "print('coef is: ',model_coef)\n",
    "print('intercept is: ',model_intercept)\n",
    "print('r2 is: ',r2)"
   ]
  },
  {
   "cell_type": "code",
   "execution_count": null,
   "metadata": {},
   "outputs": [],
   "source": [
    "# 销售预测\n",
    "new_x = 84610\n",
    "pre_y = model.predict(new_x)\n",
    "print(pre_y)"
   ]
  }
 ],
 "metadata": {
  "kernelspec": {
   "display_name": "Python 3",
   "language": "python",
   "name": "python3"
  },
  "language_info": {
   "codemirror_mode": {
    "name": "ipython",
    "version": 3
   },
   "file_extension": ".py",
   "mimetype": "text/x-python",
   "name": "python",
   "nbconvert_exporter": "python",
   "pygments_lexer": "ipython3",
   "version": "3.7.0"
  }
 },
 "nbformat": 4,
 "nbformat_minor": 2
}
