{
 "cells": [
  {
   "cell_type": "markdown",
   "metadata": {},
   "source": [
    "![](http://www.dataivy.cn/book/images/head.png)\n",
    "<table align=\"center\" bgcolor=\"#FFFFFF\" border=\"0px\">\n",
    "   <tr bgcolor=\"#FFFFFF\">\n",
    "      <td><img src=\"http://www.dataivy.cn/book/images/release_date.svg\"></td>\n",
    "      <td><img src=\"http://www.dataivy.cn/book/images/python-3.7-green.svg\"></td>\n",
    "      <td><a href=\"http://www.dataivy.cn/blog/python_book_faq/\"><img src=\"http://www.dataivy.cn/book/images/faq-visit_site-blue.svg\"></a></td>\n",
    "      <td><a href=\"http://www.dataivy.cn/blog/python_book_knows_issues/\"><img src=\"http://www.dataivy.cn/book/images/known_issues.svg\"></a></td>\n",
    "   </tr>\n",
    "</table>\n",
    "\n",
    "\n",
    "<hr />"
   ]
  },
  {
   "cell_type": "markdown",
   "metadata": {},
   "source": [
    "<div align=\"center\"><h1> 第五章&nbsp;&nbsp;会员数据化运营</h1></div>"
   ]
  },
  {
   "cell_type": "markdown",
   "metadata": {},
   "source": [
    "# 一、案例-基于RFM的精细化用户管理"
   ]
  },
  {
   "cell_type": "markdown",
   "metadata": {},
   "source": [
    "## 说明"
   ]
  },
  {
   "cell_type": "markdown",
   "metadata": {},
   "source": [
    "- 描述：“代码实操”以及内容延伸部分源代码\n",
    "- 时间：2019-01-01\n",
    "- 作者：宋天龙（Tony Song）\n",
    "- 程序开发环境：win7 64位\n",
    "- Python版本：64位 3.7\n",
    "- 依赖库：time、numpy、pandas、sklearn、pyecharts\n",
    "- 程序输入：sales.xlsx\n",
    "- 程序输出：RFM得分数据写本地文件sales_rfm_score.xlsx和数据表（sales_rfm_score）"
   ]
  },
  {
   "cell_type": "markdown",
   "metadata": {},
   "source": [
    "## 程序"
   ]
  },
  {
   "cell_type": "markdown",
   "metadata": {},
   "source": [
    "### 导入库"
   ]
  },
  {
   "cell_type": "code",
   "execution_count": 1,
   "metadata": {},
   "outputs": [],
   "source": [
    "import time  # 时间库\n",
    "\n",
    "import numpy as np  # numpy库\n",
    "import pandas as pd  # pandas库\n",
    "import pymysql  # mysql连接库\n",
    "from sklearn.ensemble import RandomForestClassifier # RF库\n",
    "\n",
    "from pyecharts import Bar3D # 3D柱形图"
   ]
  },
  {
   "cell_type": "markdown",
   "metadata": {},
   "source": [
    "### 读取数据"
   ]
  },
  {
   "cell_type": "code",
   "execution_count": 2,
   "metadata": {},
   "outputs": [],
   "source": [
    "sheet_names = ['2015','2016','2017','2018','会员等级']\n",
    "sheet_datas = [pd.read_excel('sales.xlsx',sheet_name=i) for i in sheet_names]"
   ]
  },
  {
   "cell_type": "markdown",
   "metadata": {},
   "source": [
    "### 数据审查"
   ]
  },
  {
   "cell_type": "code",
   "execution_count": 3,
   "metadata": {},
   "outputs": [
    {
     "name": "stdout",
     "output_type": "stream",
     "text": [
      "[data summary for =======================2015=======================]\n",
      "Overview: \n",
      "           会员ID         订单号       提交日期    订单金额\n",
      "0  15278002468  3000304681 2015-01-01   499.0\n",
      "1  39236378972  3000305791 2015-01-01  2588.0\n",
      "2  38722039578  3000641787 2015-01-01   498.0\n",
      "3  11049640063  3000798913 2015-01-01  1572.0\n",
      "DESC: \n",
      "                会员ID           订单号           订单金额\n",
      "count  3.077400e+04  3.077400e+04   30774.000000\n",
      "mean   2.918779e+10  4.020414e+09     960.991161\n",
      "std    1.385333e+10  2.630510e+08    2068.107231\n",
      "min    2.670000e+02  3.000305e+09       0.500000\n",
      "25%    1.944122e+10  3.885510e+09      59.000000\n",
      "50%    3.746545e+10  4.117491e+09     139.000000\n",
      "75%    3.923593e+10  4.234882e+09     899.000000\n",
      "max    3.954613e+10  4.282025e+09  111750.000000\n",
      "NA records 0\n",
      "Dtypes 会员ID             int64\n",
      "订单号              int64\n",
      "提交日期    datetime64[ns]\n",
      "订单金额           float64\n",
      "dtype: object\n",
      "[data summary for =======================2016=======================]\n",
      "Overview: \n",
      "           会员ID         订单号       提交日期    订单金额\n",
      "0  39288120141  4282025766 2016-01-01    76.0\n",
      "1  39293812118  4282037929 2016-01-01  7599.0\n",
      "2  27596340905  4282038740 2016-01-01   802.0\n",
      "3  15111475509  4282043819 2016-01-01    65.0\n",
      "DESC: \n",
      "                会员ID           订单号           订单金额\n",
      "count  4.127800e+04  4.127800e+04   41277.000000\n",
      "mean   2.908415e+10  4.313583e+09     957.106694\n",
      "std    1.389468e+10  1.094572e+07    2478.560036\n",
      "min    8.100000e+01  4.282026e+09       0.100000\n",
      "25%    1.934990e+10  4.309457e+09      59.000000\n",
      "50%    3.730339e+10  4.317545e+09     147.000000\n",
      "75%    3.923182e+10  4.321132e+09     888.000000\n",
      "max    3.954554e+10  4.324911e+09  174900.000000\n",
      "NA records 1\n",
      "Dtypes 会员ID             int64\n",
      "订单号              int64\n",
      "提交日期    datetime64[ns]\n",
      "订单金额           float64\n",
      "dtype: object\n",
      "[data summary for =======================2017=======================]\n",
      "Overview: \n",
      "           会员ID         订单号       提交日期    订单金额\n",
      "0  38765290840  4324911135 2017-01-01  1799.0\n",
      "1  39305832102  4324911213 2017-01-01   369.0\n",
      "2  34190994969  4324911251 2017-01-01   189.0\n",
      "3  38986333210  4324911283 2017-01-01   169.0\n",
      "DESC: \n",
      "                会员ID           订单号           订单金额\n",
      "count  5.083900e+04  5.083900e+04   50839.000000\n",
      "mean   2.882368e+10  4.332466e+09     963.587872\n",
      "std    1.409416e+10  4.404350e+06    2178.727261\n",
      "min    2.780000e+02  4.324911e+09       0.300000\n",
      "25%    1.869274e+10  4.328415e+09      59.000000\n",
      "50%    3.688044e+10  4.331989e+09     149.000000\n",
      "75%    3.923020e+10  4.337515e+09     898.000000\n",
      "max    3.954554e+10  4.338764e+09  123609.000000\n",
      "NA records 0\n",
      "Dtypes 会员ID             int64\n",
      "订单号              int64\n",
      "提交日期    datetime64[ns]\n",
      "订单金额           float64\n",
      "dtype: object\n",
      "[data summary for =======================2018=======================]\n",
      "Overview: \n",
      "           会员ID         订单号       提交日期    订单金额\n",
      "0  39229691808  4338764262 2018-01-01  3646.0\n",
      "1  39293668916  4338764363 2018-01-01  3999.0\n",
      "2  35059646224  4338764376 2018-01-01    10.1\n",
      "3      1084397  4338770013 2018-01-01   828.0\n",
      "DESC: \n",
      "                会员ID           订单号           订单金额\n",
      "count  8.134900e+04  8.134900e+04   81348.000000\n",
      "mean   2.902317e+10  4.348372e+09     966.582792\n",
      "std    1.404116e+10  4.183774e+06    2204.969534\n",
      "min    2.780000e+02  4.338764e+09       0.000000\n",
      "25%    1.902755e+10  4.345654e+09      60.000000\n",
      "50%    3.740121e+10  4.349448e+09     149.000000\n",
      "75%    3.923380e+10  4.351639e+09     899.000000\n",
      "max    3.954614e+10  4.354235e+09  174900.000000\n",
      "NA records 1\n",
      "Dtypes 会员ID             int64\n",
      "订单号              int64\n",
      "提交日期    datetime64[ns]\n",
      "订单金额           float64\n",
      "dtype: object\n",
      "[data summary for =======================会员等级=======================]\n",
      "Overview: \n",
      "           会员ID  会员等级\n",
      "0       100090     3\n",
      "1  10012905801     1\n",
      "2  10012935109     1\n",
      "3  10013498043     1\n",
      "DESC: \n",
      "                会员ID           会员等级\n",
      "count  1.543850e+05  154385.000000\n",
      "mean   2.980055e+10       2.259701\n",
      "std    1.365654e+10       1.346408\n",
      "min    8.100000e+01       1.000000\n",
      "25%    2.213894e+10       1.000000\n",
      "50%    3.833022e+10       2.000000\n",
      "75%    3.927932e+10       3.000000\n",
      "max    3.954614e+10       5.000000\n",
      "NA records 0\n",
      "Dtypes 会员ID    int64\n",
      "会员等级    int64\n",
      "dtype: object\n"
     ]
    }
   ],
   "source": [
    "for each_name,each_data in zip(sheet_names,sheet_datas):    \n",
    "    print('[data summary for {0:=^50}]'.format(each_name))\n",
    "    print('Overview:','\\n',each_data.head(4))# 展示数据前4条\n",
    "    print('DESC:','\\n',each_data.describe())# 数据描述性信息\n",
    "    print('NA records',each_data.isnull().any(axis=1).sum()) # 缺失值记录数    \n",
    "    print('Dtypes',each_data.dtypes) # 数据类型"
   ]
  },
  {
   "cell_type": "markdown",
   "metadata": {},
   "source": [
    "### 数据预处理"
   ]
  },
  {
   "cell_type": "code",
   "execution_count": 4,
   "metadata": {},
   "outputs": [
    {
     "name": "stderr",
     "output_type": "stream",
     "text": [
      "C:\\Anaconda3\\lib\\site-packages\\ipykernel_launcher.py:5: SettingWithCopyWarning: \n",
      "A value is trying to be set on a copy of a slice from a DataFrame.\n",
      "Try using .loc[row_indexer,col_indexer] = value instead\n",
      "\n",
      "See the caveats in the documentation: http://pandas.pydata.org/pandas-docs/stable/indexing.html#indexing-view-versus-copy\n",
      "  \"\"\"\n"
     ]
    }
   ],
   "source": [
    "# 去除缺失值和异常值\n",
    "for ind,each_data in enumerate(sheet_datas[:-1]):    \n",
    "    sheet_datas[ind] = each_data.dropna()# 丢弃缺失值记录\n",
    "    sheet_datas[ind] = each_data[each_data['订单金额'] > 1]# 丢弃订单金额<=1的记录\n",
    "    sheet_datas[ind]['max_year_date'] = each_data['提交日期'].max() # 增加一列最大日期值"
   ]
  },
  {
   "cell_type": "code",
   "execution_count": 5,
   "metadata": {},
   "outputs": [],
   "source": [
    "# 汇总所有数据\n",
    "data_merge = pd.concat(sheet_datas[:-1],axis=0)\n",
    "# 获取各自年份数据\n",
    "data_merge['date_interval'] = data_merge['max_year_date']-data_merge['提交日期']\n",
    "data_merge['year'] = data_merge['提交日期'].dt.year\n",
    "# 转换日期间隔为数字\n",
    "data_merge['date_interval'] = data_merge['date_interval'].apply(lambda x: x.days) # 转换日期间隔为数字\n",
    "#data_merge.head()"
   ]
  },
  {
   "cell_type": "code",
   "execution_count": 6,
   "metadata": {},
   "outputs": [
    {
     "data": {
      "text/html": [
       "<div>\n",
       "<style scoped>\n",
       "    .dataframe tbody tr th:only-of-type {\n",
       "        vertical-align: middle;\n",
       "    }\n",
       "\n",
       "    .dataframe tbody tr th {\n",
       "        vertical-align: top;\n",
       "    }\n",
       "\n",
       "    .dataframe thead th {\n",
       "        text-align: right;\n",
       "    }\n",
       "</style>\n",
       "<table border=\"1\" class=\"dataframe\">\n",
       "  <thead>\n",
       "    <tr style=\"text-align: right;\">\n",
       "      <th></th>\n",
       "      <th>year</th>\n",
       "      <th>会员ID</th>\n",
       "      <th>r</th>\n",
       "      <th>f</th>\n",
       "      <th>m</th>\n",
       "    </tr>\n",
       "  </thead>\n",
       "  <tbody>\n",
       "    <tr>\n",
       "      <th>0</th>\n",
       "      <td>2015</td>\n",
       "      <td>267</td>\n",
       "      <td>197</td>\n",
       "      <td>2</td>\n",
       "      <td>105.0</td>\n",
       "    </tr>\n",
       "    <tr>\n",
       "      <th>1</th>\n",
       "      <td>2015</td>\n",
       "      <td>282</td>\n",
       "      <td>251</td>\n",
       "      <td>1</td>\n",
       "      <td>29.7</td>\n",
       "    </tr>\n",
       "    <tr>\n",
       "      <th>2</th>\n",
       "      <td>2015</td>\n",
       "      <td>283</td>\n",
       "      <td>340</td>\n",
       "      <td>1</td>\n",
       "      <td>5398.0</td>\n",
       "    </tr>\n",
       "    <tr>\n",
       "      <th>3</th>\n",
       "      <td>2015</td>\n",
       "      <td>343</td>\n",
       "      <td>300</td>\n",
       "      <td>1</td>\n",
       "      <td>118.0</td>\n",
       "    </tr>\n",
       "    <tr>\n",
       "      <th>4</th>\n",
       "      <td>2015</td>\n",
       "      <td>525</td>\n",
       "      <td>37</td>\n",
       "      <td>3</td>\n",
       "      <td>213.0</td>\n",
       "    </tr>\n",
       "  </tbody>\n",
       "</table>\n",
       "</div>"
      ],
      "text/plain": [
       "   year  会员ID    r  f       m\n",
       "0  2015   267  197  2   105.0\n",
       "1  2015   282  251  1    29.7\n",
       "2  2015   283  340  1  5398.0\n",
       "3  2015   343  300  1   118.0\n",
       "4  2015   525   37  3   213.0"
      ]
     },
     "execution_count": 6,
     "metadata": {},
     "output_type": "execute_result"
    }
   ],
   "source": [
    "# 按会员ID做汇总\n",
    "rfm_gb = data_merge.groupby(['year','会员ID'],as_index=False).agg({'date_interval': 'min',  # 计算最近一次订单时间\n",
    "                                                   '提交日期': 'count', # 计算订单频率\n",
    "                                                   '订单金额': 'sum'})  # 计算订单总金额\n",
    "# 重命名列名\n",
    "rfm_gb.columns =  ['year','会员ID','r','f','m']\n",
    "rfm_gb.head()"
   ]
  },
  {
   "cell_type": "markdown",
   "metadata": {},
   "source": [
    "### 确定RFM划分区间"
   ]
  },
  {
   "cell_type": "code",
   "execution_count": 7,
   "metadata": {},
   "outputs": [
    {
     "name": "stdout",
     "output_type": "stream",
     "text": [
      "      count         mean          std  min   25%    50%     75%       max\n",
      "r  148591.0   165.524043   101.988472  0.0  79.0  156.0   255.0     365.0\n",
      "f  148591.0     1.365002     2.626953  1.0   1.0    1.0     1.0     130.0\n",
      "m  148591.0  1323.741329  3753.906883  1.5  69.0  189.0  1199.0  206251.8\n"
     ]
    }
   ],
   "source": [
    "# 查看数据分布\n",
    "desc_pd = rfm_gb.iloc[:,2:].describe().T\n",
    "print(desc_pd)\n",
    "# 定义区间边界\n",
    "r_bins = [-1,79,255,365] # 注意起始边界小于最小值\n",
    "f_bins = [0,2,5,130] \n",
    "m_bins = [0,69,1199,206252]"
   ]
  },
  {
   "cell_type": "markdown",
   "metadata": {},
   "source": [
    "### 计算RFM因子权重"
   ]
  },
  {
   "cell_type": "code",
   "execution_count": 8,
   "metadata": {},
   "outputs": [],
   "source": [
    "# 匹配会员等级和rfm得分\n",
    "rfm_merge = pd.merge(rfm_gb,sheet_datas[-1],on='会员ID',how='inner')"
   ]
  },
  {
   "cell_type": "code",
   "execution_count": 9,
   "metadata": {},
   "outputs": [
    {
     "name": "stderr",
     "output_type": "stream",
     "text": [
      "C:\\Anaconda3\\lib\\site-packages\\sklearn\\ensemble\\forest.py:246: FutureWarning: The default value of n_estimators will change from 10 in version 0.20 to 100 in 0.22.\n",
      "  \"10 in version 0.20 to 100 in 0.22.\", FutureWarning)\n"
     ]
    },
    {
     "name": "stdout",
     "output_type": "stream",
     "text": [
      "feature importance: [0.39042291 0.00670539 0.6028717 ]\n"
     ]
    }
   ],
   "source": [
    "# rf获得rfm因子得分\n",
    "clf = RandomForestClassifier()\n",
    "clf = clf.fit(rfm_merge[['r','f','m']],rfm_merge['会员等级'])\n",
    "weights = clf.feature_importances_\n",
    "print('feature importance:',weights)"
   ]
  },
  {
   "cell_type": "markdown",
   "metadata": {},
   "source": [
    "### RFM计算过程"
   ]
  },
  {
   "cell_type": "code",
   "execution_count": 10,
   "metadata": {},
   "outputs": [],
   "source": [
    "# RFM分箱得分\n",
    "rfm_gb['r_score'] = pd.cut(rfm_gb['r'], r_bins, labels=[i for i in range(len(r_bins)-1,0,-1)])  # 计算R得分\n",
    "rfm_gb['f_score'] = pd.cut(rfm_gb['f'], f_bins, labels=[i+1 for i in range(len(f_bins)-1)])  # 计算F得分\n",
    "rfm_gb['m_score'] = pd.cut(rfm_gb['m'], m_bins, labels=[i+1 for i in range(len(m_bins)-1)])  # 计算M得分"
   ]
  },
  {
   "cell_type": "code",
   "execution_count": 11,
   "metadata": {},
   "outputs": [],
   "source": [
    "# 计算RFM总得分\n",
    "# 方法一：加权得分\n",
    "rfm_gb = rfm_gb.apply(np.int32) # cate转数值\n",
    "rfm_gb['rfm_score'] = rfm_gb['r_score'] * weights[0] + rfm_gb['f_score'] * weights[1] + rfm_gb[\n",
    "'m_score'] * weights[2]"
   ]
  },
  {
   "cell_type": "code",
   "execution_count": 12,
   "metadata": {},
   "outputs": [],
   "source": [
    "# 方法二：RFM组合\n",
    "rfm_gb['r_score'] = rfm_gb['r_score'].astype(np.str)\n",
    "rfm_gb['f_score'] = rfm_gb['f_score'].astype(np.str)\n",
    "rfm_gb['m_score'] = rfm_gb['m_score'].astype(np.str)\n",
    "rfm_gb['rfm_group'] = rfm_gb['r_score'].str.cat(rfm_gb['f_score']).str.cat(\n",
    "rfm_gb['m_score'])"
   ]
  },
  {
   "cell_type": "markdown",
   "metadata": {},
   "source": [
    "### 保存RFM结果到Excel"
   ]
  },
  {
   "cell_type": "code",
   "execution_count": 13,
   "metadata": {},
   "outputs": [],
   "source": [
    "rfm_gb.to_excel('sales_rfm_score.xlsx')  # 保存数据为Excel"
   ]
  },
  {
   "cell_type": "markdown",
   "metadata": {},
   "source": [
    "### 写数据到数据库"
   ]
  },
  {
   "cell_type": "code",
   "execution_count": 14,
   "metadata": {},
   "outputs": [],
   "source": [
    "# 数据库信息\n",
    "config = {'host': '127.0.0.1',  # 默认127.0.0.1\n",
    "          'user': 'root',  # 用户名\n",
    "          'password': '123456',  # 密码\n",
    "          'port': 3306,  # 端口，默认为3306\n",
    "          'database': 'python_data',  # 数据库名称\n",
    "          'charset': 'gb2312'  # 字符编码\n",
    "          }"
   ]
  },
  {
   "cell_type": "code",
   "execution_count": 15,
   "metadata": {},
   "outputs": [],
   "source": [
    "# 建表操作\n",
    "con = pymysql.connect(**config)  # 建立mysql连接\n",
    "cursor = con.cursor()  # 获得游标\n",
    "cursor.execute(\"show tables\")  # 查询表\n",
    "table_list = [t[0] for t in cursor.fetchall()]  # 读出所有库\n",
    "# 查找数据库是否存在目标表，如果没有则新建\n",
    "table_name = 'sales_rfm_score'  # 要写库的表名\n",
    "if not table_name in table_list:  # 如果目标表没有创建\n",
    "    cursor.execute('''\n",
    "    CREATE TABLE %s (\n",
    "    userid               VARCHAR(20),\n",
    "    r_score               int(2),\n",
    "    f_score              int(2),\n",
    "    m_score              int(2),\n",
    "    rfm_score              DECIMAL(10,2),\n",
    "    rfm_group              VARCHAR(10),\n",
    "    insert_date              VARCHAR(20)\n",
    "    )ENGINE=InnoDB DEFAULT CHARSET=gb2312\n",
    "    ''' % table_name)  # 创建新表"
   ]
  },
  {
   "cell_type": "code",
   "execution_count": 16,
   "metadata": {},
   "outputs": [],
   "source": [
    "# 梳理数据\n",
    "write_db_data = rfm_gb[['会员ID','r_score','f_score','m_score','rfm_score','rfm_group']] # 主要数据\n",
    "timestamp = time.strftime('%Y-%m-%d', time.localtime(time.time()))  # 日期"
   ]
  },
  {
   "cell_type": "code",
   "execution_count": 17,
   "metadata": {},
   "outputs": [
    {
     "name": "stderr",
     "output_type": "stream",
     "text": [
      "C:\\Anaconda3\\lib\\site-packages\\pymysql\\cursors.py:170: Warning: (1265, \"Data truncated for column 'rfm_score' at row 1\")\n",
      "  result = self._query(query)\n"
     ]
    }
   ],
   "source": [
    "# 写库\n",
    "for each_value in write_db_data.values:\n",
    "    insert_sql = \"INSERT INTO `%s` VALUES ('%s',%s,%s,%s,%s,'%s','%s')\" % \\\n",
    "                 (table_name, each_value[0], each_value[1], each_value[2], \\\n",
    "                  each_value[3],each_value[4],each_value[5],\n",
    "                  timestamp)  # 写库SQL依据\n",
    "    cursor.execute(insert_sql)  # 执行SQL语句，execute函数里面要用双引号\n",
    "    con.commit()  # 提交命令\n",
    "cursor.close()  # 关闭游标\n",
    "con.close()  # 关闭数据库连接"
   ]
  },
  {
   "cell_type": "markdown",
   "metadata": {},
   "source": [
    "### RFM图形展示"
   ]
  },
  {
   "cell_type": "code",
   "execution_count": 18,
   "metadata": {},
   "outputs": [
    {
     "data": {
      "text/html": [
       "<div>\n",
       "<style scoped>\n",
       "    .dataframe tbody tr th:only-of-type {\n",
       "        vertical-align: middle;\n",
       "    }\n",
       "\n",
       "    .dataframe tbody tr th {\n",
       "        vertical-align: top;\n",
       "    }\n",
       "\n",
       "    .dataframe thead th {\n",
       "        text-align: right;\n",
       "    }\n",
       "</style>\n",
       "<table border=\"1\" class=\"dataframe\">\n",
       "  <thead>\n",
       "    <tr style=\"text-align: right;\">\n",
       "      <th></th>\n",
       "      <th>rfm_group</th>\n",
       "      <th>year</th>\n",
       "      <th>number</th>\n",
       "    </tr>\n",
       "  </thead>\n",
       "  <tbody>\n",
       "    <tr>\n",
       "      <th>0</th>\n",
       "      <td>111</td>\n",
       "      <td>2015</td>\n",
       "      <td>2180</td>\n",
       "    </tr>\n",
       "    <tr>\n",
       "      <th>1</th>\n",
       "      <td>111</td>\n",
       "      <td>2016</td>\n",
       "      <td>1498</td>\n",
       "    </tr>\n",
       "    <tr>\n",
       "      <th>2</th>\n",
       "      <td>111</td>\n",
       "      <td>2017</td>\n",
       "      <td>3169</td>\n",
       "    </tr>\n",
       "    <tr>\n",
       "      <th>3</th>\n",
       "      <td>111</td>\n",
       "      <td>2018</td>\n",
       "      <td>2271</td>\n",
       "    </tr>\n",
       "    <tr>\n",
       "      <th>4</th>\n",
       "      <td>112</td>\n",
       "      <td>2015</td>\n",
       "      <td>3811</td>\n",
       "    </tr>\n",
       "  </tbody>\n",
       "</table>\n",
       "</div>"
      ],
      "text/plain": [
       "   rfm_group  year  number\n",
       "0        111  2015    2180\n",
       "1        111  2016    1498\n",
       "2        111  2017    3169\n",
       "3        111  2018    2271\n",
       "4        112  2015    3811"
      ]
     },
     "execution_count": 18,
     "metadata": {},
     "output_type": "execute_result"
    }
   ],
   "source": [
    "# 图形数据汇总\n",
    "display_data = rfm_gb.groupby(['rfm_group','year'],as_index=False)['会员ID'].count()\n",
    "display_data.columns = ['rfm_group','year','number']\n",
    "display_data['rfm_group'] = display_data['rfm_group'].astype(np.int32)\n",
    "display_data.head()"
   ]
  },
  {
   "cell_type": "code",
   "execution_count": 19,
   "metadata": {},
   "outputs": [
    {
     "data": {
      "text/html": [
       "<script>\n",
       "    require.config({\n",
       "        paths: {\n",
       "            'echarts': '/nbextensions/echarts/echarts.min', 'echartsgl': '/nbextensions/echarts/echarts-gl.min'\n",
       "        }\n",
       "    });\n",
       "</script>\n",
       "    <div id=\"15e4aacd4b6e43c193b3203c3a4dece5\" style=\"width:900px;height:600px;\"></div>\n",
       "\n",
       "\n",
       "<script>\n",
       "    require(['echarts', 'echartsgl'], function(echarts) {\n",
       "        \n",
       "var myChart_15e4aacd4b6e43c193b3203c3a4dece5 = echarts.init(document.getElementById('15e4aacd4b6e43c193b3203c3a4dece5'), 'light', {renderer: 'canvas'});\n",
       "\n",
       "var option_15e4aacd4b6e43c193b3203c3a4dece5 = {\n",
       "    \"title\": [\n",
       "        {\n",
       "            \"left\": \"auto\",\n",
       "            \"top\": \"auto\",\n",
       "            \"textStyle\": {\n",
       "                \"fontSize\": 18\n",
       "            },\n",
       "            \"subtextStyle\": {\n",
       "                \"fontSize\": 12\n",
       "            }\n",
       "        }\n",
       "    ],\n",
       "    \"toolbox\": {\n",
       "        \"show\": true,\n",
       "        \"orient\": \"vertical\",\n",
       "        \"left\": \"95%\",\n",
       "        \"top\": \"center\",\n",
       "        \"feature\": {\n",
       "            \"saveAsImage\": {\n",
       "                \"show\": true,\n",
       "                \"title\": \"save as image\"\n",
       "            },\n",
       "            \"restore\": {\n",
       "                \"show\": true,\n",
       "                \"title\": \"restore\"\n",
       "            },\n",
       "            \"dataView\": {\n",
       "                \"show\": true,\n",
       "                \"title\": \"data view\"\n",
       "            }\n",
       "        }\n",
       "    },\n",
       "    \"series_id\": 2404513,\n",
       "    \"tooltip\": {\n",
       "        \"trigger\": \"item\",\n",
       "        \"triggerOn\": \"mousemove|click\",\n",
       "        \"axisPointer\": {\n",
       "            \"type\": \"line\"\n",
       "        },\n",
       "        \"textStyle\": {\n",
       "            \"fontSize\": 14\n",
       "        },\n",
       "        \"backgroundColor\": \"rgba(50,50,50,0.7)\",\n",
       "        \"borderColor\": \"#333\",\n",
       "        \"borderWidth\": 0\n",
       "    },\n",
       "    \"series\": [\n",
       "        {\n",
       "            \"type\": \"bar3D\",\n",
       "            \"name\": \"rfm\\u5206\\u7ec4\\u7ed3\\u679c\",\n",
       "            \"data\": [\n",
       "                [\n",
       "                    111,\n",
       "                    2015,\n",
       "                    2180\n",
       "                ],\n",
       "                [\n",
       "                    111,\n",
       "                    2016,\n",
       "                    1498\n",
       "                ],\n",
       "                [\n",
       "                    111,\n",
       "                    2017,\n",
       "                    3169\n",
       "                ],\n",
       "                [\n",
       "                    111,\n",
       "                    2018,\n",
       "                    2271\n",
       "                ],\n",
       "                [\n",
       "                    112,\n",
       "                    2015,\n",
       "                    3811\n",
       "                ],\n",
       "                [\n",
       "                    112,\n",
       "                    2016,\n",
       "                    2958\n",
       "                ],\n",
       "                [\n",
       "                    112,\n",
       "                    2017,\n",
       "                    5737\n",
       "                ],\n",
       "                [\n",
       "                    112,\n",
       "                    2018,\n",
       "                    4340\n",
       "                ],\n",
       "                [\n",
       "                    113,\n",
       "                    2015,\n",
       "                    1785\n",
       "                ],\n",
       "                [\n",
       "                    113,\n",
       "                    2016,\n",
       "                    1297\n",
       "                ],\n",
       "                [\n",
       "                    113,\n",
       "                    2017,\n",
       "                    2506\n",
       "                ],\n",
       "                [\n",
       "                    113,\n",
       "                    2018,\n",
       "                    1947\n",
       "                ],\n",
       "                [\n",
       "                    121,\n",
       "                    2017,\n",
       "                    1\n",
       "                ],\n",
       "                [\n",
       "                    121,\n",
       "                    2018,\n",
       "                    8\n",
       "                ],\n",
       "                [\n",
       "                    122,\n",
       "                    2015,\n",
       "                    27\n",
       "                ],\n",
       "                [\n",
       "                    122,\n",
       "                    2017,\n",
       "                    12\n",
       "                ],\n",
       "                [\n",
       "                    122,\n",
       "                    2018,\n",
       "                    976\n",
       "                ],\n",
       "                [\n",
       "                    123,\n",
       "                    2015,\n",
       "                    24\n",
       "                ],\n",
       "                [\n",
       "                    123,\n",
       "                    2017,\n",
       "                    4\n",
       "                ],\n",
       "                [\n",
       "                    123,\n",
       "                    2018,\n",
       "                    1904\n",
       "                ],\n",
       "                [\n",
       "                    132,\n",
       "                    2018,\n",
       "                    2\n",
       "                ],\n",
       "                [\n",
       "                    133,\n",
       "                    2015,\n",
       "                    15\n",
       "                ],\n",
       "                [\n",
       "                    133,\n",
       "                    2016,\n",
       "                    233\n",
       "                ],\n",
       "                [\n",
       "                    133,\n",
       "                    2017,\n",
       "                    36\n",
       "                ],\n",
       "                [\n",
       "                    133,\n",
       "                    2018,\n",
       "                    188\n",
       "                ],\n",
       "                [\n",
       "                    211,\n",
       "                    2015,\n",
       "                    3532\n",
       "                ],\n",
       "                [\n",
       "                    211,\n",
       "                    2016,\n",
       "                    4678\n",
       "                ],\n",
       "                [\n",
       "                    211,\n",
       "                    2017,\n",
       "                    3509\n",
       "                ],\n",
       "                [\n",
       "                    211,\n",
       "                    2018,\n",
       "                    7304\n",
       "                ],\n",
       "                [\n",
       "                    212,\n",
       "                    2015,\n",
       "                    6576\n",
       "                ],\n",
       "                [\n",
       "                    212,\n",
       "                    2016,\n",
       "                    8983\n",
       "                ],\n",
       "                [\n",
       "                    212,\n",
       "                    2017,\n",
       "                    6983\n",
       "                ],\n",
       "                [\n",
       "                    212,\n",
       "                    2018,\n",
       "                    14297\n",
       "                ],\n",
       "                [\n",
       "                    213,\n",
       "                    2015,\n",
       "                    2962\n",
       "                ],\n",
       "                [\n",
       "                    213,\n",
       "                    2016,\n",
       "                    4036\n",
       "                ],\n",
       "                [\n",
       "                    213,\n",
       "                    2017,\n",
       "                    2983\n",
       "                ],\n",
       "                [\n",
       "                    213,\n",
       "                    2018,\n",
       "                    6389\n",
       "                ],\n",
       "                [\n",
       "                    221,\n",
       "                    2015,\n",
       "                    2\n",
       "                ],\n",
       "                [\n",
       "                    221,\n",
       "                    2016,\n",
       "                    6\n",
       "                ],\n",
       "                [\n",
       "                    221,\n",
       "                    2017,\n",
       "                    3\n",
       "                ],\n",
       "                [\n",
       "                    221,\n",
       "                    2018,\n",
       "                    13\n",
       "                ],\n",
       "                [\n",
       "                    222,\n",
       "                    2015,\n",
       "                    43\n",
       "                ],\n",
       "                [\n",
       "                    222,\n",
       "                    2016,\n",
       "                    69\n",
       "                ],\n",
       "                [\n",
       "                    222,\n",
       "                    2017,\n",
       "                    46\n",
       "                ],\n",
       "                [\n",
       "                    222,\n",
       "                    2018,\n",
       "                    216\n",
       "                ],\n",
       "                [\n",
       "                    223,\n",
       "                    2015,\n",
       "                    37\n",
       "                ],\n",
       "                [\n",
       "                    223,\n",
       "                    2016,\n",
       "                    42\n",
       "                ],\n",
       "                [\n",
       "                    223,\n",
       "                    2017,\n",
       "                    38\n",
       "                ],\n",
       "                [\n",
       "                    223,\n",
       "                    2018,\n",
       "                    253\n",
       "                ],\n",
       "                [\n",
       "                    232,\n",
       "                    2016,\n",
       "                    4\n",
       "                ],\n",
       "                [\n",
       "                    232,\n",
       "                    2018,\n",
       "                    9\n",
       "                ],\n",
       "                [\n",
       "                    233,\n",
       "                    2015,\n",
       "                    20\n",
       "                ],\n",
       "                [\n",
       "                    233,\n",
       "                    2016,\n",
       "                    50\n",
       "                ],\n",
       "                [\n",
       "                    233,\n",
       "                    2017,\n",
       "                    589\n",
       "                ],\n",
       "                [\n",
       "                    233,\n",
       "                    2018,\n",
       "                    387\n",
       "                ],\n",
       "                [\n",
       "                    311,\n",
       "                    2015,\n",
       "                    1718\n",
       "                ],\n",
       "                [\n",
       "                    311,\n",
       "                    2016,\n",
       "                    2171\n",
       "                ],\n",
       "                [\n",
       "                    311,\n",
       "                    2017,\n",
       "                    2164\n",
       "                ],\n",
       "                [\n",
       "                    311,\n",
       "                    2018,\n",
       "                    3221\n",
       "                ],\n",
       "                [\n",
       "                    312,\n",
       "                    2015,\n",
       "                    3310\n",
       "                ],\n",
       "                [\n",
       "                    312,\n",
       "                    2016,\n",
       "                    4438\n",
       "                ],\n",
       "                [\n",
       "                    312,\n",
       "                    2017,\n",
       "                    4325\n",
       "                ],\n",
       "                [\n",
       "                    312,\n",
       "                    2018,\n",
       "                    6582\n",
       "                ],\n",
       "                [\n",
       "                    313,\n",
       "                    2015,\n",
       "                    1440\n",
       "                ],\n",
       "                [\n",
       "                    313,\n",
       "                    2016,\n",
       "                    1947\n",
       "                ],\n",
       "                [\n",
       "                    313,\n",
       "                    2017,\n",
       "                    1946\n",
       "                ],\n",
       "                [\n",
       "                    313,\n",
       "                    2018,\n",
       "                    3008\n",
       "                ],\n",
       "                [\n",
       "                    321,\n",
       "                    2015,\n",
       "                    6\n",
       "                ],\n",
       "                [\n",
       "                    321,\n",
       "                    2016,\n",
       "                    9\n",
       "                ],\n",
       "                [\n",
       "                    321,\n",
       "                    2017,\n",
       "                    2\n",
       "                ],\n",
       "                [\n",
       "                    321,\n",
       "                    2018,\n",
       "                    17\n",
       "                ],\n",
       "                [\n",
       "                    322,\n",
       "                    2015,\n",
       "                    61\n",
       "                ],\n",
       "                [\n",
       "                    322,\n",
       "                    2016,\n",
       "                    86\n",
       "                ],\n",
       "                [\n",
       "                    322,\n",
       "                    2017,\n",
       "                    64\n",
       "                ],\n",
       "                [\n",
       "                    322,\n",
       "                    2018,\n",
       "                    199\n",
       "                ],\n",
       "                [\n",
       "                    323,\n",
       "                    2015,\n",
       "                    44\n",
       "                ],\n",
       "                [\n",
       "                    323,\n",
       "                    2016,\n",
       "                    64\n",
       "                ],\n",
       "                [\n",
       "                    323,\n",
       "                    2017,\n",
       "                    60\n",
       "                ],\n",
       "                [\n",
       "                    323,\n",
       "                    2018,\n",
       "                    198\n",
       "                ],\n",
       "                [\n",
       "                    331,\n",
       "                    2017,\n",
       "                    1\n",
       "                ],\n",
       "                [\n",
       "                    332,\n",
       "                    2015,\n",
       "                    3\n",
       "                ],\n",
       "                [\n",
       "                    332,\n",
       "                    2016,\n",
       "                    8\n",
       "                ],\n",
       "                [\n",
       "                    332,\n",
       "                    2017,\n",
       "                    2\n",
       "                ],\n",
       "                [\n",
       "                    332,\n",
       "                    2018,\n",
       "                    24\n",
       "                ],\n",
       "                [\n",
       "                    333,\n",
       "                    2015,\n",
       "                    15\n",
       "                ],\n",
       "                [\n",
       "                    333,\n",
       "                    2016,\n",
       "                    28\n",
       "                ],\n",
       "                [\n",
       "                    333,\n",
       "                    2017,\n",
       "                    87\n",
       "                ],\n",
       "                [\n",
       "                    333,\n",
       "                    2018,\n",
       "                    355\n",
       "                ]\n",
       "            ],\n",
       "            \"label\": {\n",
       "                \"normal\": {\n",
       "                    \"show\": false,\n",
       "                    \"position\": \"top\",\n",
       "                    \"textStyle\": {\n",
       "                        \"fontSize\": 12\n",
       "                    }\n",
       "                },\n",
       "                \"emphasis\": {\n",
       "                    \"show\": true,\n",
       "                    \"textStyle\": {\n",
       "                        \"fontSize\": 12\n",
       "                    }\n",
       "                }\n",
       "            },\n",
       "            \"shading\": \"color\",\n",
       "            \"itemStyle\": {\n",
       "                \"opacity\": 1\n",
       "            }\n",
       "        }\n",
       "    ],\n",
       "    \"legend\": [\n",
       "        {\n",
       "            \"data\": [\n",
       "                \"rfm\\u5206\\u7ec4\\u7ed3\\u679c\"\n",
       "            ],\n",
       "            \"selectedMode\": \"multiple\",\n",
       "            \"show\": true,\n",
       "            \"left\": \"center\",\n",
       "            \"top\": \"top\",\n",
       "            \"orient\": \"horizontal\",\n",
       "            \"textStyle\": {\n",
       "                \"fontSize\": 12\n",
       "            }\n",
       "        }\n",
       "    ],\n",
       "    \"animation\": true,\n",
       "    \"xAxis3D\": {\n",
       "        \"nameGap\": 20,\n",
       "        \"nameTextStyle\": {\n",
       "            \"fontSize\": 16\n",
       "        },\n",
       "        \"type\": \"category\",\n",
       "        \"axisLabel\": {\n",
       "            \"margin\": 8,\n",
       "            \"interval\": \"auto\"\n",
       "        }\n",
       "    },\n",
       "    \"yAxis3D\": {\n",
       "        \"nameGap\": 20,\n",
       "        \"nameTextStyle\": {\n",
       "            \"fontSize\": 16\n",
       "        },\n",
       "        \"type\": \"category\",\n",
       "        \"axisLabel\": {\n",
       "            \"margin\": 8,\n",
       "            \"interval\": \"auto\"\n",
       "        }\n",
       "    },\n",
       "    \"zAxis3D\": {\n",
       "        \"nameGap\": 20,\n",
       "        \"nameTextStyle\": {\n",
       "            \"fontSize\": 16\n",
       "        },\n",
       "        \"type\": \"value\",\n",
       "        \"axisLabel\": {\n",
       "            \"margin\": 8\n",
       "        }\n",
       "    },\n",
       "    \"grid3D\": {\n",
       "        \"boxWidth\": 200,\n",
       "        \"boxHeight\": 80,\n",
       "        \"boxDepth\": 80,\n",
       "        \"viewControl\": {\n",
       "            \"autoRotate\": false,\n",
       "            \"autoRotateSpeed\": 10,\n",
       "            \"rotateSensitivity\": 1\n",
       "        }\n",
       "    },\n",
       "    \"color\": [\n",
       "        \"#c23531\",\n",
       "        \"#2f4554\",\n",
       "        \"#61a0a8\",\n",
       "        \"#d48265\",\n",
       "        \"#749f83\",\n",
       "        \"#ca8622\",\n",
       "        \"#bda29a\",\n",
       "        \"#6e7074\",\n",
       "        \"#546570\",\n",
       "        \"#c4ccd3\",\n",
       "        \"#f05b72\",\n",
       "        \"#ef5b9c\",\n",
       "        \"#f47920\",\n",
       "        \"#905a3d\",\n",
       "        \"#fab27b\",\n",
       "        \"#2a5caa\",\n",
       "        \"#444693\",\n",
       "        \"#726930\",\n",
       "        \"#b2d235\",\n",
       "        \"#6d8346\",\n",
       "        \"#ac6767\",\n",
       "        \"#1d953f\",\n",
       "        \"#6950a1\",\n",
       "        \"#918597\",\n",
       "        \"#f6f5ec\"\n",
       "    ],\n",
       "    \"visualMap\": {\n",
       "        \"type\": \"continuous\",\n",
       "        \"min\": 0,\n",
       "        \"max\": 14297.0,\n",
       "        \"text\": [\n",
       "            \"high\",\n",
       "            \"low\"\n",
       "        ],\n",
       "        \"textStyle\": {},\n",
       "        \"inRange\": {\n",
       "            \"color\": [\n",
       "                \"#313695\",\n",
       "                \"#4575b4\",\n",
       "                \"#74add1\",\n",
       "                \"#abd9e9\",\n",
       "                \"#e0f3f8\",\n",
       "                \"#ffffbf\",\n",
       "                \"#fee090\",\n",
       "                \"#fdae61\",\n",
       "                \"#f46d43\",\n",
       "                \"#d73027\",\n",
       "                \"#a50026\"\n",
       "            ]\n",
       "        },\n",
       "        \"calculable\": true,\n",
       "        \"splitNumber\": 5,\n",
       "        \"orient\": \"vertical\",\n",
       "        \"left\": \"left\",\n",
       "        \"top\": \"bottom\",\n",
       "        \"showLabel\": true\n",
       "    }\n",
       "};\n",
       "myChart_15e4aacd4b6e43c193b3203c3a4dece5.setOption(option_15e4aacd4b6e43c193b3203c3a4dece5);\n",
       "\n",
       "    });\n",
       "</script>\n"
      ],
      "text/plain": [
       "<pyecharts.charts.bar3D.Bar3D at 0xdf314e0>"
      ]
     },
     "execution_count": 19,
     "metadata": {},
     "output_type": "execute_result"
    }
   ],
   "source": [
    "# 显示图形\n",
    "bar3d = Bar3D(\"\", width=900, height=600)\n",
    "range_color = ['#313695', '#4575b4', '#74add1', '#abd9e9', '#e0f3f8', '#ffffbf',\n",
    "               '#fee090', '#fdae61', '#f46d43', '#d73027', '#a50026']\n",
    "bar3d.add(\n",
    "    \"rfm分组结果\",\n",
    "    \"\",\n",
    "    \"\",\n",
    "    [d.tolist() for d in display_data.values],\n",
    "    is_visualmap=True,\n",
    "    visual_range=[0, display_data['number'].max()],\n",
    "    visual_range_color=range_color,\n",
    "    grid3d_width=200,\n",
    "    grid3d_height=80,\n",
    "    grid3d_depth=80\n",
    ")\n",
    "bar3d"
   ]
  },
  {
   "cell_type": "markdown",
   "metadata": {},
   "source": [
    "# 二、案例-基于嵌套Pipeline和FeatureUnion复合数据工作流的营销响应预测"
   ]
  },
  {
   "cell_type": "markdown",
   "metadata": {},
   "source": [
    "## 说明"
   ]
  },
  {
   "cell_type": "markdown",
   "metadata": {},
   "source": [
    "- 描述：“代码实操”以及内容延伸部分源代码\n",
    "- 时间：2019-01-01\n",
    "- 作者：宋天龙（Tony Song）\n",
    "- 程序开发环境：win7 64位\n",
    "- Python版本：64位 3.7\n",
    "- 依赖库：time、numpy、pandas、sklearn、imblearn\n",
    "- 程序输入：order.xlsx\n",
    "- 程序输出：预测数据写本地文件order_predict_result.xlsx"
   ]
  },
  {
   "cell_type": "markdown",
   "metadata": {},
   "source": [
    "## 程序"
   ]
  },
  {
   "cell_type": "markdown",
   "metadata": {},
   "source": [
    "### 导入库"
   ]
  },
  {
   "cell_type": "code",
   "execution_count": 1,
   "metadata": {},
   "outputs": [],
   "source": [
    "import time\n",
    "\n",
    "import numpy as np\n",
    "import pandas as pd\n",
    "from sklearn.discriminant_analysis import LinearDiscriminantAnalysis\n",
    "from sklearn.ensemble import RandomForestClassifier, ExtraTreesClassifier\n",
    "from sklearn.feature_selection import RFE\n",
    "from sklearn.model_selection import cross_val_score, StratifiedKFold\n",
    "from sklearn.pipeline import Pipeline, FeatureUnion\n",
    "from sklearn.metrics import f1_score,accuracy_score,precision_score\n",
    "from imblearn.over_sampling import SMOTE  # 过抽样处理库SMOTE"
   ]
  },
  {
   "cell_type": "markdown",
   "metadata": {},
   "source": [
    "### 读取数据"
   ]
  },
  {
   "cell_type": "code",
   "execution_count": 2,
   "metadata": {},
   "outputs": [],
   "source": [
    "raw_data = pd.read_excel('order.xlsx', sheet_name=0)  # 读出Excel的第一个sheet"
   ]
  },
  {
   "cell_type": "markdown",
   "metadata": {},
   "source": [
    "### 数据审查"
   ]
  },
  {
   "cell_type": "code",
   "execution_count": 3,
   "metadata": {},
   "outputs": [
    {
     "name": "stdout",
     "output_type": "stream",
     "text": [
      "records:39999 features:113\n",
      "NaN records count: 39999\n",
      "NaN cols age                True\n",
      "total_pageviews    True\n",
      "edu                True\n",
      "edu_ages           True\n",
      "user_level         True\n",
      "industry           True\n",
      "act_level          True\n",
      "sex                True\n",
      "red_money          True\n",
      "region             True\n",
      "dtype: bool\n",
      "samples distribution: response\n",
      "0    30415\n",
      "1     9584\n",
      "Name: value_level, dtype: int64\n"
     ]
    }
   ],
   "source": [
    "# 查看基本状态\n",
    "print('records:{0} features:{1}'.format(raw_data.shape[0], (raw_data.shape[1] - 1)))  # 打印数据集形状\n",
    "# 查看缺失值\n",
    "print('NaN records count:',raw_data.isnull().any(axis=1).count())  # 具有缺失值的记录数\n",
    "na_cols = raw_data.isnull().any()\n",
    "print('NaN cols',na_cols[na_cols.values==True]) # 输出缺失值的列\n",
    "# 查看样本均衡情况\n",
    "print('samples distribution:',raw_data['value_level'].groupby(raw_data['response']).count())"
   ]
  },
  {
   "cell_type": "markdown",
   "metadata": {},
   "source": [
    "### 数据预处理"
   ]
  },
  {
   "cell_type": "code",
   "execution_count": 4,
   "metadata": {},
   "outputs": [
    {
     "name": "stdout",
     "output_type": "stream",
     "text": [
      "Check NA exists: 0\n"
     ]
    }
   ],
   "source": [
    "# Nan处理\n",
    "na_rules = {'age': raw_data['age'].mean(),\n",
    "            'total_pageviews': raw_data['total_pageviews'].mean(),\n",
    "            'edu': raw_data['edu'].median(),\n",
    "            'edu_ages': raw_data['edu_ages'].median(),\n",
    "            'user_level': raw_data['user_level'].median(),\n",
    "            'industry': raw_data['user_level'].median(),\n",
    "            'act_level': raw_data['act_level'].median(),\n",
    "            'sex': raw_data['sex'].median(),\n",
    "            'red_money': raw_data['red_money'].mean(),\n",
    "            'region': raw_data['region'].median()\n",
    "            }  # 字典：定义各个列数据填充方法\n",
    "raw_data = raw_data.fillna(na_rules)  # 使用指定方法填充缺失值\n",
    "print('Check NA exists:', raw_data.isnull().any().sum())  # 查找是否还有缺失值"
   ]
  },
  {
   "cell_type": "code",
   "execution_count": 5,
   "metadata": {},
   "outputs": [],
   "source": [
    "# 分割特征和目标\n",
    "num = int(0.7*raw_data.shape[0])\n",
    "X,y = raw_data.drop('response', axis=1),raw_data['response']\n",
    "X_train,X_test = X.iloc[:num,:],X.iloc[num:,:]\n",
    "y_train,y_test = y.iloc[:num],y.iloc[num:]"
   ]
  },
  {
   "cell_type": "code",
   "execution_count": 6,
   "metadata": {},
   "outputs": [],
   "source": [
    "# 样本均衡\n",
    "model_smote = SMOTE()  # 建立SMOTE模型对象\n",
    "x_smote_resampled, y_smote_resampled = model_smote.fit_sample(X_train, y_train)  # 输入数据并作过抽样处理"
   ]
  },
  {
   "cell_type": "markdown",
   "metadata": {},
   "source": [
    "### 模型训练"
   ]
  },
  {
   "cell_type": "code",
   "execution_count": 7,
   "metadata": {},
   "outputs": [],
   "source": [
    "# 建立pipeline中用到的模型对象\n",
    "model_etc = ExtraTreesClassifier()  # ExtraTree，用于EFE的模型对象\n",
    "model_rfe = RFE(model_etc)  # 使用RFE方法提取重要特征\n",
    "model_lda = LinearDiscriminantAnalysis()  # LDA模型对象\n",
    "model_rf = RandomForestClassifier()  # 分类对象"
   ]
  },
  {
   "cell_type": "code",
   "execution_count": 8,
   "metadata": {},
   "outputs": [],
   "source": [
    "# 构建带有嵌套的pipeline\n",
    "pipelines = Pipeline([\n",
    "    ('feature_union', FeatureUnion(  # 组合特征pipeline\n",
    "        transformer_list=[\n",
    "            ('model_rfe', model_rfe),  # 通过RFE中提取特征\n",
    "            ('model_lda', model_lda),  # 通过LDA提取特征\n",
    "        ],\n",
    "        transformer_weights={  # 建立不同特征模型的权重\n",
    "            'model_rfe': 1,  # RFE模型权重\n",
    "            'model_lda': 0.8,  # LDA模型权重\n",
    "        },\n",
    "    )),\n",
    "    ('model_rf', model_rf),  # rf模型对象\n",
    "])"
   ]
  },
  {
   "cell_type": "code",
   "execution_count": 9,
   "metadata": {},
   "outputs": [
    {
     "data": {
      "text/plain": [
       "Pipeline(memory=None,\n",
       "     steps=[('feature_union', FeatureUnion(n_jobs=-1,\n",
       "       transformer_list=[('model_rfe', RFE(estimator=ExtraTreesClassifier(bootstrap=False, class_weight=None, criterion='gini',\n",
       "           max_depth=None, max_features='auto', max_leaf_nodes=None,\n",
       "           min_impurity_decrease=0.0, min_impurity_spl...obs=None,\n",
       "            oob_score=False, random_state=None, verbose=0,\n",
       "            warm_start=False))])"
      ]
     },
     "execution_count": 9,
     "metadata": {},
     "output_type": "execute_result"
    }
   ],
   "source": [
    "# 设置pipe参数值\n",
    "pipelines.set_params(feature_union__model_rfe__estimator__n_estimators=20)  # ExtraTreesClassifier中n_estimators值\n",
    "pipelines.set_params(feature_union__model_rfe__estimator__n_jobs=-1)  # ExtraTreesClassifier中n_jobs值\n",
    "pipelines.set_params(feature_union__model_rfe__n_features_to_select=20)  # RFE中n_features_to_select值\n",
    "pipelines.set_params(feature_union__model_lda__n_components=1)  # LDA中n_components值\n",
    "pipelines.set_params(feature_union__n_jobs=-1)  # FeatureUnion中n_jobs值\n",
    "# project_pipeline.get_params()  # 打印pipline参数详情"
   ]
  },
  {
   "cell_type": "code",
   "execution_count": 10,
   "metadata": {},
   "outputs": [
    {
     "name": "stdout",
     "output_type": "stream",
     "text": [
      "set parameters: 10\n",
      "set parameters: 50\n",
      "set parameters: 100\n"
     ]
    }
   ],
   "source": [
    "# pipeline交叉检验\n",
    "cv = StratifiedKFold(3)  # 设置交叉检验\n",
    "score_list = list()  # 建立空列表，用于存放交叉检验得分\n",
    "time_list = list()  # 建立空列表，用于存储时间\n",
    "n_estimators = [10, 50, 100]  # 设置pipeline中rf的n_estimators值域\n",
    "for parameter in n_estimators:  # 遍历每个参数值\n",
    "    t1 = time.time()  # 记录交叉检验开始的时间\n",
    "    print('set parameters: %s' % parameter)  # 打印当前模型使用的参数\n",
    "    pipelines.set_params(model_rf__n_estimators=parameter)  # 通过管道设置分类模型参数\n",
    "    score_tmp = cross_val_score(pipelines, X_train, y_train, scoring='accuracy',cv=cv,n_jobs=-1)  # 使用交叉检验计算得分\n",
    "    time_list.append(time.time() - t1)  # 计算交叉检验时间并追加到列表\n",
    "    score_list.append(score_tmp)  # 将得分追加到列表"
   ]
  },
  {
   "cell_type": "code",
   "execution_count": 11,
   "metadata": {},
   "outputs": [
    {
     "name": "stdout",
     "output_type": "stream",
     "text": [
      "   n_estimators    time    score1    score2    score3  score_mean  score_std\n",
      "0            10  70.203  0.879794  0.875603  0.878804    0.877699   0.002964\n",
      "1            50  68.001  0.888579  0.887496  0.887913    0.888038   0.000766\n",
      "2           100  69.018  0.887508  0.891889  0.887484    0.889699   0.003098\n"
     ]
    }
   ],
   "source": [
    "# 组合交叉检验得分和详情数据\n",
    "time_pd = pd.DataFrame.from_dict({'n_estimators':n_estimators,'time':time_list})\n",
    "score_pd = pd.DataFrame(score_list,columns=[''.join(['score', str(i+1)]) for i in range(len(score_list))])\n",
    "pd_merge = pd.concat((time_pd,score_pd),axis=1) # 完整数据框\n",
    "pd_merge['score_mean'] = pd_merge.iloc[:, 2:-1].mean(axis=1)  # 计算得分均值\n",
    "pd_merge['score_std'] = pd_merge.iloc[:, 2:-2].std(axis=1)  # 计算得分std\n",
    "print(pd_merge.head())"
   ]
  },
  {
   "cell_type": "code",
   "execution_count": 12,
   "metadata": {},
   "outputs": [
    {
     "data": {
      "text/plain": [
       "Pipeline(memory=None,\n",
       "     steps=[('feature_union', FeatureUnion(n_jobs=-1,\n",
       "       transformer_list=[('model_rfe', RFE(estimator=ExtraTreesClassifier(bootstrap=False, class_weight=None, criterion='gini',\n",
       "           max_depth=None, max_features='auto', max_leaf_nodes=None,\n",
       "           min_impurity_decrease=0.0, min_impurity_spl...obs=None,\n",
       "            oob_score=False, random_state=None, verbose=0,\n",
       "            warm_start=False))])"
      ]
     },
     "execution_count": 12,
     "metadata": {},
     "output_type": "execute_result"
    }
   ],
   "source": [
    "# 将最优参数设置到模型中，并训练pipeline\n",
    "pipelines.set_params(model_rf__n_estimators=50)  # 设置最优参数值\n",
    "pipelines.fit(X_train, y_train)  # 训练pipeline模型"
   ]
  },
  {
   "cell_type": "markdown",
   "metadata": {},
   "source": [
    "### 模型效果检验"
   ]
  },
  {
   "cell_type": "code",
   "execution_count": 13,
   "metadata": {},
   "outputs": [
    {
     "name": "stdout",
     "output_type": "stream",
     "text": [
      "socres result: f1:0.7611671469740635,accuracy:0.8895,precision:0.786378861183476\n"
     ]
    }
   ],
   "source": [
    "# 模型效果检验\n",
    "pre_test = pipelines.predict(X_test)\n",
    "scores = [i(y_test,pre_test) for i in [f1_score,accuracy_score,precision_score]]\n",
    "print('socres result: f1:{0},accuracy:{1},precision:{2}'.format(scores[0],scores[1],scores[2]))"
   ]
  },
  {
   "cell_type": "markdown",
   "metadata": {},
   "source": [
    "### 预测新数据集"
   ]
  },
  {
   "cell_type": "code",
   "execution_count": 14,
   "metadata": {},
   "outputs": [],
   "source": [
    "# 读取新数据集\n",
    "new_data = pd.read_excel('order.xlsx', sheet_name=1)  # 读取要预测的数据集"
   ]
  },
  {
   "cell_type": "code",
   "execution_count": 15,
   "metadata": {},
   "outputs": [
    {
     "name": "stdout",
     "output_type": "stream",
     "text": [
      "records:8843 features:113\n",
      "NaN records count: 8843\n"
     ]
    }
   ],
   "source": [
    "# 查看基本状态\n",
    "print('records:{0} features:{1}'.format(new_data.shape[0], (new_data.shape[1])))  # 打印数据集形状\n",
    "# 缺失值处理\n",
    "print('NaN records count:',new_data.isnull().any(axis=1).count())  # 具有缺失值的记录数"
   ]
  },
  {
   "cell_type": "code",
   "execution_count": 16,
   "metadata": {},
   "outputs": [],
   "source": [
    "# 填充NA值\n",
    "new_data_fillna = new_data.fillna(na_rules)  # 使用指定方法填充缺失值"
   ]
  },
  {
   "cell_type": "code",
   "execution_count": 17,
   "metadata": {},
   "outputs": [
    {
     "name": "stdout",
     "output_type": "stream",
     "text": [
      "   labels  pro1  pro2\n",
      "0       0  0.88  0.12\n",
      "1       0  0.96  0.04\n",
      "2       0  0.96  0.04\n",
      "3       0  1.00  0.00\n",
      "4       0  0.90  0.10\n"
     ]
    }
   ],
   "source": [
    "# 预测概率\n",
    "pre_labels = pd.DataFrame(pipelines.predict(new_data_fillna), columns=['labels'])  # 获得预测标签\n",
    "pre_pro = pd.DataFrame(pipelines.predict_proba(new_data_fillna), columns=['pro1', 'pro2'])  # 获得预测概率\n",
    "predict_pd = pd.concat((pre_labels, pre_pro), axis=1)  # 合并数据\n",
    "print(predict_pd.head())  # 打印前2条结果"
   ]
  },
  {
   "cell_type": "markdown",
   "metadata": {},
   "source": [
    "### 保存到文件"
   ]
  },
  {
   "cell_type": "code",
   "execution_count": 18,
   "metadata": {},
   "outputs": [],
   "source": [
    "writer = pd.ExcelWriter('order_predict_result.xlsx')  # 创建写入文件对象\n",
    "predict_pd.to_excel(writer, 'Sheet1')  # 将数据写入sheet1\n",
    "writer.save()\n",
    "writer.close()"
   ]
  },
  {
   "cell_type": "code",
   "execution_count": null,
   "metadata": {},
   "outputs": [],
   "source": []
  }
 ],
 "metadata": {
  "kernelspec": {
   "display_name": "Python 3",
   "language": "python",
   "name": "python3"
  },
  "language_info": {
   "codemirror_mode": {
    "name": "ipython",
    "version": 3
   },
   "file_extension": ".py",
   "mimetype": "text/x-python",
   "name": "python",
   "nbconvert_exporter": "python",
   "pygments_lexer": "ipython3",
   "version": "3.7.0"
  }
 },
 "nbformat": 4,
 "nbformat_minor": 2
}
